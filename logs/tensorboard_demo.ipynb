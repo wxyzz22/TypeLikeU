{
 "cells": [
  {
   "cell_type": "code",
   "execution_count": 6,
   "id": "5f8b131d-ff1c-455b-89da-085013fed072",
   "metadata": {},
   "outputs": [],
   "source": [
    "# %load_ext tensorboard\n",
    "\n",
    "# # Clear any logs from previous runs\n",
    "# rm -rf ./logs/\n",
    "\n",
    "# log_dir = \"logs/fit/\" + datetime.datetime.now().strftime(\"%Y%m%d-%H%M%S\")\n",
    "# tensorboard_callback = tf.keras.callbacks.TensorBoard(log_dir=log_dir, histogram_freq=1)\n",
    "\n",
    "# %tensorboard --logdir logs/fit\n",
    "\n",
    "# from tensorboard import notebook\n",
    "# notebook.list() # View open TensorBoard instances\n",
    "\n",
    "# # Control TensorBoard display. If no port is provided, \n",
    "# # the most recently launched TensorBoard is used\n",
    "# notebook.display(port=6006, height=1000)\n",
    "# # !kill portPID#"
   ]
  },
  {
   "cell_type": "code",
   "execution_count": 4,
   "id": "3ee76920-c7dd-49c6-884d-f7425303addf",
   "metadata": {},
   "outputs": [
    {
     "name": "stdout",
     "output_type": "stream",
     "text": [
      "The tensorboard extension is already loaded. To reload it, use:\n",
      "  %reload_ext tensorboard\n"
     ]
    }
   ],
   "source": [
    "%load_ext tensorboard"
   ]
  },
  {
   "cell_type": "code",
   "execution_count": 9,
   "id": "6b6cbcc2-591f-4c35-af2c-8cf1110f8061",
   "metadata": {},
   "outputs": [
    {
     "name": "stdout",
     "output_type": "stream",
     "text": [
      "No known TensorBoard instances running.\n"
     ]
    }
   ],
   "source": [
    "from tensorboard import notebook\n",
    "notebook.list()         # View open TensorBoard instances"
   ]
  },
  {
   "cell_type": "code",
   "execution_count": 8,
   "id": "bcbd06fa-6fa8-45e8-84e7-09cfe82b99a2",
   "metadata": {},
   "outputs": [],
   "source": [
    "!kill 8651"
   ]
  },
  {
   "cell_type": "code",
   "execution_count": null,
   "id": "e05c259e-444d-4211-bfce-f8946158a69b",
   "metadata": {},
   "outputs": [],
   "source": []
  },
  {
   "cell_type": "code",
   "execution_count": null,
   "id": "0afe7823-ce81-46b5-8fef-37431d0ab55b",
   "metadata": {},
   "outputs": [],
   "source": []
  }
 ],
 "metadata": {
  "kernelspec": {
   "display_name": "Python 3 (ipykernel)",
   "language": "python",
   "name": "python3"
  },
  "language_info": {
   "codemirror_mode": {
    "name": "ipython",
    "version": 3
   },
   "file_extension": ".py",
   "mimetype": "text/x-python",
   "name": "python",
   "nbconvert_exporter": "python",
   "pygments_lexer": "ipython3",
   "version": "3.8.13"
  }
 },
 "nbformat": 4,
 "nbformat_minor": 5
}
