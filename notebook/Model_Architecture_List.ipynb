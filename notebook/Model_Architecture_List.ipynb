{
 "cells": [
  {
   "cell_type": "code",
   "execution_count": 1,
   "metadata": {
    "id": "r3HJE--xLyH8"
   },
   "outputs": [],
   "source": [
    "import tensorflow as tf\n",
    "import tensorflow.keras as keras\n",
    "from tensorflow.keras import layers, models"
   ]
  },
  {
   "cell_type": "markdown",
   "metadata": {
    "id": "3wySPtnc4Qz2"
   },
   "source": [
    "# RNN (`TypeNet`)"
   ]
  },
  {
   "cell_type": "code",
   "execution_count": null,
   "metadata": {
    "id": "e_uxs1dIKw9E"
   },
   "outputs": [],
   "source": [
    "def create_model_1(feature_dim, \n",
    "                   output_dim, \n",
    "                   model_name='KDS_TypeNet-GRU-64_None_Dense-60-30-2'):\n",
    "    inputA = keras.layers.Input(shape=[None, feature_dim], name='InputA')\n",
    "    inputB = keras.layers.Input(shape=[feature_dim-output_dim], name='InputB')\n",
    "    \n",
    "    batch_1 = keras.layers.BatchNormalization()(inputA)\n",
    "    gru_1 = keras.layers.GRU(64, return_sequences=True)(batch_1)\n",
    "    dropout_1 = keras.layers.Dropout(0.5)(gru_1)\n",
    "    batch_2 = keras.layers.BatchNormalization()(dropout_1)\n",
    "    gru_out = keras.layers.GRU(64)(batch_2)\n",
    "    \n",
    "    concat = keras.layers.concatenate([gru_out, inputB])\n",
    "    dense_1 = keras.layers.Dense(60)(concat)\n",
    "    concat_output = keras.layers.Dense(30)(dense_1)\n",
    "    output = keras.layers.Dense(output_dim)(concat_output)\n",
    "    model = keras.Model(inputs=[inputA, inputB], outputs=[output], name=model_name)\n",
    "    return model"
   ]
  },
  {
   "cell_type": "code",
   "execution_count": null,
   "metadata": {
    "id": "tA360qbKKw6d"
   },
   "outputs": [],
   "source": [
    "def create_model_2(feature_dim, \n",
    "                   output_dim, \n",
    "                   model_name='KDS_TypeNet-GRU-64-dropout_None_Dense-60-30-2-Dropout'):\n",
    "    inputA = keras.layers.Input(shape=[None, feature_dim], name='InputA')\n",
    "    inputB = keras.layers.Input(shape=[feature_dim-output_dim], name='InputB')\n",
    "    \n",
    "    batch_1 = keras.layers.BatchNormalization()(inputA)\n",
    "    gru_1 = keras.layers.GRU(64, return_sequences=True, recurrent_dropout=0.2)(batch_1)\n",
    "    dropout_1 = keras.layers.Dropout(0.5)(gru_1)\n",
    "    batch_2 = keras.layers.BatchNormalization()(dropout_1)\n",
    "    gru_out = keras.layers.GRU(64, recurrent_dropout=0.2)(batch_2)\n",
    "    \n",
    "    concat = keras.layers.concatenate([gru_out, inputB])\n",
    "    dense_1 = keras.layers.Dense(60)(concat)\n",
    "    dropout_2 = keras.layers.Dropout(0.5)(dense_1)\n",
    "    concat_output = keras.layers.Dense(30)(dropout_2)\n",
    "    output = keras.layers.Dense(output_dim)(concat_output)\n",
    "    model = keras.Model(inputs=[inputA, inputB], outputs=[output], name=model_name)\n",
    "    return model"
   ]
  },
  {
   "cell_type": "markdown",
   "metadata": {
    "id": "ygyOprp0FooW"
   },
   "source": [
    "> ?? **WHY** adding drop out layer and recurrent dropout will slow the training down so much? (or is it just because of Colab internet?)\n",
    "\n",
    "> **ANSWER**: this seems to be the problem contributing from `recurrent_dropout`, which prevents Colab to use `cuDNN` kernels to speed up training"
   ]
  },
  {
   "cell_type": "markdown",
   "metadata": {
    "id": "AP8qMc5fKw4I"
   },
   "source": [
    "# CNN"
   ]
  },
  {
   "cell_type": "code",
   "execution_count": null,
   "metadata": {
    "id": "GmiICeRwKwtf"
   },
   "outputs": [],
   "source": [
    "def create_model_3(inputA_feature_dim,\n",
    "                   inputB_feature_dim,\n",
    "                   output_dim,\n",
    "                   mat_length,\n",
    "                   model_name='KDI-s_KDI-xs_Dense-32-2'):\n",
    "    inputA = keras.layers.Input(shape=[mat_length, mat_length, inputA_feature_dim], name='inputA')\n",
    "    inputB = keras.layers.Input(shape=[mat_length, mat_length, inputB_feature_dim], name='inputB')\n",
    "    \n",
    "    user = keras.layers.Conv2D(32, (3, 3), 2, activation='relu')(inputA)\n",
    "    user = keras.layers.Conv2D(32, (3, 3), activation='relu')(user)\n",
    "    user = keras.layers.MaxPooling2D((2, 2))(user)\n",
    "    user = keras.layers.Conv2D(64, (3, 3), activation='relu')(user)\n",
    "    user = keras.layers.Conv2D(64, (3, 3), activation='relu')(user)\n",
    "    user = keras.layers.MaxPooling2D((2, 2))(user)\n",
    "    user = keras.layers.Flatten()(user)\n",
    "    user = keras.layers.Dense(64, activation='relu')(user)\n",
    "    \n",
    "    keycode = keras.layers.Conv2D(16, (3, 3), 2, activation='relu')(inputB)\n",
    "    keycode = keras.layers.Conv2D(16, (3, 3), activation='relu')(keycode)\n",
    "    keycode = keras.layers.MaxPooling2D((2, 2))(keycode)\n",
    "    keycode = keras.layers.Conv2D(32, (3, 3), activation='relu')(keycode)\n",
    "    keycode = keras.layers.Conv2D(32, (3, 3), activation='relu')(keycode)\n",
    "    keycode = keras.layers.MaxPooling2D((2, 2))(keycode)\n",
    "    keycode = keras.layers.Flatten()(keycode)\n",
    "    keycode = keras.layers.Dense(32, activation='relu')(keycode)\n",
    "\n",
    "    concat = keras.layers.concatenate([user, keycode])\n",
    "    concat = keras.layers.Dense(32, activity_regularizer=tf.keras.regularizers.L2(0.001))(concat)\n",
    "    output = keras.layers.Dense(output_dim, activation='relu')(concat)\n",
    "\n",
    "    model = keras.Model(inputs=[inputA, inputB], outputs=[output])\n",
    "    return model"
   ]
  },
  {
   "cell_type": "code",
   "execution_count": null,
   "metadata": {
    "id": "k2QPf7GpGocf"
   },
   "outputs": [],
   "source": [
    "def create_model_4(inputA_feature_dim,\n",
    "                   inputB_feature_dim,\n",
    "                   output_dim,\n",
    "                   mat_length, \n",
    "                   model_name='KDI_LeNet5_Dense-64-2'):\n",
    "    inputA = keras.layers.Input(shape=[mat_length, mat_length, inputA_feature_dim], name='inputA')\n",
    "    inputB = keras.layers.Input(shape=[mat_length, mat_length, inputB_feature_dim], name='inputB')\n",
    "    \n",
    "    user = keras.layers.Conv2D(32, (3, 3), 2, activation='relu')(inputA)\n",
    "    user = keras.layers.Conv2D(32, (3, 3), activation='relu')(user)\n",
    "    user = keras.layers.AveragePooling2D()(user)\n",
    "    user = keras.layers.Conv2D(64, (3, 3), activation='relu')(user)\n",
    "    user = keras.layers.Conv2D(64, (3, 3), activation='relu')(user)\n",
    "    user = keras.layers.Flatten()(user)\n",
    "    user = keras.layers.Dense(64)(user)\n",
    "\n",
    "    keycode = keras.layers.Conv2D(32, (3, 3), activation='relu')(inputB)\n",
    "    keycode = keras.layers.AveragePooling2D()(keycode)\n",
    "    keycode = keras.layers.Conv2D(32, (3, 3), activation='relu')(keycode)\n",
    "    keycode = keras.layers.AveragePooling2D()(keycode)\n",
    "    keycode = keras.layers.Conv2D(64, (3, 3), activation='relu')(keycode)\n",
    "    keycode = keras.layers.AveragePooling2D()(keycode)\n",
    "    keycode = keras.layers.Conv2D(64, (3, 3), activation='relu')(keycode)\n",
    "    keycode = keras.layers.Flatten()(keycode)\n",
    "    keycode = keras.layers.Dense(64)(keycode)\n",
    "\n",
    "    concat = keras.layers.concatenate([user, keycode])\n",
    "    concat = keras.layers.Dense(64, activity_regularizer=tf.keras.regularizers.L2(0.001))(concat)\n",
    "    output = keras.layers.Dense(output_dim, activation='relu')(concat)\n",
    "\n",
    "    model = keras.Model(inputs=[inputA, inputB], outputs=[output])\n",
    "    return model"
   ]
  },
  {
   "cell_type": "code",
   "execution_count": null,
   "metadata": {
    "id": "mGqyG7tgAhlP"
   },
   "outputs": [],
   "source": [
    "def create_model_5(inputA_feature_dim,\n",
    "                   inputB_feature_dim,\n",
    "                   output_dim,\n",
    "                   mat_length,\n",
    "                   l1_reg,\n",
    "                   model_name='KDI-s_KDI-xs_Dense-32-2-Reg'):\n",
    "    inputA = keras.layers.Input(shape=[mat_length, mat_length, inputA_feature_dim], name='inputA')\n",
    "    inputB = keras.layers.Input(shape=[mat_length, mat_length, inputB_feature_dim], name='inputB')\n",
    "    \n",
    "    user = keras.layers.Conv2D(32, (3, 3), 2, activation='relu')(inputA)\n",
    "    user = keras.layers.Conv2D(32, (3, 3), activation='relu')(user)\n",
    "    user = keras.layers.MaxPooling2D((2, 2))(user)\n",
    "    user = keras.layers.Conv2D(64, (3, 3), activation='relu', kernel_regularizer=keras.regularizers.L1(l1=l1_reg))(user)\n",
    "    user = keras.layers.Conv2D(64, (3, 3), activation='relu', kernel_regularizer=keras.regularizers.L1(l1=l1_reg))(user)\n",
    "    user = keras.layers.MaxPooling2D((2, 2))(user)\n",
    "    user = keras.layers.Flatten()(user)\n",
    "    user = keras.layers.Dense(64, activation='relu')(user)\n",
    "    \n",
    "    keycode = keras.layers.Conv2D(16, (3, 3), 2, activation='relu')(inputB)\n",
    "    keycode = keras.layers.Conv2D(16, (3, 3), activation='relu')(keycode)\n",
    "    keycode = keras.layers.MaxPooling2D((2, 2))(keycode)\n",
    "    keycode = keras.layers.Conv2D(32, (3, 3), activation='relu', kernel_regularizer=keras.regularizers.L1(l1=l1_reg))(keycode)\n",
    "    keycode = keras.layers.Conv2D(32, (3, 3), activation='relu', kernel_regularizer=keras.regularizers.L1(l1=l1_reg))(keycode)\n",
    "    keycode = keras.layers.MaxPooling2D((2, 2))(keycode)\n",
    "    keycode = keras.layers.Flatten()(keycode)\n",
    "    keycode = keras.layers.Dense(32, activation='relu')(keycode)\n",
    "\n",
    "    concat = keras.layers.concatenate([user, keycode])\n",
    "    concat = keras.layers.Dense(32, activity_regularizer=tf.keras.regularizers.L1(l1_reg))(concat)\n",
    "    output = keras.layers.Dense(output_dim, activation='relu')(concat)\n",
    "\n",
    "    model = keras.Model(inputs=[inputA, inputB], outputs=[output])\n",
    "    return model"
   ]
  },
  {
   "cell_type": "code",
   "execution_count": null,
   "metadata": {
    "id": "VrZEOXiVAhia"
   },
   "outputs": [],
   "source": [
    "def create_model_6(inputA_feature_dim,\n",
    "                   inputB_feature_dim,\n",
    "                   output_dim,\n",
    "                   mat_length, \n",
    "                   l1_reg,\n",
    "                   model_name='KDI_LeNet5_Dense-64-2-Reg'):\n",
    "    inputA = keras.layers.Input(shape=[mat_length, mat_length, inputA_feature_dim], name='inputA')\n",
    "    inputB = keras.layers.Input(shape=[mat_length, mat_length, inputB_feature_dim], name='inputB')\n",
    "    \n",
    "    user = keras.layers.Conv2D(32, (3, 3), 2, activation='relu')(inputA)\n",
    "    user = keras.layers.Conv2D(32, (3, 3), activation='relu')(user)\n",
    "    user = keras.layers.AveragePooling2D()(user)\n",
    "    user = keras.layers.Conv2D(64, (3, 3), activation='relu', kernel_regularizer=keras.regularizers.L1(l1=l1_reg))(user)\n",
    "    user = keras.layers.Conv2D(64, (3, 3), activation='relu', kernel_regularizer=keras.regularizers.L1(l1=l1_reg))(user)\n",
    "    user = keras.layers.Flatten()(user)\n",
    "    user = keras.layers.Dense(64)(user)\n",
    "\n",
    "    keycode = keras.layers.Conv2D(32, (3, 3), activation='relu')(inputB)\n",
    "    keycode = keras.layers.AveragePooling2D()(keycode)\n",
    "    keycode = keras.layers.Conv2D(32, (3, 3), activation='relu')(keycode)\n",
    "    keycode = keras.layers.AveragePooling2D()(keycode)\n",
    "    keycode = keras.layers.Conv2D(64, (3, 3), activation='relu', kernel_regularizer=keras.regularizers.L1(l1=l1_reg))(keycode)\n",
    "    keycode = keras.layers.AveragePooling2D()(keycode)\n",
    "    keycode = keras.layers.Conv2D(64, (3, 3), activation='relu', kernel_regularizer=keras.regularizers.L1(l1=l1_reg))(keycode)\n",
    "    keycode = keras.layers.Flatten()(keycode)\n",
    "    keycode = keras.layers.Dense(64)(keycode)\n",
    "\n",
    "    concat = keras.layers.concatenate([user, keycode])\n",
    "    concat = keras.layers.Dense(64, activity_regularizer=tf.keras.regularizers.L1(l1=l1_reg))(concat)\n",
    "    output = keras.layers.Dense(output_dim, activation='relu')(concat)\n",
    "\n",
    "    model = keras.Model(inputs=[inputA, inputB], outputs=[output])\n",
    "    return model"
   ]
  },
  {
   "cell_type": "code",
   "execution_count": null,
   "metadata": {
    "id": "TJ9ZM6MYFr77"
   },
   "outputs": [],
   "source": [
    "def create_model_7(inputA_feature_dim,\n",
    "                   inputB_feature_dim,\n",
    "                   output_dim,\n",
    "                   mat_length, \n",
    "                   l1_reg,\n",
    "                   model_name='CNN_RNN_reg'):\n",
    "    inputA = keras.layers.Input(shape=[mat_length, mat_length, inputA_feature_dim], name='inputA')\n",
    "    inputB = keras.layers.Input(shape=[mat_length, mat_length, inputB_feature_dim], name='inputB')\n",
    "    \n",
    "    user = keras.layers.Conv2D(32, (3, 3), activation='relu')(inputA)\n",
    "    user = keras.layers.MaxPooling2D()(user)\n",
    "    user = keras.layers.Conv2D(32, (3, 3), activation='relu', kernel_regularizer=keras.regularizers.L1(l1=l1_reg))(user)\n",
    "    user = keras.layers.AveragePooling2D()(user)\n",
    "    user = keras.layers.Conv2D(64, (3, 3), activation='relu', kernel_regularizer=keras.regularizers.L1(l1=l1_reg))(user)\n",
    "    user = keras.layers.Reshape((-1, 64))(user)\n",
    "\n",
    "    keycode = keras.layers.Conv2D(32, (3, 3), activation='relu')(inputB)\n",
    "    keycode = keras.layers.MaxPooling2D()(keycode)\n",
    "    keycode = keras.layers.Conv2D(32, (3, 3), activation='relu')(keycode)\n",
    "    keycode = keras.layers.MaxPooling2D()(keycode)\n",
    "    keycode = keras.layers.Conv2D(64, (3, 3), activation='relu', kernel_regularizer=keras.regularizers.L1(l1=l1_reg))(keycode)\n",
    "    keycode = keras.layers.Reshape((-1, 64))(keycode)\n",
    "\n",
    "    concat = keras.layers.concatenate([user, keycode])\n",
    "    concat = keras.layers.GRU(128, activation='relu')(concat)\n",
    "    concat = keras.layers.Dense(64, activation='relu', activity_regularizer=tf.keras.regularizers.L1(l1=l1_reg))(concat)\n",
    "    output = keras.layers.Dense(output_dim, activation='relu')(concat)\n",
    "\n",
    "    model = keras.Model(inputs=[inputA, inputB], outputs=[output])\n",
    "    return model"
   ]
  },
  {
   "cell_type": "code",
   "execution_count": 7,
   "metadata": {
    "id": "EP07GfwU0eeD"
   },
   "outputs": [],
   "source": [
    "def create_model_8(inputA_feature_dim,\n",
    "                   inputB_feature_dim,\n",
    "                   output_dim,\n",
    "                   mat_length,\n",
    "                   model_name='KDI-s_KDI-xs_Dense-nonReLU'):\n",
    "    inputA = keras.layers.Input(shape=[mat_length, mat_length, inputA_feature_dim], name='inputA')\n",
    "    inputB = keras.layers.Input(shape=[mat_length, mat_length, inputB_feature_dim], name='inputB')\n",
    "    \n",
    "    user = keras.layers.Conv2D(32, (3, 3), 2)(inputA)\n",
    "    user = keras.layers.Conv2D(32, (3, 3))(user)\n",
    "    user = keras.layers.MaxPooling2D((2, 2))(user)\n",
    "    user = keras.layers.Conv2D(64, (3, 3))(user)\n",
    "    user = keras.layers.Conv2D(64, (3, 3))(user)\n",
    "    user = keras.layers.MaxPooling2D((2, 2))(user)\n",
    "    user = keras.layers.Flatten()(user)\n",
    "    # user = keras.layers.Dense(64, activation='relu')(user)\n",
    "    \n",
    "    keycode = keras.layers.Conv2D(16, (3, 3), 2)(inputB)\n",
    "    keycode = keras.layers.Conv2D(16, (3, 3))(keycode)\n",
    "    keycode = keras.layers.MaxPooling2D((2, 2))(keycode)\n",
    "    keycode = keras.layers.Conv2D(32, (3, 3))(keycode)\n",
    "    keycode = keras.layers.Conv2D(32, (3, 3))(keycode)\n",
    "    keycode = keras.layers.MaxPooling2D((2, 2))(keycode)\n",
    "    keycode = keras.layers.Flatten()(keycode)\n",
    "    # keycode = keras.layers.Dense(32, activation='relu')(keycode)\n",
    "\n",
    "    concat = keras.layers.concatenate([user, keycode])\n",
    "    concat = keras.layers.Dense(128, activity_regularizer=tf.keras.regularizers.L1(0.001))(concat)\n",
    "    concat = keras.layers.Dense(32)(concat)\n",
    "    output = keras.layers.Dense(output_dim)(concat)\n",
    "\n",
    "    model = keras.Model(inputs=[inputA, inputB], outputs=[output])\n",
    "    return model\n"
   ]
  },
  {
   "cell_type": "code",
   "execution_count": 12,
   "metadata": {
    "id": "y-JK27Ds5Syc"
   },
   "outputs": [],
   "source": [
    "def create_model_9(inputA_feature_dim,\n",
    "                   inputB_feature_dim,\n",
    "                   output_dim,\n",
    "                   mat_length,\n",
    "                   model_name='KDI-s_KDI-xs_Dense-ReLU'):\n",
    "    inputA = keras.layers.Input(shape=[mat_length, mat_length, inputA_feature_dim], name='inputA')\n",
    "    inputB = keras.layers.Input(shape=[mat_length, mat_length, inputB_feature_dim], name='inputB')\n",
    "    \n",
    "    user = keras.layers.Conv2D(32, (3, 3), 2, activation='relu')(inputA)\n",
    "    user = keras.layers.Conv2D(32, (3, 3), activation='relu')(user)\n",
    "    user = keras.layers.MaxPooling2D((2, 2))(user)\n",
    "    user = keras.layers.Conv2D(64, (3, 3), activation='relu')(user)\n",
    "    user = keras.layers.Conv2D(64, (3, 3), activation='relu')(user)\n",
    "    user = keras.layers.MaxPooling2D((2, 2))(user)\n",
    "    user = keras.layers.Flatten()(user)\n",
    "    user = keras.layers.Dense(128, activation='relu')(user)\n",
    "    \n",
    "    keycode = keras.layers.Conv2D(16, (3, 3), 2, activation='relu')(inputB)\n",
    "    keycode = keras.layers.Conv2D(16, (3, 3), activation='relu')(keycode)\n",
    "    keycode = keras.layers.MaxPooling2D((2, 2))(keycode)\n",
    "    keycode = keras.layers.Conv2D(32, (3, 3), activation='relu')(keycode)\n",
    "    keycode = keras.layers.Conv2D(32, (3, 3), activation='relu')(keycode)\n",
    "    keycode = keras.layers.MaxPooling2D((2, 2))(keycode)\n",
    "    keycode = keras.layers.Flatten()(keycode)\n",
    "    keycode = keras.layers.Dense(64, activation='relu')(keycode)\n",
    "\n",
    "    concat = keras.layers.concatenate([user, keycode])\n",
    "    concat = keras.layers.Dense(128, activity_regularizer=tf.keras.regularizers.L1(0.001), activation='relu')(concat)\n",
    "    concat = keras.layers.Dense(32)(concat)\n",
    "    output = keras.layers.Dense(output_dim)(concat)\n",
    "\n",
    "    model = keras.Model(inputs=[inputA, inputB], outputs=[output])\n",
    "    return model"
   ]
  },
  {
   "cell_type": "code",
   "execution_count": 14,
   "metadata": {
    "id": "KMiSXguM9Q7z"
   },
   "outputs": [],
   "source": [
    "def create_model_10(inputA_feature_dim,\n",
    "                   inputB_feature_dim,\n",
    "                   output_dim,\n",
    "                   mat_length,\n",
    "                   model_name='KDI-s_KDI-xs_Dense-ReLU-l2reg'):\n",
    "    inputA = keras.layers.Input(shape=[mat_length, mat_length, inputA_feature_dim], name='inputA')\n",
    "    inputB = keras.layers.Input(shape=[mat_length, mat_length, inputB_feature_dim], name='inputB')\n",
    "    \n",
    "    user = keras.layers.Conv2D(32, (3, 3), 2, activation='relu')(inputA)\n",
    "    user = keras.layers.Conv2D(32, (3, 3), activation='relu')(user)\n",
    "    user = keras.layers.MaxPooling2D((2, 2))(user)\n",
    "    user = keras.layers.Conv2D(64, (3, 3), activation='relu')(user)\n",
    "    user = keras.layers.Conv2D(64, (3, 3), activation='relu')(user)\n",
    "    user = keras.layers.MaxPooling2D((2, 2))(user)\n",
    "    user = keras.layers.Flatten()(user)\n",
    "    user = keras.layers.Dense(128, activation='relu')(user)\n",
    "    \n",
    "    keycode = keras.layers.Conv2D(16, (3, 3), 2, activation='relu')(inputB)\n",
    "    keycode = keras.layers.Conv2D(16, (3, 3), activation='relu')(keycode)\n",
    "    keycode = keras.layers.MaxPooling2D((2, 2))(keycode)\n",
    "    keycode = keras.layers.Conv2D(32, (3, 3), activation='relu')(keycode)\n",
    "    keycode = keras.layers.Conv2D(32, (3, 3), activation='relu')(keycode)\n",
    "    keycode = keras.layers.MaxPooling2D((2, 2))(keycode)\n",
    "    keycode = keras.layers.Flatten()(keycode)\n",
    "    keycode = keras.layers.Dense(64, activation='relu')(keycode)\n",
    "\n",
    "    concat = keras.layers.concatenate([user, keycode])\n",
    "    concat = keras.layers.Dense(128, activity_regularizer=tf.keras.regularizers.L2(0.0001), activation='relu')(concat)\n",
    "    concat = keras.layers.Dense(64, activation='relu')(concat)\n",
    "    concat = keras.layers.Dense(32)(concat)\n",
    "    output = keras.layers.Dense(output_dim)(concat)\n",
    "\n",
    "    model = keras.Model(inputs=[inputA, inputB], outputs=[output])\n",
    "    return model"
   ]
  },
  {
   "cell_type": "code",
   "execution_count": null,
   "metadata": {
    "id": "nUdcA4a4A1DA"
   },
   "outputs": [],
   "source": [
    "def create_model_11(inputA_feature_dim,\n",
    "                   inputB_feature_dim,\n",
    "                   output_dim,\n",
    "                   mat_length,\n",
    "                   model_name='KDI-s_KDI-xs_Dense-ReLU-l1l2reg'):\n",
    "    inputA = keras.layers.Input(shape=[mat_length, mat_length, inputA_feature_dim], name='inputA')\n",
    "    inputB = keras.layers.Input(shape=[mat_length, mat_length, inputB_feature_dim], name='inputB')\n",
    "    \n",
    "    user = keras.layers.Conv2D(32, (3, 3), 2, activation='relu')(inputA)\n",
    "    user = keras.layers.Conv2D(32, (3, 3), activation='relu')(user)\n",
    "    user = keras.layers.MaxPooling2D((2, 2))(user)\n",
    "    user = keras.layers.Conv2D(64, (3, 3), activation='relu')(user)\n",
    "    user = keras.layers.Conv2D(64, (3, 3), activation='relu')(user)\n",
    "    user = keras.layers.MaxPooling2D((2, 2))(user)\n",
    "    user = keras.layers.Flatten()(user)\n",
    "    user = keras.layers.Dense(128, activation='relu')(user)\n",
    "    \n",
    "    keycode = keras.layers.Conv2D(16, (3, 3), 2, activation='relu')(inputB)\n",
    "    keycode = keras.layers.Conv2D(16, (3, 3), activation='relu')(keycode)\n",
    "    keycode = keras.layers.MaxPooling2D((2, 2))(keycode)\n",
    "    keycode = keras.layers.Conv2D(32, (3, 3), activation='relu')(keycode)\n",
    "    keycode = keras.layers.Conv2D(32, (3, 3), activation='relu')(keycode)\n",
    "    keycode = keras.layers.MaxPooling2D((2, 2))(keycode)\n",
    "    keycode = keras.layers.Flatten()(keycode)\n",
    "    keycode = keras.layers.Dense(64, activation='relu')(keycode)\n",
    "\n",
    "    concat = keras.layers.concatenate([user, keycode])\n",
    "    concat = keras.layers.Dense(128, activity_regularizer=tf.keras.regularizers.L1L2(0.0001), activation='relu')(concat)\n",
    "    concat = keras.layers.Dense(64, activation='relu')(concat)\n",
    "    concat = keras.layers.Dense(32, activation='relu')(concat)\n",
    "    output = keras.layers.Dense(output_dim, activation='relu')(concat)\n",
    "\n",
    "    model = keras.Model(inputs=[inputA, inputB], outputs=[output])\n",
    "    return model"
   ]
  },
  {
   "cell_type": "code",
   "execution_count": 30,
   "metadata": {
    "id": "J_hfw3GqCvb6"
   },
   "outputs": [],
   "source": [
    "def create_model_12(inputA_feature_dim,\n",
    "                   inputB_feature_dim,\n",
    "                   output_dim,\n",
    "                   mat_length,\n",
    "                   model_name='KDI-s_KDI-xs_Dense-ReLU-noreg'):\n",
    "    inputA = keras.layers.Input(shape=[mat_length, mat_length, inputA_feature_dim], name='inputA')\n",
    "    inputB = keras.layers.Input(shape=[mat_length, mat_length, inputB_feature_dim], name='inputB')\n",
    "    \n",
    "    user = keras.layers.Conv2D(32, (3, 3), 2, activation='relu')(inputA)\n",
    "    user = keras.layers.Conv2D(32, (3, 3), activation='relu')(user)\n",
    "    user = keras.layers.MaxPooling2D((2, 2))(user)\n",
    "    user = keras.layers.Conv2D(64, (3, 3), activation='relu')(user)\n",
    "    user = keras.layers.Conv2D(64, (3, 3), activation='relu')(user)\n",
    "    user = keras.layers.MaxPooling2D((2, 2))(user)\n",
    "    user = keras.layers.Flatten()(user)\n",
    "    user = keras.layers.Dense(128, activation='relu')(user)\n",
    "    user = keras.layers.Dense(64, activation='relu')(user)\n",
    "    user = keras.layers.Dense(32, activation='relu')(user)\n",
    "    \n",
    "    keycode = keras.layers.Conv2D(16, (3, 3), 2, activation='relu')(inputB)\n",
    "    keycode = keras.layers.Conv2D(16, (3, 3), activation='relu')(keycode)\n",
    "    keycode = keras.layers.MaxPooling2D((2, 2))(keycode)\n",
    "    keycode = keras.layers.Conv2D(32, (3, 3), activation='relu')(keycode)\n",
    "    keycode = keras.layers.Conv2D(64, (3, 3), activation='relu')(keycode)\n",
    "    keycode = keras.layers.MaxPooling2D((2, 2))(keycode)\n",
    "    keycode = keras.layers.Flatten()(keycode)\n",
    "    keycode = keras.layers.Dense(128, activation='relu')(keycode)\n",
    "\n",
    "    concat = keras.layers.concatenate([user, keycode])\n",
    "    concat = keras.layers.Dense(80, activation='relu')(concat)\n",
    "    concat = keras.layers.Dense(40, activation='relu')(concat)\n",
    "    concat = keras.layers.Dense(20, activation='relu')(concat)\n",
    "    output = keras.layers.Dense(output_dim, activation='relu')(concat)\n",
    "\n",
    "    model = keras.Model(inputs=[inputA, inputB], outputs=[output])\n",
    "    return model"
   ]
  },
  {
   "cell_type": "code",
   "execution_count": 8,
   "metadata": {
    "id": "W4X_tlhcE6NQ"
   },
   "outputs": [],
   "source": [
    "def create_model_13(inputA_feature_dim,\n",
    "                   inputB_feature_dim,\n",
    "                   output_dim,\n",
    "                   mat_length,\n",
    "                   model_name='KDI-1s_KDI-xs_GRU'):\n",
    "    inputA = keras.layers.Input(shape=[mat_length, mat_length, inputA_feature_dim], name='inputA')\n",
    "    inputB = keras.layers.Input(shape=[mat_length, mat_length, inputB_feature_dim], name='inputB')\n",
    "    \n",
    "    user = keras.layers.Conv2D(32, (3, 3), 2, activation='relu')(inputA)\n",
    "    user = keras.layers.MaxPooling2D((2, 2))(user)\n",
    "    user = keras.layers.Conv2D(64, (3, 3), activation='relu')(user)\n",
    "    user = keras.layers.MaxPooling2D((2, 2))(user)\n",
    "    user = keras.layers.Conv2D(128, (3, 3), activation='relu')(user)\n",
    "    user = keras.layers.Flatten()(user)\n",
    "    user = keras.layers.Dense(128, activation='relu')(user)\n",
    "    user = keras.layers.Dense(32, activation='relu')(user)\n",
    "    user = keras.layers.Dense(8, activation='relu')(user)\n",
    "    user = tf.repeat(tf.expand_dims(user, axis=1), 49, axis=1)\n",
    "    \n",
    "    keycode = keras.layers.Conv2D(32, (3, 3), activation='relu')(inputB)\n",
    "    keycode = keras.layers.Conv2D(32, (3, 3), activation='relu')(keycode)\n",
    "    keycode = keras.layers.MaxPooling2D((2, 2))(keycode)\n",
    "    keycode = keras.layers.Conv2D(64, (3, 3), activation='relu')(keycode)\n",
    "    keycode = keras.layers.Conv2D(64, (3, 3), activation='relu')(keycode)\n",
    "    keycode = keras.layers.MaxPooling2D((2, 2))(keycode)\n",
    "    keycode = keras.layers.Reshape((-1, 64))(keycode)\n",
    "\n",
    "    concat = keras.layers.concatenate([user, keycode])\n",
    "    concat = keras.layers.GRU(72, return_sequences=True)(concat)\n",
    "    concat = keras.layers.GRU(72)(concat)\n",
    "    concat = keras.layers.Dense(32, activation='relu')(concat)\n",
    "    output = keras.layers.Dense(output_dim, activation='relu')(concat)\n",
    "\n",
    "    model = keras.Model(inputs=[inputA, inputB], outputs=[output])\n",
    "    return model"
   ]
  },
  {
   "cell_type": "code",
   "execution_count": null,
   "metadata": {
    "id": "m6j_ID3MAhV5"
   },
   "outputs": [],
   "source": [
    "# create_model_13(inputA_feature_dim=71,\n",
    "#                    inputB_feature_dim=71,\n",
    "#                    output_dim=1,\n",
    "#                    mat_length=40).summary()"
   ]
  },
  {
   "cell_type": "markdown",
   "metadata": {
    "id": "tu4PUDO_AhP8"
   },
   "source": [
    "# KeycodeToTime"
   ]
  },
  {
   "cell_type": "code",
   "execution_count": 72,
   "metadata": {
    "id": "fuxx3bI_orGP"
   },
   "outputs": [],
   "source": [
    "def create_model_keyTOtime(features_dim,\n",
    "                           output_dim,\n",
    "                           model_name='Keycode_TO_Time'):\n",
    "    model = keras.models.Sequential([\n",
    "        keras.layers.GRU(128, return_sequences=True, input_shape=[None, features_dim], dropout=0.2, recurrent_dropout=0.2),\n",
    "        keras.layers.GRU(128, return_sequences=True, dropout=0.2, recurrent_dropout=0.2),\n",
    "        keras.layers.TimeDistributed(keras.layers.Dense(output_dim))\n",
    "    ])\n",
    "    return model"
   ]
  },
  {
   "cell_type": "code",
   "execution_count": null,
   "metadata": {
    "id": "rH9aGCEdX0Jg"
   },
   "outputs": [],
   "source": [
    "def create_model_keyTotime_CNN(features_dim, \n",
    "                               output_dim, \n",
    "                               window_length,\n",
    "                               model_name='Keycode_TO_Time_CNN'):\n",
    "    model = keras.models.Sequential([\n",
    "            keras.layers.Conv2D(32, (2, features_dim), input_shape=[window_length, features_dim, 1], activation='relu'),\n",
    "            keras.layers.Dense(output_dim, activation='relu', kernel_regularizer=tf.keras.regularizers.L1(0.001))])\n",
    "    return model"
   ]
  },
  {
   "cell_type": "code",
   "execution_count": null,
   "metadata": {
    "id": "XI9JR8qeXjBp"
   },
   "outputs": [],
   "source": [
    "def keycodeTotime_prep(uni_df, latency, window_length, shift, batch_size):\n",
    "    df = np.concatenate([KEYCODE_enc.transform(uni_df[['KEYCODE']]).toarray(), uni_df[['INDEX', latency]]], axis=1)\n",
    "    ds = tf.data.Dataset.from_tensor_slices(df).window(size=window_length, shift=shift, drop_remainder=True)\n",
    "    ds = ds.flat_map(lambda window: window.batch(window_length)).batch(batch_size)\n",
    "    ds = ds.map(lambda windows: (windows[:, :, :-1], windows[:, :, -1]))\n",
    "    return ds"
   ]
  },
  {
   "cell_type": "code",
   "execution_count": null,
   "metadata": {
    "id": "MFHsWhM1XKV6"
   },
   "outputs": [],
   "source": [
    "def keycodeTotime_prep_CNN(uni_df, latency, window_length, shift, batch_size):\n",
    "    df = np.concatenate([KEYCODE_enc.transform(uni_df[['KEYCODE']]).toarray(), uni_df[['INDEX', latency]]], axis=1)\n",
    "    ds = tf.data.Dataset.from_tensor_slices(df).window(size=window_length, shift=shift, drop_remainder=True)\n",
    "    ds = ds.flat_map(lambda window: window.batch(window_length)).batch(batch_size)\n",
    "    ds = ds.map(lambda windows: (windows[:, :, :-1], windows[:, :, -1]))\n",
    "    ds = ds.map(lambda input, output: (tf.expand_dims(input, axis=-1), output))\n",
    "    return ds"
   ]
  },
  {
   "cell_type": "code",
   "execution_count": null,
   "metadata": {
    "id": "cuhje3gwwtDr"
   },
   "outputs": [],
   "source": [
    "def structure_one(preprocessed_data, encoder, window_length, shift, batch_size):\n",
    "    '''\n",
    "    Keycode to time (only one kind of time latency, i.e. output_dim=1)\n",
    "    '''\n",
    "    df = preprocessed_data.drop(columns=['USER'])\n",
    "    df = np.concatenate([encoder.transform(df[['KEYCODE']].astype(str)).toarray(), df.drop(columns=['KEYCODE'])], axis=1)\n",
    "    dataset = tf.data.Dataset.from_tensor_slices(df).window(size=window_length, shift=shift, drop_remainder=True)\n",
    "    dataset = dataset.flat_map(lambda window: window.batch(window_length)).batch(batch_size)\n",
    "    dataset = dataset.map(lambda windows: (windows[:, :, :-1], windows[:, :, -1]))\n",
    "    return dataset\n",
    "\n",
    "## XX_key_df : unigraph but with only HL, i.e. ['USER', 'KEYCODE', 'INDEX', 'HL']\n",
    "# train_key_ds = structure_one(train_key_df, encoder_uni, window_length=31, shift=1, batch_size=32)\n",
    "# test_key_ds = structure_one(test_key_df, encoder_uni, window_length=31, shift=1, batch_size=32)\n",
    "# train_key_ds_avg = structure_one(train_key_df_avg, encoder_uni, window_length=31, shift=1, batch_size=32)\n",
    "# test_key_ds_avg = structure_one(test_key_df_avg, encoder_uni, window_length=31, shift=1, batch_size=32)\n",
    "\n",
    "def ONE_base(name='KeyToCode-HL'):\n",
    "    model_ONE_base = keras.models.Sequential([\n",
    "        keras.layers.GRU(128, return_sequences=True, input_shape=[None, input_dim], dropout=0.2, recurrent_dropout=0.2),\n",
    "        keras.layers.GRU(128, return_sequences=True, dropout=0.2, recurrent_dropout=0.2),\n",
    "        keras.layers.TimeDistributed(keras.layers.Dense(1))\n",
    "    ])\n",
    "    return model_ONE_base"
   ]
  },
  {
   "cell_type": "code",
   "execution_count": null,
   "metadata": {
    "id": "suyEZBka4InT"
   },
   "outputs": [],
   "source": [
    "def structure_one_pl(preprocessed_data, encoder, window_length, shift, batch_size):\n",
    "    df = preprocessed_data.drop(columns=['USER'])\n",
    "    df = np.concatenate([encoder.transform(df[['KEYCODE']].astype(str)).toarray(), df.drop(columns=['KEYCODE'])], axis=1)\n",
    "    dataset = tf.data.Dataset.from_tensor_slices(df).window(size=window_length, shift=shift, drop_remainder=True)\n",
    "    dataset = dataset.flat_map(lambda window: window.batch(window_length)).batch(batch_size)\n",
    "    dataset = dataset.map(lambda windows: (windows[:, :, :-2], windows[:, :, -2:]))\n",
    "    return dataset\n",
    "\n",
    "## XX_df_uni : unigraph,  i.e. ['USER', 'KEYCODE', 'INDEX', 'HL', 'PL]\n",
    "# train_key_pl_ds = structure_one_pl(train_df_uni, encoder_uni, window_length=31, shift=1, batch_size=32)\n",
    "# test_key_pl_ds = structure_one_pl(test_df_uni, encoder_uni, window_length=31, shift=1, batch_size=32)\n",
    "# train_key_pl_ds_avg = structure_one_pl(train_df_uni_avg, encoder_uni, window_length=31, shift=1, batch_size=32)\n",
    "# test_key_pl_ds_avg = structure_one_pl(test_df_uni_avg, encoder_uni, window_length=31, shift=1, batch_size=32)\n",
    "\n",
    "def ONE_base_pl_avg(name='KeyToCode-HLPL'):\n",
    "    model_ONE_base_pl_avg = keras.models.Sequential([\n",
    "        keras.layers.GRU(128, return_sequences=True, input_shape=[None, input_dim], dropout=0.2, recurrent_dropout=0.2),\n",
    "        keras.layers.GRU(128, return_sequences=True, dropout=0.2, recurrent_dropout=0.2),\n",
    "        keras.layers.TimeDistributed(keras.layers.Dense(2))\n",
    "    ])\n",
    "    return model_ONE_base_pl_avg"
   ]
  },
  {
   "cell_type": "markdown",
   "metadata": {
    "id": "kab4eUcVY4Wl"
   },
   "source": [
    "# Old Models"
   ]
  },
  {
   "cell_type": "code",
   "execution_count": null,
   "metadata": {
    "id": "7YItn-1B_ibs"
   },
   "outputs": [],
   "source": [
    "def model_ONE_base(name='ONE_base'):\n",
    "    model_ONE_base = keras.models.Sequential([\n",
    "        keras.layers.GRU(128, return_sequences=True, input_shape=[None, unit_time_depth], dropout=0.2, recurrent_dropout=0.2),\n",
    "        keras.layers.GRU(128, return_sequences=True, dropout=0.2, recurrent_dropout=0.2),\n",
    "        keras.layers.TimeDistributed(keras.layers.Dense(1))\n",
    "    ])\n",
    "    return model_ONE_Base\n",
    "\n",
    "def model_ONE_1(name='ONE_1_mae'):\n",
    "    model_ONE_1 = keras.models.Sequential([\n",
    "        keras.layers.GRU(128, return_sequences=True, input_shape=[None, unit_time_depth], dropout=0.2, recurrent_dropout=0.2),\n",
    "        keras.layers.GRU(128, return_sequences=True, dropout=0.2, recurrent_dropout=0.2),\n",
    "        keras.layers.TimeDistributed(keras.layers.Dense(1, activity_regularizer=tf.keras.regularizers.L2(0.01)))\n",
    "    ])\n",
    "    return model_ONE_1\n",
    "\n",
    "def model_ONE_2(name=''):\n",
    "    model_ONE_2 = keras.models.Sequential([\n",
    "        keras.layers.GRU(128, return_sequences=True, input_shape=[None, unit_time_depth], dropout=0.2, recurrent_dropout=0.2),\n",
    "        keras.layers.GRU(128, return_sequences=True, dropout=0.2, recurrent_dropout=0.2),\n",
    "        keras.layers.TimeDistributed(keras.layers.Dense(1, activity_regularizer=tf.keras.regularizers.L2(0.001)))\n",
    "    ])\n",
    "    return model_ONE_2\n",
    "\n",
    "def model_ONE_3(name=''):\n",
    "    model_ONE_3 = keras.models.Sequential([\n",
    "        keras.layers.GRU(128, return_sequences=True, input_shape=[None, unit_time_depth], dropout=0.2, recurrent_dropout=0.2),\n",
    "        keras.layers.GRU(128, return_sequences=True, dropout=0.2, recurrent_dropout=0.2),\n",
    "        keras.layers.TimeDistributed(keras.layers.Dense(32, activity_regularizer=tf.keras.regularizers.L2(0.001))),\n",
    "        keras.layers.TimeDistributed(keras.layers.Dense(1))\n",
    "    ])\n",
    "    return model_ONE_3\n",
    "\n",
    "def model_ONE_4(name=''):\n",
    "    model_ONE_4 = keras.models.Sequential([\n",
    "        keras.layers.GRU(128, return_sequences=True, input_shape=[None, unit_time_depth], dropout=0.2, recurrent_dropout=0.2),\n",
    "        keras.layers.GRU(128, return_sequences=True, dropout=0.2, recurrent_dropout=0.2),\n",
    "        keras.layers.TimeDistributed(keras.layers.Dense(64, activity_regularizer=tf.keras.regularizers.L2(0.01))),\n",
    "        keras.layers.TimeDistributed(keras.layers.Dense(32, activity_regularizer=tf.keras.regularizers.L2(0.01))),\n",
    "        keras.layers.TimeDistributed(keras.layers.Dense(1))\n",
    "    ])\n",
    "    return model_ONE_4"
   ]
  },
  {
   "cell_type": "code",
   "execution_count": null,
   "metadata": {
    "id": "IhtzlBOeETs_"
   },
   "outputs": [],
   "source": [
    "def CNN_base_mae(mat_length, \n",
    "                 unit_time_depth,\n",
    "                 name='CNN_base_mae'):\n",
    "    input_1 = keras.layers.Input(shape=[mat_length, mat_length, 6], name='input_kdi')\n",
    "    input_2 = keras.layers.Input(shape=[unit_time_depth], name='keycode')\n",
    "    conv2d_1 = keras.layers.Conv2D(64, (3, 3))(input_1)\n",
    "    conv2d_2 = keras.layers.Conv2D(64, (3, 3))(conv2d_1)\n",
    "    maxpool_1 = keras.layers.MaxPooling2D((2, 2))(conv2d_2)\n",
    "    conv2d_3 = keras.layers.Conv2D(128, (3, 3))(maxpool_1)\n",
    "    conv2d_4 = keras.layers.Conv2D(128, (3, 3))(conv2d_3)\n",
    "    maxpool_2 = keras.layers.MaxPooling2D((2, 2))(conv2d_4)\n",
    "    reshape_1 = keras.layers.Reshape((-1, 128))(maxpool_2)\n",
    "    gru_1 = keras.layers.GRU(128, recurrent_dropout=0.2)(reshape_1)\n",
    "    dense_1 = keras.layers.Dense(64, activity_regularizer=tf.keras.regularizers.L2(0.001))(gru_1)\n",
    "    concat = keras.layers.concatenate([dense_1, input_2])\n",
    "    dense_3 = keras.layers.Dense(64, activity_regularizer=tf.keras.regularizers.L2(0.001))(concat)\n",
    "    output = keras.layers.Dense(2)(dense_3)\n",
    "    model_base = keras.Model(inputs=[input_1, input_2], outputs=[output])\n",
    "    return model_base"
   ]
  },
  {
   "cell_type": "code",
   "execution_count": null,
   "metadata": {
    "id": "iB-eb3h9Kn10"
   },
   "outputs": [],
   "source": [
    "def model_Exp2Gp0(train_kds_uni_mean, model_name = 'Exp2Gp0'):\n",
    "    feature_dim = train_kds_uni_mean.inputA[-1]\n",
    "    output_dim = train_kds_uni_mean.output[-1]\n",
    "    user_gru = 64\n",
    "    concat_gru = 32\n",
    "\n",
    "    inputA = keras.layers.Input(shape=[None, feature_dim], name='InputA')\n",
    "    inputB = keras.layers.Input(shape=[feature_dim-output_dim], name='InputB')\n",
    "\n",
    "    batch_1 = keras.layers.BatchNormalization()(inputA)\n",
    "    gru_1 = keras.layers.GRU(user_gru, return_sequences=True)(batch_1)\n",
    "    dropout_1 = keras.layers.Dropout(0.5)(gru_1)\n",
    "    batch_2 = keras.layers.BatchNormalization()(dropout_1)\n",
    "    gru_out = keras.layers.GRU(user_gru)(batch_2)\n",
    "\n",
    "    concat = keras.layers.concatenate([gru_out, inputB])\n",
    "\n",
    "    reshape = keras.layers.Reshape((user_gru+feature_dim-output_dim, 1))(concat)\n",
    "    concat_output = keras.layers.GRU(concat_gru = 32)(reshape)\n",
    "\n",
    "    output = keras.layers.Dense(output_dim)(concat_output)\n",
    "    model_Exp2Gp0 = keras.Model(inputs=[inputA, inputB], outputs=[output], name=model_name)\n",
    "    return model_Exp2Gp0\n",
    "\n",
    "def model_NewExp0Gp0(model_name = 'NewExp0Gp0'):\n",
    "    feature_dim = train_kds_uni_mean.inputA[-1]\n",
    "    output_dim = train_kds_uni_mean.output[-1]\n",
    "    user_gru = 128\n",
    "    concat_gru = 64\n",
    "\n",
    "    inputA = keras.layers.Input(shape=[None, feature_dim], name='InputA')\n",
    "    inputB = keras.layers.Input(shape=[feature_dim-output_dim], name='InputB')\n",
    "\n",
    "    batch_1 = keras.layers.BatchNormalization()(inputA)\n",
    "    gru_1 = keras.layers.GRU(user_gru, return_sequences=True)(batch_1)\n",
    "    dropout_1 = keras.layers.Dropout(0.5)(gru_1)\n",
    "    batch_2 = keras.layers.BatchNormalization()(dropout_1)\n",
    "    gru_out = keras.layers.GRU(user_gru)(batch_2)\n",
    "\n",
    "    concat = keras.layers.concatenate([gru_out, inputB])\n",
    "\n",
    "    reshape = keras.layers.Reshape((user_gru+feature_dim-output_dim, 1))(concat)\n",
    "    concat_output = keras.layers.GRU(concat_gru)(reshape)\n",
    "\n",
    "    output = keras.layers.Dense(output_dim)(concat_output)\n",
    "    model_NewExp0Gp0 = keras.Model(inputs=[inputA, inputB], outputs=[output], name=model_name)\n",
    "    return model_NewExp0Gp0\n",
    "\n",
    "\n",
    "def model_NewExp0Gp1(model_name='NewExp0Gp1')\n",
    "    feature_dim = train_kds_uni_mean.inputA[-1]\n",
    "    output_dim = train_kds_uni_mean.output[-1]\n",
    "    user_gru = 64\n",
    "    # concat_gru = 32\n",
    "\n",
    "    inputA = keras.layers.Input(shape=[None, feature_dim], name='InputA')\n",
    "    inputB = keras.layers.Input(shape=[feature_dim-output_dim], name='InputB')\n",
    "\n",
    "    batch_1 = keras.layers.BatchNormalization()(inputA)\n",
    "    gru_1 = keras.layers.GRU(user_gru, return_sequences=True)(batch_1)\n",
    "    dropout_1 = keras.layers.Dropout(0.5)(gru_1)\n",
    "    batch_2 = keras.layers.BatchNormalization()(dropout_1)\n",
    "    gru_out = keras.layers.GRU(user_gru)(batch_2)\n",
    "\n",
    "    concat = keras.layers.concatenate([gru_out, inputB])\n",
    "\n",
    "    # reshape = keras.layers.Reshape((user_gru+feature_dim-output_dim, 1))(concat)\n",
    "    # concat_output = keras.layers.GRU(concat_gru)(reshape)\n",
    "\n",
    "    dense_1 = keras.layers.Dense(60)(concat)\n",
    "    concat_output = keras.layers.Dense(30)(dense_1)\n",
    "\n",
    "    output = keras.layers.Dense(output_dim)(concat_output)\n",
    "    model_NewExp0Gp1 = keras.Model(inputs=[inputA, inputB], outputs=[output], name=model_name)\n",
    "    return model_NewExp0Gp1\n",
    "\n",
    "\n",
    "def model_NewExp0Gp2(model_name='NewExp0Gp2'):\n",
    "    feature_dim = train_kds.inputA[-1]\n",
    "    output_dim = train_kds.output[-1]\n",
    "    user_gru = 64\n",
    "    # concat_gru = 32\n",
    "\n",
    "    inputA = keras.layers.Input(shape=[None, feature_dim], name='InputA')\n",
    "    inputB = keras.layers.Input(shape=[feature_dim-output_dim], name='InputB')\n",
    "\n",
    "    batch_1 = keras.layers.BatchNormalization()(inputA)\n",
    "    gru_1 = keras.layers.GRU(user_gru, return_sequences=True)(batch_1)\n",
    "    dropout_1 = keras.layers.Dropout(0.5)(gru_1)\n",
    "    batch_2 = keras.layers.BatchNormalization()(dropout_1)\n",
    "    gru_out = keras.layers.GRU(user_gru)(batch_2)\n",
    "\n",
    "    concat = keras.layers.concatenate([gru_out, inputB])\n",
    "\n",
    "    # reshape = keras.layers.Reshape((user_gru+feature_dim-output_dim, 1))(concat)\n",
    "    # concat_output = keras.layers.GRU(concat_gru)(reshape)\n",
    "\n",
    "    dense_1 = keras.layers.Dense(60)(concat)\n",
    "    concat_output = keras.layers.Dense(30)(dense_1)\n",
    "\n",
    "    output = keras.layers.Dense(output_dim)(concat_output)\n",
    "    model_NewExp0Gp2 = keras.Model(inputs=[inputA, inputB], outputs=[output], name=model_name)\n",
    "    return model_NewExp0Gp2\n",
    "\n",
    "\n",
    "def model_NewExp0Gp3(model_name='NewExp0Gp3'):\n",
    "    feature_dim = train_kds.inputA[-1]\n",
    "    output_dim = train_kds.output[-1]\n",
    "    user_gru = 64\n",
    "    # concat_gru = 32\n",
    "\n",
    "    inputA = keras.layers.Input(shape=[None, feature_dim], name='InputA')\n",
    "    inputB = keras.layers.Input(shape=[feature_dim-output_dim], name='InputB')\n",
    "\n",
    "    batch_1 = keras.layers.BatchNormalization()(inputA)\n",
    "    gru_1 = keras.layers.GRU(user_gru, return_sequences=True)(batch_1)\n",
    "    dropout_1 = keras.layers.Dropout(0.5)(gru_1)\n",
    "    batch_2 = keras.layers.BatchNormalization()(dropout_1)\n",
    "    gru_out = keras.layers.GRU(user_gru)(batch_2)\n",
    "\n",
    "    concat = keras.layers.concatenate([gru_out, inputB])\n",
    "\n",
    "    # reshape = keras.layers.Reshape((user_gru+feature_dim-output_dim, 1))(concat)\n",
    "    # concat_output = keras.layers.GRU(concat_gru)(reshape)\n",
    "\n",
    "    dense_1 = keras.layers.Dense(60)(concat)\n",
    "    concat_output = keras.layers.Dense(30)(dense_1)\n",
    "\n",
    "    output = keras.layers.Dense(output_dim)(concat_output)\n",
    "    model_NewExp0Gp3 = keras.Model(inputs=[inputA, inputB], outputs=[output], name=model_name)\n",
    "    return model_NewExp0Gp3\n",
    "\n",
    "\n",
    "def model_NExp1Gp0(model_name='NExp1Gp0')\n",
    "    feature_dim = train_kds_uni_mean.inputA[-1]\n",
    "    output_dim = train_kds_uni_mean.output[-1]\n",
    "    user_gru = 64\n",
    "    concat_gru = 32\n",
    "\n",
    "    inputA = keras.layers.Input(shape=[None, feature_dim], name='InputA')\n",
    "    inputB = keras.layers.Input(shape=[feature_dim-output_dim], name='InputB')\n",
    "\n",
    "    batch_1 = keras.layers.BatchNormalization()(inputA)\n",
    "    gru_1 = keras.layers.GRU(user_gru, return_sequences=True)(batch_1)\n",
    "    dropout_1 = keras.layers.Dropout(0.5)(gru_1)\n",
    "    batch_2 = keras.layers.BatchNormalization()(dropout_1)\n",
    "    gru_out = keras.layers.GRU(user_gru)(batch_2)\n",
    "\n",
    "    concat = keras.layers.concatenate([gru_out, inputB])\n",
    "\n",
    "    reshape = keras.layers.Reshape((user_gru+feature_dim-output_dim, 1))(concat)\n",
    "    concat_output = keras.layers.GRU(concat_gru)(reshape)\n",
    "\n",
    "    output = keras.layers.Dense(output_dim)(concat_output)\n",
    "    model_NExp1Gp0 = keras.Model(inputs=[inputA, inputB], outputs=[output], name=model_name)\n",
    "    return model_NExp1Gp0"
   ]
  },
  {
   "cell_type": "markdown",
   "metadata": {
    "id": "0jonoEceZMqp"
   },
   "source": [
    "## TypeNet-base_no-keycode_ConcatRNN-base"
   ]
  },
  {
   "cell_type": "code",
   "execution_count": null,
   "metadata": {
    "id": "vTPpkUdLY6qA"
   },
   "outputs": [],
   "source": [
    "## base model of Exp1Gp0\n",
    "\n",
    "def typenet_base(inputA):\n",
    "    name = 'TypeNet-base'\n",
    "    batch_1 = keras.layers.BatchNormalization()(inputA)\n",
    "    lstm_1 = keras.layers.LSTM(128, return_sequences=True)(batch_1)\n",
    "    dropout_1 = keras.layers.Dropout(0.5)(lstm_1)\n",
    "    batch_2 = keras.layers.BatchNormalization()(dropout_1)\n",
    "    lstm_2 = keras.layers.LSTM(128)(batch_2)\n",
    "    return name, lstm_2\n",
    "\n",
    "def concate_RNN_base(concat, feature_dim, output_dim):\n",
    "    name = 'ConcatRNN-base'\n",
    "    reshape = keras.layers.Reshape((128+feature_dim-output_dim, 1))(concat)\n",
    "    gru_1 = keras.layers.GRU(64)(reshape)\n",
    "    return name, gru_1\n",
    "\n",
    "def create_model(feature_dim, output_dim, user_embedding=None, keycode_embedding=None, concat_model=None):\n",
    "    inputA = keras.layers.Input(shape=[None, feature_dim], name='InputA')\n",
    "    inputB = keras.layers.Input(shape=[feature_dim-output_dim], name='InputB')\n",
    "    \n",
    "    if user_embedding:\n",
    "        user_name, user_embeded = user_embedding(inputA)\n",
    "    else:\n",
    "        user_name, user_embeded = 'no-user', inputA\n",
    "    if keycode_embedding:\n",
    "        keycode_name, keycode_embeded = keycode_embedding(inputB)\n",
    "    else:\n",
    "        keycode_name, keycode_embeded = 'no-keycode', inputB\n",
    "    concat = keras.layers.concatenate([user_embeded, keycode_embeded])\n",
    "\n",
    "    if concat_model:\n",
    "        concat_name, concat_output = concat_model(concat, feature_dim, output_dim)\n",
    "    else:\n",
    "        concat_name, concat_output = 'no-concat', concat\n",
    "    output = keras.layers.Dense(output_dim)(concat_output)\n",
    "\n",
    "    model_name = user_name + '_' + keycode_name + '_' + concat_name\n",
    "    return keras.Model(inputs=[inputA, inputB], outputs=[output], name=model_name)\n",
    "\n",
    "def train_model(feature_dim, output_dim, user_embedding, keycode_embedding, concat_model,\n",
    "                optimizer, loss, metrics,\n",
    "                trainset, testset, EPOCH, patience, avg_mode):\n",
    "    model = create_model(feature_dim, output_dim, user_embedding, keycode_embedding, concat_model)\n",
    "    model.compile(optimizer=optimizer,\n",
    "                  loss=loss,\n",
    "                  metrics=metrics)\n",
    "    history = model.fit(trainset, epochs=EPOCH, validation_data=testset, callbacks=get_callbacks(model.name, patience, avg_mode))\n",
    "    return history, model"
   ]
  },
  {
   "cell_type": "markdown",
   "metadata": {
    "id": "k2bvf03EKtg_"
   },
   "source": [
    "# IMPORT CHECK"
   ]
  },
  {
   "cell_type": "code",
   "execution_count": null,
   "metadata": {
    "colab": {
     "base_uri": "https://localhost:8080/"
    },
    "id": "_ephQJdMKwe6",
    "outputId": "01579acf-354a-4755-991a-6415aac14897"
   },
   "outputs": [
    {
     "name": "stdout",
     "output_type": "stream",
     "text": [
      "\n",
      "\n",
      "Hello from Model_Architecture_List!\n"
     ]
    }
   ],
   "source": [
    "print(\"\\n\\nHello from Model_Architecture_List!\")"
   ]
  },
  {
   "cell_type": "code",
   "execution_count": null,
   "metadata": {
    "id": "zbptiVFJN67k"
   },
   "outputs": [],
   "source": []
  }
 ],
 "metadata": {
  "colab": {
   "provenance": []
  },
  "gpuClass": "standard",
  "kernelspec": {
   "display_name": "Python 3 (ipykernel)",
   "language": "python",
   "name": "python3"
  },
  "language_info": {
   "codemirror_mode": {
    "name": "ipython",
    "version": 3
   },
   "file_extension": ".py",
   "mimetype": "text/x-python",
   "name": "python",
   "nbconvert_exporter": "python",
   "pygments_lexer": "ipython3",
   "version": "3.8.13"
  }
 },
 "nbformat": 4,
 "nbformat_minor": 4
}
