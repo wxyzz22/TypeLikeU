{
 "cells": [
  {
   "cell_type": "code",
   "execution_count": null,
   "id": "79015c05-db05-499b-8055-fbd0bb2a644a",
   "metadata": {},
   "outputs": [],
   "source": [
    "# %load_ext tensorboard\n",
    "\n",
    "# # Clear any logs from previous runs\n",
    "# rm -rf ./logs/\n",
    "\n",
    "# log_dir = \"logs/fit/\" + datetime.datetime.now().strftime(\"%Y%m%d-%H%M%S\")\n",
    "# tensorboard_callback = tf.keras.callbacks.TensorBoard(log_dir=log_dir, histogram_freq=1)\n",
    "\n",
    "# %tensorboard --logdir logs/fit\n",
    "\n",
    "# from tensorboard import notebook\n",
    "# notebook.list() # View open TensorBoard instances\n",
    "\n",
    "# # Control TensorBoard display. If no port is provided, \n",
    "# # the most recently launched TensorBoard is used\n",
    "# notebook.display(port=6006, height=1000)\n",
    "# # !kill portPID#"
   ]
  },
  {
   "cell_type": "code",
   "execution_count": 1,
   "id": "dc885f34-28d2-4770-9309-2b4c066f8811",
   "metadata": {},
   "outputs": [],
   "source": [
    "%load_ext tensorboard"
   ]
  },
  {
   "cell_type": "code",
   "execution_count": 46,
   "id": "df474706-ce72-412d-9706-be510ee68b62",
   "metadata": {},
   "outputs": [
    {
     "name": "stdout",
     "output_type": "stream",
     "text": [
      "Known TensorBoard instances:\n",
      "  - port 6043: logdir ../logs/experiments/tensorboard/Keycode_TO_Time (started 0:03:51 ago; pid 11410)\n",
      "  - port 6024: logdir ../logs/experiments/tensorboard/NewExp0Gp0 (started 0:13:33 ago; pid 11345)\n",
      "  - port 6031: logdir ../logs/experiments/tensorboard/CNN_RNN_reg (started 0:07:48 ago; pid 11365)\n",
      "  - port 6025: logdir ../logs/experiments/tensorboard/NewExp0Gp1 (started 0:13:11 ago; pid 11348)\n",
      "  - port 6009: logdir ../logs/training-logs/tensorboard/ONE_3_mae (started 0:22:40 ago; pid 11276)\n",
      "  - port 6020: logdir ../logs/training-logs/tensorboard/TypeNet-base_no-keycode_ConcatRNN-base (started 0:15:41 ago; pid 11333)\n",
      "  - port 6033: logdir ../logs/experiments/tensorboard/KDI-1s_KDI-xs_GRU (started 0:06:34 ago; pid 11372)\n",
      "  - port 6027: logdir ../logs/experiments/tensorboard/NewExp0Gp3 (started 0:12:55 ago; pid 11352)\n",
      "  - port 6017: logdir ../logs/training-logs/tensorboard/typenet_base_mae_di (started 0:17:41 ago; pid 11322)\n",
      "  - port 6016: logdir ../logs/training-logs/tensorboard/ONE_base_pl (started 0:18:13 ago; pid 11318)\n",
      "  - port 6036: logdir ../logs/experiments/tensorboard/KDI-s_KDI-xs_Dense-nonReLU (started 0:05:44 ago; pid 11379)\n",
      "  - port 6013: logdir ../logs/training-logs/tensorboard/ONE_base_mae (started 0:20:31 ago; pid 11292)\n",
      "  - port 6023: logdir ../logs/experiments/tensorboard/Exp1Gp2 (started 0:13:55 ago; pid 11343)\n",
      "  - port 6028: logdir ../logs/experiments/tensorboard/NewExp0Gp4 (started 0:12:47 ago; pid 11354)\n",
      "  - port 6037: logdir ../logs/experiments/tensorboard/KDI-s_KDI-xs_Dense-ReLU (started 0:05:26 ago; pid 11381)\n",
      "  - port 6022: logdir ../logs/experiments/tensorboard/Exp1Gp1 (started 0:14:10 ago; pid 11339)\n",
      "  - port 6041: logdir ../logs/experiments/tensorboard/KDS_TypeNet-GRU-64_None_Dense-60-30-2 (started 0:04:26 ago; pid 11397)\n",
      "  - port 6029: logdir ../logs/experiments/tensorboard/NExp0Gp0 (started 0:12:16 ago; pid 11358)\n",
      "  - port 6021: logdir ../logs/experiments/tensorboard/Exp1Gp0 (started 0:14:44 ago; pid 11335)\n",
      "  - port 6034: logdir ../logs/experiments/tensorboard/KDI-s_KDI-xs_Dense-32-2 (started 0:06:15 ago; pid 11374)\n",
      "  - port 6035: logdir ../logs/experiments/tensorboard/KDI-s_KDI-xs_Dense-32-2-Reg (started 0:05:54 ago; pid 11377)\n",
      "  - port 6012: logdir ../logs/training-logs/tensorboard/ONE_base_huber (started 0:20:44 ago; pid 11290)\n",
      "  - port 6007: logdir ../logs/training-logs/tensorboard/ONE_1_mae (started 0:23:23 ago; pid 11269)\n",
      "  - port 6040: logdir ../logs/experiments/tensorboard/KDI-s_KDI-xs_Dense-ReLU-noreg (started 0:04:39 ago; pid 11395)\n",
      "  - port 6038: logdir ../logs/experiments/tensorboard/KDI-s_KDI-xs_Dense-ReLU-l1l2reg (started 0:05:11 ago; pid 11383)\n",
      "  - port 6030: logdir ../logs/experiments/tensorboard/NExp1Gp0 (started 0:12:12 ago; pid 11360)\n",
      "  - port 6015: logdir ../logs/training-logs/tensorboard/KeyToCode-HLPL (started 0:18:54 ago; pid 11306)\n",
      "  - port 6014: logdir ../logs/training-logs/tensorboard/KeyToCode-HL (started 0:19:55 ago; pid 11296)\n",
      "  - port 6011: logdir ../logs/training-logs/tensorboard/ONE_base (started 0:21:57 ago; pid 11280)\n",
      "  - port 6042: logdir ../logs/experiments/tensorboard/KDS_TypeNet-GRU-64-dropout_None_Dense-60-30-2-Dropout (started 0:04:06 ago; pid 11408)\n",
      "  - port 6032: logdir ../logs/experiments/tensorboard/KDI_LeNet5_Dense-64-2-Reg (started 0:06:55 ago; pid 11370)\n",
      "  - port 6018: logdir ../logs/training-logs/tensorboard/typenet_base_mae_uni (started 0:16:36 ago; pid 11327)\n",
      "  - port 6006: logdir ../logs/training-logs/tensorboard/CNN_base_mae (started 0:26:05 ago; pid 11262)\n",
      "  - port 6019: logdir ../logs/training-logs/tensorboard/typenet_base_mae_uni_1 (started 0:16:14 ago; pid 11331)\n",
      "  - port 6008: logdir ../logs/training-logs/tensorboard/ONE_2_mae (started 0:22:49 ago; pid 11274)\n",
      "  - port 6010: logdir ../logs/training-logs/tensorboard/ONE_4_mae (started 0:22:09 ago; pid 11278)\n",
      "  - port 6039: logdir ../logs/experiments/tensorboard/KDI-s_KDI-xs_Dense-ReLU-l2reg (started 0:04:58 ago; pid 11385)\n",
      "  - port 6026: logdir ../logs/experiments/tensorboard/NewExp0Gp2 (started 0:13:04 ago; pid 11350)\n"
     ]
    }
   ],
   "source": [
    "from tensorboard import notebook\n",
    "notebook.list()         # View open TensorBoard instances"
   ]
  },
  {
   "cell_type": "markdown",
   "id": "409281bf-3295-4e79-b976-af46cb32b497",
   "metadata": {
    "jp-MarkdownHeadingCollapsed": true,
    "tags": []
   },
   "source": [
    "## Corresponding Notebook: `cnn_2nd_attempt`"
   ]
  },
  {
   "cell_type": "code",
   "execution_count": 4,
   "id": "8dd57ed7-eb7c-400f-9e0f-2d3a46229518",
   "metadata": {},
   "outputs": [
    {
     "data": {
      "text/plain": [
       "Reusing TensorBoard on port 6006 (pid 11262), started 0:02:28 ago. (Use '!kill 11262' to kill it.)"
      ]
     },
     "metadata": {},
     "output_type": "display_data"
    },
    {
     "data": {
      "text/html": [
       "\n",
       "      <iframe id=\"tensorboard-frame-efda9d439122ac33\" width=\"100%\" height=\"800\" frameborder=\"0\">\n",
       "      </iframe>\n",
       "      <script>\n",
       "        (function() {\n",
       "          const frame = document.getElementById(\"tensorboard-frame-efda9d439122ac33\");\n",
       "          const url = new URL(\"/\", window.location);\n",
       "          const port = 6006;\n",
       "          if (port) {\n",
       "            url.port = port;\n",
       "          }\n",
       "          frame.src = url;\n",
       "        })();\n",
       "      </script>\n",
       "    "
      ],
      "text/plain": [
       "<IPython.core.display.HTML object>"
      ]
     },
     "metadata": {},
     "output_type": "display_data"
    }
   ],
   "source": [
    "%tensorboard --logdir ../logs/training-logs/tensorboard/CNN_base_mae"
   ]
  },
  {
   "cell_type": "markdown",
   "id": "708b68e1-ee90-4488-b38a-562e011dde18",
   "metadata": {
    "jp-MarkdownHeadingCollapsed": true,
    "tags": []
   },
   "source": [
    "## Corresponding Notebook: `avg_user_profile`"
   ]
  },
  {
   "cell_type": "code",
   "execution_count": 5,
   "id": "d5dc3825-7713-4fb8-9842-fac1e2c14f0e",
   "metadata": {},
   "outputs": [
    {
     "data": {
      "text/html": [
       "\n",
       "      <iframe id=\"tensorboard-frame-2ef7aee70ff29791\" width=\"100%\" height=\"800\" frameborder=\"0\">\n",
       "      </iframe>\n",
       "      <script>\n",
       "        (function() {\n",
       "          const frame = document.getElementById(\"tensorboard-frame-2ef7aee70ff29791\");\n",
       "          const url = new URL(\"/\", window.location);\n",
       "          const port = 6007;\n",
       "          if (port) {\n",
       "            url.port = port;\n",
       "          }\n",
       "          frame.src = url;\n",
       "        })();\n",
       "      </script>\n",
       "    "
      ],
      "text/plain": [
       "<IPython.core.display.HTML object>"
      ]
     },
     "metadata": {},
     "output_type": "display_data"
    }
   ],
   "source": [
    "%tensorboard --logdir ../logs/training-logs/tensorboard/ONE_1_mae"
   ]
  },
  {
   "cell_type": "code",
   "execution_count": 6,
   "id": "7b094377-92fe-4e85-be36-fd43775537a8",
   "metadata": {},
   "outputs": [
    {
     "data": {
      "text/html": [
       "\n",
       "      <iframe id=\"tensorboard-frame-d22e6abe7358c421\" width=\"100%\" height=\"800\" frameborder=\"0\">\n",
       "      </iframe>\n",
       "      <script>\n",
       "        (function() {\n",
       "          const frame = document.getElementById(\"tensorboard-frame-d22e6abe7358c421\");\n",
       "          const url = new URL(\"/\", window.location);\n",
       "          const port = 6008;\n",
       "          if (port) {\n",
       "            url.port = port;\n",
       "          }\n",
       "          frame.src = url;\n",
       "        })();\n",
       "      </script>\n",
       "    "
      ],
      "text/plain": [
       "<IPython.core.display.HTML object>"
      ]
     },
     "metadata": {},
     "output_type": "display_data"
    }
   ],
   "source": [
    "%tensorboard --logdir ../logs/training-logs/tensorboard/ONE_2_mae"
   ]
  },
  {
   "cell_type": "code",
   "execution_count": 7,
   "id": "b1bb2e1a-794e-49d5-a803-fd3c90715ae2",
   "metadata": {},
   "outputs": [
    {
     "data": {
      "text/html": [
       "\n",
       "      <iframe id=\"tensorboard-frame-1a881d039d5a692b\" width=\"100%\" height=\"800\" frameborder=\"0\">\n",
       "      </iframe>\n",
       "      <script>\n",
       "        (function() {\n",
       "          const frame = document.getElementById(\"tensorboard-frame-1a881d039d5a692b\");\n",
       "          const url = new URL(\"/\", window.location);\n",
       "          const port = 6009;\n",
       "          if (port) {\n",
       "            url.port = port;\n",
       "          }\n",
       "          frame.src = url;\n",
       "        })();\n",
       "      </script>\n",
       "    "
      ],
      "text/plain": [
       "<IPython.core.display.HTML object>"
      ]
     },
     "metadata": {},
     "output_type": "display_data"
    }
   ],
   "source": [
    "%tensorboard --logdir ../logs/training-logs/tensorboard/ONE_3_mae"
   ]
  },
  {
   "cell_type": "code",
   "execution_count": 8,
   "id": "a9e049fe-e234-4639-b97a-8daf21160436",
   "metadata": {},
   "outputs": [
    {
     "data": {
      "text/html": [
       "\n",
       "      <iframe id=\"tensorboard-frame-7c95ff5118d25d7\" width=\"100%\" height=\"800\" frameborder=\"0\">\n",
       "      </iframe>\n",
       "      <script>\n",
       "        (function() {\n",
       "          const frame = document.getElementById(\"tensorboard-frame-7c95ff5118d25d7\");\n",
       "          const url = new URL(\"/\", window.location);\n",
       "          const port = 6010;\n",
       "          if (port) {\n",
       "            url.port = port;\n",
       "          }\n",
       "          frame.src = url;\n",
       "        })();\n",
       "      </script>\n",
       "    "
      ],
      "text/plain": [
       "<IPython.core.display.HTML object>"
      ]
     },
     "metadata": {},
     "output_type": "display_data"
    }
   ],
   "source": [
    "%tensorboard --logdir ../logs/training-logs/tensorboard/ONE_4_mae"
   ]
  },
  {
   "cell_type": "code",
   "execution_count": 10,
   "id": "676f1c32-301a-40a4-8e7a-bc82e2fcd3b8",
   "metadata": {},
   "outputs": [
    {
     "data": {
      "text/plain": [
       "Reusing TensorBoard on port 6011 (pid 11280), started 0:00:45 ago. (Use '!kill 11280' to kill it.)"
      ]
     },
     "metadata": {},
     "output_type": "display_data"
    },
    {
     "data": {
      "text/html": [
       "\n",
       "      <iframe id=\"tensorboard-frame-83223ff2878c80ad\" width=\"100%\" height=\"800\" frameborder=\"0\">\n",
       "      </iframe>\n",
       "      <script>\n",
       "        (function() {\n",
       "          const frame = document.getElementById(\"tensorboard-frame-83223ff2878c80ad\");\n",
       "          const url = new URL(\"/\", window.location);\n",
       "          const port = 6011;\n",
       "          if (port) {\n",
       "            url.port = port;\n",
       "          }\n",
       "          frame.src = url;\n",
       "        })();\n",
       "      </script>\n",
       "    "
      ],
      "text/plain": [
       "<IPython.core.display.HTML object>"
      ]
     },
     "metadata": {},
     "output_type": "display_data"
    }
   ],
   "source": [
    "%tensorboard --logdir ../logs/training-logs/tensorboard/ONE_base"
   ]
  },
  {
   "cell_type": "code",
   "execution_count": 11,
   "id": "4dbfd3e4-5011-448d-8a76-20967080c9c3",
   "metadata": {},
   "outputs": [
    {
     "data": {
      "text/html": [
       "\n",
       "      <iframe id=\"tensorboard-frame-ea3cdafc5f16fc0\" width=\"100%\" height=\"800\" frameborder=\"0\">\n",
       "      </iframe>\n",
       "      <script>\n",
       "        (function() {\n",
       "          const frame = document.getElementById(\"tensorboard-frame-ea3cdafc5f16fc0\");\n",
       "          const url = new URL(\"/\", window.location);\n",
       "          const port = 6012;\n",
       "          if (port) {\n",
       "            url.port = port;\n",
       "          }\n",
       "          frame.src = url;\n",
       "        })();\n",
       "      </script>\n",
       "    "
      ],
      "text/plain": [
       "<IPython.core.display.HTML object>"
      ]
     },
     "metadata": {},
     "output_type": "display_data"
    }
   ],
   "source": [
    "%tensorboard --logdir ../logs/training-logs/tensorboard/ONE_base_huber"
   ]
  },
  {
   "cell_type": "code",
   "execution_count": 13,
   "id": "b08b9108-6ac1-497f-a06e-7e6e290a5c01",
   "metadata": {},
   "outputs": [
    {
     "data": {
      "text/plain": [
       "Reusing TensorBoard on port 6013 (pid 11292), started 0:00:20 ago. (Use '!kill 11292' to kill it.)"
      ]
     },
     "metadata": {},
     "output_type": "display_data"
    },
    {
     "data": {
      "text/html": [
       "\n",
       "      <iframe id=\"tensorboard-frame-62f356b3355d8fc0\" width=\"100%\" height=\"800\" frameborder=\"0\">\n",
       "      </iframe>\n",
       "      <script>\n",
       "        (function() {\n",
       "          const frame = document.getElementById(\"tensorboard-frame-62f356b3355d8fc0\");\n",
       "          const url = new URL(\"/\", window.location);\n",
       "          const port = 6013;\n",
       "          if (port) {\n",
       "            url.port = port;\n",
       "          }\n",
       "          frame.src = url;\n",
       "        })();\n",
       "      </script>\n",
       "    "
      ],
      "text/plain": [
       "<IPython.core.display.HTML object>"
      ]
     },
     "metadata": {},
     "output_type": "display_data"
    }
   ],
   "source": [
    "%tensorboard --logdir ../logs/training-logs/tensorboard/ONE_base_mae"
   ]
  },
  {
   "cell_type": "markdown",
   "id": "44617fed-57af-40e0-8bc6-378f1c57171d",
   "metadata": {
    "jp-MarkdownHeadingCollapsed": true,
    "tags": []
   },
   "source": [
    "## Corresponding Notebook: `stage-2/preprocessing_experiment_1`"
   ]
  },
  {
   "cell_type": "code",
   "execution_count": 15,
   "id": "2693a565-ef57-447a-ab7c-a67b9c945fee",
   "metadata": {},
   "outputs": [
    {
     "data": {
      "text/plain": [
       "Reusing TensorBoard on port 6014 (pid 11296), started 0:00:28 ago. (Use '!kill 11296' to kill it.)"
      ]
     },
     "metadata": {},
     "output_type": "display_data"
    },
    {
     "data": {
      "text/html": [
       "\n",
       "      <iframe id=\"tensorboard-frame-29fac2792f2c7b14\" width=\"100%\" height=\"800\" frameborder=\"0\">\n",
       "      </iframe>\n",
       "      <script>\n",
       "        (function() {\n",
       "          const frame = document.getElementById(\"tensorboard-frame-29fac2792f2c7b14\");\n",
       "          const url = new URL(\"/\", window.location);\n",
       "          const port = 6014;\n",
       "          if (port) {\n",
       "            url.port = port;\n",
       "          }\n",
       "          frame.src = url;\n",
       "        })();\n",
       "      </script>\n",
       "    "
      ],
      "text/plain": [
       "<IPython.core.display.HTML object>"
      ]
     },
     "metadata": {},
     "output_type": "display_data"
    }
   ],
   "source": [
    "%tensorboard --logdir ../logs/training-logs/tensorboard/KeyToCode-HL"
   ]
  },
  {
   "cell_type": "code",
   "execution_count": 17,
   "id": "b16dd96f-d906-4baf-b3c6-83206f01f0db",
   "metadata": {},
   "outputs": [
    {
     "data": {
      "text/plain": [
       "Reusing TensorBoard on port 6015 (pid 11306), started 0:00:10 ago. (Use '!kill 11306' to kill it.)"
      ]
     },
     "metadata": {},
     "output_type": "display_data"
    },
    {
     "data": {
      "text/html": [
       "\n",
       "      <iframe id=\"tensorboard-frame-cf319891ed9ac4e1\" width=\"100%\" height=\"800\" frameborder=\"0\">\n",
       "      </iframe>\n",
       "      <script>\n",
       "        (function() {\n",
       "          const frame = document.getElementById(\"tensorboard-frame-cf319891ed9ac4e1\");\n",
       "          const url = new URL(\"/\", window.location);\n",
       "          const port = 6015;\n",
       "          if (port) {\n",
       "            url.port = port;\n",
       "          }\n",
       "          frame.src = url;\n",
       "        })();\n",
       "      </script>\n",
       "    "
      ],
      "text/plain": [
       "<IPython.core.display.HTML object>"
      ]
     },
     "metadata": {},
     "output_type": "display_data"
    }
   ],
   "source": [
    "%tensorboard --logdir ../logs/training-logs/tensorboard/KeyToCode-HLPL"
   ]
  },
  {
   "cell_type": "code",
   "execution_count": 20,
   "id": "6add6f7d-c18a-4b63-b427-ec12af0226e7",
   "metadata": {},
   "outputs": [
    {
     "data": {
      "text/html": [
       "\n",
       "      <iframe id=\"tensorboard-frame-ece213a8bf899e66\" width=\"100%\" height=\"800\" frameborder=\"0\">\n",
       "      </iframe>\n",
       "      <script>\n",
       "        (function() {\n",
       "          const frame = document.getElementById(\"tensorboard-frame-ece213a8bf899e66\");\n",
       "          const url = new URL(\"/\", window.location);\n",
       "          const port = 6018;\n",
       "          if (port) {\n",
       "            url.port = port;\n",
       "          }\n",
       "          frame.src = url;\n",
       "        })();\n",
       "      </script>\n",
       "    "
      ],
      "text/plain": [
       "<IPython.core.display.HTML object>"
      ]
     },
     "metadata": {},
     "output_type": "display_data"
    }
   ],
   "source": [
    "%tensorboard --logdir ../logs/training-logs/tensorboard/typenet_base_mae_uni"
   ]
  },
  {
   "cell_type": "code",
   "execution_count": 21,
   "id": "59c65dc3-9255-441d-b7ff-e7789dc7d46b",
   "metadata": {},
   "outputs": [
    {
     "data": {
      "text/html": [
       "\n",
       "      <iframe id=\"tensorboard-frame-31331ad821d59805\" width=\"100%\" height=\"800\" frameborder=\"0\">\n",
       "      </iframe>\n",
       "      <script>\n",
       "        (function() {\n",
       "          const frame = document.getElementById(\"tensorboard-frame-31331ad821d59805\");\n",
       "          const url = new URL(\"/\", window.location);\n",
       "          const port = 6019;\n",
       "          if (port) {\n",
       "            url.port = port;\n",
       "          }\n",
       "          frame.src = url;\n",
       "        })();\n",
       "      </script>\n",
       "    "
      ],
      "text/plain": [
       "<IPython.core.display.HTML object>"
      ]
     },
     "metadata": {},
     "output_type": "display_data"
    }
   ],
   "source": [
    "%tensorboard --logdir ../logs/training-logs/tensorboard/typenet_base_mae_uni_1"
   ]
  },
  {
   "cell_type": "code",
   "execution_count": 22,
   "id": "b7869c4f-3823-4f51-82fb-7f1c3bff2a2f",
   "metadata": {},
   "outputs": [
    {
     "data": {
      "text/html": [
       "\n",
       "      <iframe id=\"tensorboard-frame-615a1532007dc58\" width=\"100%\" height=\"800\" frameborder=\"0\">\n",
       "      </iframe>\n",
       "      <script>\n",
       "        (function() {\n",
       "          const frame = document.getElementById(\"tensorboard-frame-615a1532007dc58\");\n",
       "          const url = new URL(\"/\", window.location);\n",
       "          const port = 6020;\n",
       "          if (port) {\n",
       "            url.port = port;\n",
       "          }\n",
       "          frame.src = url;\n",
       "        })();\n",
       "      </script>\n",
       "    "
      ],
      "text/plain": [
       "<IPython.core.display.HTML object>"
      ]
     },
     "metadata": {},
     "output_type": "display_data"
    }
   ],
   "source": [
    "%tensorboard --logdir ../logs/training-logs/tensorboard/TypeNet-base_no-keycode_ConcatRNN-base"
   ]
  },
  {
   "cell_type": "code",
   "execution_count": 23,
   "id": "8ab370f8-f3a2-45bf-b62b-b755046429f9",
   "metadata": {},
   "outputs": [
    {
     "data": {
      "text/html": [
       "\n",
       "      <iframe id=\"tensorboard-frame-271ee76054dfede0\" width=\"100%\" height=\"800\" frameborder=\"0\">\n",
       "      </iframe>\n",
       "      <script>\n",
       "        (function() {\n",
       "          const frame = document.getElementById(\"tensorboard-frame-271ee76054dfede0\");\n",
       "          const url = new URL(\"/\", window.location);\n",
       "          const port = 6021;\n",
       "          if (port) {\n",
       "            url.port = port;\n",
       "          }\n",
       "          frame.src = url;\n",
       "        })();\n",
       "      </script>\n",
       "    "
      ],
      "text/plain": [
       "<IPython.core.display.HTML object>"
      ]
     },
     "metadata": {},
     "output_type": "display_data"
    }
   ],
   "source": [
    "%tensorboard --logdir ../logs/experiments/tensorboard/Exp1Gp0"
   ]
  },
  {
   "cell_type": "code",
   "execution_count": 24,
   "id": "16788ef9-4f40-4435-993f-db49964555e6",
   "metadata": {},
   "outputs": [
    {
     "data": {
      "text/html": [
       "\n",
       "      <iframe id=\"tensorboard-frame-44b23ca8ee43c14d\" width=\"100%\" height=\"800\" frameborder=\"0\">\n",
       "      </iframe>\n",
       "      <script>\n",
       "        (function() {\n",
       "          const frame = document.getElementById(\"tensorboard-frame-44b23ca8ee43c14d\");\n",
       "          const url = new URL(\"/\", window.location);\n",
       "          const port = 6022;\n",
       "          if (port) {\n",
       "            url.port = port;\n",
       "          }\n",
       "          frame.src = url;\n",
       "        })();\n",
       "      </script>\n",
       "    "
      ],
      "text/plain": [
       "<IPython.core.display.HTML object>"
      ]
     },
     "metadata": {},
     "output_type": "display_data"
    }
   ],
   "source": [
    "%tensorboard --logdir ../logs/experiments/tensorboard/Exp1Gp1"
   ]
  },
  {
   "cell_type": "code",
   "execution_count": 25,
   "id": "66c21594-1be2-4e0b-a67f-0fafd6e7c5f4",
   "metadata": {},
   "outputs": [
    {
     "data": {
      "text/html": [
       "\n",
       "      <iframe id=\"tensorboard-frame-b8b390842a732337\" width=\"100%\" height=\"800\" frameborder=\"0\">\n",
       "      </iframe>\n",
       "      <script>\n",
       "        (function() {\n",
       "          const frame = document.getElementById(\"tensorboard-frame-b8b390842a732337\");\n",
       "          const url = new URL(\"/\", window.location);\n",
       "          const port = 6023;\n",
       "          if (port) {\n",
       "            url.port = port;\n",
       "          }\n",
       "          frame.src = url;\n",
       "        })();\n",
       "      </script>\n",
       "    "
      ],
      "text/plain": [
       "<IPython.core.display.HTML object>"
      ]
     },
     "metadata": {},
     "output_type": "display_data"
    }
   ],
   "source": [
    "%tensorboard --logdir ../logs/experiments/tensorboard/Exp1Gp2"
   ]
  },
  {
   "cell_type": "markdown",
   "id": "d4476479-fa9c-4770-bc01-3ff3cd4513a0",
   "metadata": {
    "jp-MarkdownHeadingCollapsed": true,
    "tags": []
   },
   "source": [
    "## Corresponding Notebook: `stage-2/preprocess_experiment_2`"
   ]
  },
  {
   "cell_type": "code",
   "execution_count": 26,
   "id": "f71a197f-5a35-4cc6-90ee-c247bbeef0a8",
   "metadata": {},
   "outputs": [
    {
     "data": {
      "text/html": [
       "\n",
       "      <iframe id=\"tensorboard-frame-3509785cdbc76059\" width=\"100%\" height=\"800\" frameborder=\"0\">\n",
       "      </iframe>\n",
       "      <script>\n",
       "        (function() {\n",
       "          const frame = document.getElementById(\"tensorboard-frame-3509785cdbc76059\");\n",
       "          const url = new URL(\"/\", window.location);\n",
       "          const port = 6024;\n",
       "          if (port) {\n",
       "            url.port = port;\n",
       "          }\n",
       "          frame.src = url;\n",
       "        })();\n",
       "      </script>\n",
       "    "
      ],
      "text/plain": [
       "<IPython.core.display.HTML object>"
      ]
     },
     "metadata": {},
     "output_type": "display_data"
    }
   ],
   "source": [
    "%tensorboard --logdir ../logs/experiments/tensorboard/NewExp0Gp0"
   ]
  },
  {
   "cell_type": "code",
   "execution_count": 27,
   "id": "b06dc5f1-748b-4f8e-99f8-625575f3dd75",
   "metadata": {},
   "outputs": [
    {
     "data": {
      "text/html": [
       "\n",
       "      <iframe id=\"tensorboard-frame-4f84c49591b5e92a\" width=\"100%\" height=\"800\" frameborder=\"0\">\n",
       "      </iframe>\n",
       "      <script>\n",
       "        (function() {\n",
       "          const frame = document.getElementById(\"tensorboard-frame-4f84c49591b5e92a\");\n",
       "          const url = new URL(\"/\", window.location);\n",
       "          const port = 6025;\n",
       "          if (port) {\n",
       "            url.port = port;\n",
       "          }\n",
       "          frame.src = url;\n",
       "        })();\n",
       "      </script>\n",
       "    "
      ],
      "text/plain": [
       "<IPython.core.display.HTML object>"
      ]
     },
     "metadata": {},
     "output_type": "display_data"
    }
   ],
   "source": [
    "%tensorboard --logdir ../logs/experiments/tensorboard/NewExp0Gp1"
   ]
  },
  {
   "cell_type": "code",
   "execution_count": 28,
   "id": "62ca12af-cb94-422c-8b08-044b76f6789e",
   "metadata": {},
   "outputs": [
    {
     "data": {
      "text/html": [
       "\n",
       "      <iframe id=\"tensorboard-frame-955d0ba4fe92b990\" width=\"100%\" height=\"800\" frameborder=\"0\">\n",
       "      </iframe>\n",
       "      <script>\n",
       "        (function() {\n",
       "          const frame = document.getElementById(\"tensorboard-frame-955d0ba4fe92b990\");\n",
       "          const url = new URL(\"/\", window.location);\n",
       "          const port = 6026;\n",
       "          if (port) {\n",
       "            url.port = port;\n",
       "          }\n",
       "          frame.src = url;\n",
       "        })();\n",
       "      </script>\n",
       "    "
      ],
      "text/plain": [
       "<IPython.core.display.HTML object>"
      ]
     },
     "metadata": {},
     "output_type": "display_data"
    }
   ],
   "source": [
    "%tensorboard --logdir ../logs/experiments/tensorboard/NewExp0Gp2"
   ]
  },
  {
   "cell_type": "code",
   "execution_count": 29,
   "id": "5fb0d7ae-c91f-4b5c-b751-75c9fd2a8c45",
   "metadata": {},
   "outputs": [
    {
     "data": {
      "text/html": [
       "\n",
       "      <iframe id=\"tensorboard-frame-5875b9bff8eb4719\" width=\"100%\" height=\"800\" frameborder=\"0\">\n",
       "      </iframe>\n",
       "      <script>\n",
       "        (function() {\n",
       "          const frame = document.getElementById(\"tensorboard-frame-5875b9bff8eb4719\");\n",
       "          const url = new URL(\"/\", window.location);\n",
       "          const port = 6027;\n",
       "          if (port) {\n",
       "            url.port = port;\n",
       "          }\n",
       "          frame.src = url;\n",
       "        })();\n",
       "      </script>\n",
       "    "
      ],
      "text/plain": [
       "<IPython.core.display.HTML object>"
      ]
     },
     "metadata": {},
     "output_type": "display_data"
    }
   ],
   "source": [
    "%tensorboard --logdir ../logs/experiments/tensorboard/NewExp0Gp3"
   ]
  },
  {
   "cell_type": "code",
   "execution_count": 30,
   "id": "dc75c199-ed89-4fed-a399-2b4746af794d",
   "metadata": {},
   "outputs": [
    {
     "data": {
      "text/html": [
       "\n",
       "      <iframe id=\"tensorboard-frame-760ad84e80eea963\" width=\"100%\" height=\"800\" frameborder=\"0\">\n",
       "      </iframe>\n",
       "      <script>\n",
       "        (function() {\n",
       "          const frame = document.getElementById(\"tensorboard-frame-760ad84e80eea963\");\n",
       "          const url = new URL(\"/\", window.location);\n",
       "          const port = 6028;\n",
       "          if (port) {\n",
       "            url.port = port;\n",
       "          }\n",
       "          frame.src = url;\n",
       "        })();\n",
       "      </script>\n",
       "    "
      ],
      "text/plain": [
       "<IPython.core.display.HTML object>"
      ]
     },
     "metadata": {},
     "output_type": "display_data"
    }
   ],
   "source": [
    "%tensorboard --logdir ../logs/experiments/tensorboard/NewExp0Gp4"
   ]
  },
  {
   "cell_type": "code",
   "execution_count": 32,
   "id": "837d55b4-6a05-4482-a530-cd16b1a228d8",
   "metadata": {},
   "outputs": [
    {
     "data": {
      "text/html": [
       "\n",
       "      <iframe id=\"tensorboard-frame-20e04b2be9680c09\" width=\"100%\" height=\"800\" frameborder=\"0\">\n",
       "      </iframe>\n",
       "      <script>\n",
       "        (function() {\n",
       "          const frame = document.getElementById(\"tensorboard-frame-20e04b2be9680c09\");\n",
       "          const url = new URL(\"/\", window.location);\n",
       "          const port = 6030;\n",
       "          if (port) {\n",
       "            url.port = port;\n",
       "          }\n",
       "          frame.src = url;\n",
       "        })();\n",
       "      </script>\n",
       "    "
      ],
      "text/plain": [
       "<IPython.core.display.HTML object>"
      ]
     },
     "metadata": {},
     "output_type": "display_data"
    }
   ],
   "source": [
    "%tensorboard --logdir ../logs/experiments/tensorboard/NExp1Gp0"
   ]
  },
  {
   "cell_type": "markdown",
   "id": "658f8bcc-4ed4-45c9-87db-cf952283d7fb",
   "metadata": {
    "jp-MarkdownHeadingCollapsed": true,
    "tags": []
   },
   "source": [
    "## Corresponding Notebook: `stage_3_experiments`"
   ]
  },
  {
   "cell_type": "code",
   "execution_count": 34,
   "id": "cafef591-211a-4a21-a9af-21d688ea44d4",
   "metadata": {},
   "outputs": [
    {
     "data": {
      "text/html": [
       "\n",
       "      <iframe id=\"tensorboard-frame-225c8f17b2d5c7d0\" width=\"100%\" height=\"800\" frameborder=\"0\">\n",
       "      </iframe>\n",
       "      <script>\n",
       "        (function() {\n",
       "          const frame = document.getElementById(\"tensorboard-frame-225c8f17b2d5c7d0\");\n",
       "          const url = new URL(\"/\", window.location);\n",
       "          const port = 6032;\n",
       "          if (port) {\n",
       "            url.port = port;\n",
       "          }\n",
       "          frame.src = url;\n",
       "        })();\n",
       "      </script>\n",
       "    "
      ],
      "text/plain": [
       "<IPython.core.display.HTML object>"
      ]
     },
     "metadata": {},
     "output_type": "display_data"
    }
   ],
   "source": [
    "%tensorboard --logdir ../logs/experiments/tensorboard/KDI_LeNet5_Dense-64-2-Reg"
   ]
  },
  {
   "cell_type": "code",
   "execution_count": 35,
   "id": "dbbd3c40-8593-4140-a4b5-3357014c1638",
   "metadata": {},
   "outputs": [
    {
     "data": {
      "text/html": [
       "\n",
       "      <iframe id=\"tensorboard-frame-f04eacc65f151fda\" width=\"100%\" height=\"800\" frameborder=\"0\">\n",
       "      </iframe>\n",
       "      <script>\n",
       "        (function() {\n",
       "          const frame = document.getElementById(\"tensorboard-frame-f04eacc65f151fda\");\n",
       "          const url = new URL(\"/\", window.location);\n",
       "          const port = 6033;\n",
       "          if (port) {\n",
       "            url.port = port;\n",
       "          }\n",
       "          frame.src = url;\n",
       "        })();\n",
       "      </script>\n",
       "    "
      ],
      "text/plain": [
       "<IPython.core.display.HTML object>"
      ]
     },
     "metadata": {},
     "output_type": "display_data"
    }
   ],
   "source": [
    "%tensorboard --logdir ../logs/experiments/tensorboard/KDI-1s_KDI-xs_GRU"
   ]
  },
  {
   "cell_type": "code",
   "execution_count": 36,
   "id": "78dd61f1-062e-4840-a9e1-e6323545e5d4",
   "metadata": {},
   "outputs": [
    {
     "data": {
      "text/html": [
       "\n",
       "      <iframe id=\"tensorboard-frame-d96d8d46ca4bcf71\" width=\"100%\" height=\"800\" frameborder=\"0\">\n",
       "      </iframe>\n",
       "      <script>\n",
       "        (function() {\n",
       "          const frame = document.getElementById(\"tensorboard-frame-d96d8d46ca4bcf71\");\n",
       "          const url = new URL(\"/\", window.location);\n",
       "          const port = 6034;\n",
       "          if (port) {\n",
       "            url.port = port;\n",
       "          }\n",
       "          frame.src = url;\n",
       "        })();\n",
       "      </script>\n",
       "    "
      ],
      "text/plain": [
       "<IPython.core.display.HTML object>"
      ]
     },
     "metadata": {},
     "output_type": "display_data"
    }
   ],
   "source": [
    "%tensorboard --logdir ../logs/experiments/tensorboard/KDI-s_KDI-xs_Dense-32-2"
   ]
  },
  {
   "cell_type": "code",
   "execution_count": 37,
   "id": "744c2c3f-cdf2-4841-912c-f9a148dad528",
   "metadata": {},
   "outputs": [
    {
     "data": {
      "text/html": [
       "\n",
       "      <iframe id=\"tensorboard-frame-6c7e61ddeec06d24\" width=\"100%\" height=\"800\" frameborder=\"0\">\n",
       "      </iframe>\n",
       "      <script>\n",
       "        (function() {\n",
       "          const frame = document.getElementById(\"tensorboard-frame-6c7e61ddeec06d24\");\n",
       "          const url = new URL(\"/\", window.location);\n",
       "          const port = 6035;\n",
       "          if (port) {\n",
       "            url.port = port;\n",
       "          }\n",
       "          frame.src = url;\n",
       "        })();\n",
       "      </script>\n",
       "    "
      ],
      "text/plain": [
       "<IPython.core.display.HTML object>"
      ]
     },
     "metadata": {},
     "output_type": "display_data"
    }
   ],
   "source": [
    "%tensorboard --logdir ../logs/experiments/tensorboard/KDI-s_KDI-xs_Dense-32-2-Reg"
   ]
  },
  {
   "cell_type": "code",
   "execution_count": 38,
   "id": "0840b58b-0ad9-44fc-a546-a1794fe67f28",
   "metadata": {},
   "outputs": [
    {
     "data": {
      "text/html": [
       "\n",
       "      <iframe id=\"tensorboard-frame-b3f5b8e8878b9f5e\" width=\"100%\" height=\"800\" frameborder=\"0\">\n",
       "      </iframe>\n",
       "      <script>\n",
       "        (function() {\n",
       "          const frame = document.getElementById(\"tensorboard-frame-b3f5b8e8878b9f5e\");\n",
       "          const url = new URL(\"/\", window.location);\n",
       "          const port = 6036;\n",
       "          if (port) {\n",
       "            url.port = port;\n",
       "          }\n",
       "          frame.src = url;\n",
       "        })();\n",
       "      </script>\n",
       "    "
      ],
      "text/plain": [
       "<IPython.core.display.HTML object>"
      ]
     },
     "metadata": {},
     "output_type": "display_data"
    }
   ],
   "source": [
    "%tensorboard --logdir ../logs/experiments/tensorboard/KDI-s_KDI-xs_Dense-nonReLU"
   ]
  },
  {
   "cell_type": "code",
   "execution_count": 39,
   "id": "b92acb8b-56b8-403a-9fb8-8ddaea2f7e86",
   "metadata": {},
   "outputs": [
    {
     "data": {
      "text/html": [
       "\n",
       "      <iframe id=\"tensorboard-frame-f10b653c3442ca77\" width=\"100%\" height=\"800\" frameborder=\"0\">\n",
       "      </iframe>\n",
       "      <script>\n",
       "        (function() {\n",
       "          const frame = document.getElementById(\"tensorboard-frame-f10b653c3442ca77\");\n",
       "          const url = new URL(\"/\", window.location);\n",
       "          const port = 6037;\n",
       "          if (port) {\n",
       "            url.port = port;\n",
       "          }\n",
       "          frame.src = url;\n",
       "        })();\n",
       "      </script>\n",
       "    "
      ],
      "text/plain": [
       "<IPython.core.display.HTML object>"
      ]
     },
     "metadata": {},
     "output_type": "display_data"
    }
   ],
   "source": [
    "%tensorboard --logdir ../logs/experiments/tensorboard/KDI-s_KDI-xs_Dense-ReLU"
   ]
  },
  {
   "cell_type": "code",
   "execution_count": 40,
   "id": "ecfb5867-8642-43e5-ac3f-ac6f773eb8c6",
   "metadata": {},
   "outputs": [
    {
     "data": {
      "text/html": [
       "\n",
       "      <iframe id=\"tensorboard-frame-6019534db63b0717\" width=\"100%\" height=\"800\" frameborder=\"0\">\n",
       "      </iframe>\n",
       "      <script>\n",
       "        (function() {\n",
       "          const frame = document.getElementById(\"tensorboard-frame-6019534db63b0717\");\n",
       "          const url = new URL(\"/\", window.location);\n",
       "          const port = 6038;\n",
       "          if (port) {\n",
       "            url.port = port;\n",
       "          }\n",
       "          frame.src = url;\n",
       "        })();\n",
       "      </script>\n",
       "    "
      ],
      "text/plain": [
       "<IPython.core.display.HTML object>"
      ]
     },
     "metadata": {},
     "output_type": "display_data"
    }
   ],
   "source": [
    "%tensorboard --logdir ../logs/experiments/tensorboard/KDI-s_KDI-xs_Dense-ReLU-l1l2reg"
   ]
  },
  {
   "cell_type": "code",
   "execution_count": 41,
   "id": "3b4924ad-c617-419e-afc6-7e15835166d4",
   "metadata": {},
   "outputs": [
    {
     "data": {
      "text/html": [
       "\n",
       "      <iframe id=\"tensorboard-frame-c6db300fb26f98e9\" width=\"100%\" height=\"800\" frameborder=\"0\">\n",
       "      </iframe>\n",
       "      <script>\n",
       "        (function() {\n",
       "          const frame = document.getElementById(\"tensorboard-frame-c6db300fb26f98e9\");\n",
       "          const url = new URL(\"/\", window.location);\n",
       "          const port = 6039;\n",
       "          if (port) {\n",
       "            url.port = port;\n",
       "          }\n",
       "          frame.src = url;\n",
       "        })();\n",
       "      </script>\n",
       "    "
      ],
      "text/plain": [
       "<IPython.core.display.HTML object>"
      ]
     },
     "metadata": {},
     "output_type": "display_data"
    }
   ],
   "source": [
    "%tensorboard --logdir ../logs/experiments/tensorboard/KDI-s_KDI-xs_Dense-ReLU-l2reg"
   ]
  },
  {
   "cell_type": "code",
   "execution_count": 42,
   "id": "a5c21313-66ea-4371-8606-b1de4f107a7c",
   "metadata": {},
   "outputs": [
    {
     "data": {
      "text/html": [
       "\n",
       "      <iframe id=\"tensorboard-frame-ca36b34850483c64\" width=\"100%\" height=\"800\" frameborder=\"0\">\n",
       "      </iframe>\n",
       "      <script>\n",
       "        (function() {\n",
       "          const frame = document.getElementById(\"tensorboard-frame-ca36b34850483c64\");\n",
       "          const url = new URL(\"/\", window.location);\n",
       "          const port = 6040;\n",
       "          if (port) {\n",
       "            url.port = port;\n",
       "          }\n",
       "          frame.src = url;\n",
       "        })();\n",
       "      </script>\n",
       "    "
      ],
      "text/plain": [
       "<IPython.core.display.HTML object>"
      ]
     },
     "metadata": {},
     "output_type": "display_data"
    }
   ],
   "source": [
    "%tensorboard --logdir ../logs/experiments/tensorboard/KDI-s_KDI-xs_Dense-ReLU-noreg"
   ]
  },
  {
   "cell_type": "code",
   "execution_count": 43,
   "id": "02a772f9-9f46-4b72-998f-654b7fa615c0",
   "metadata": {},
   "outputs": [
    {
     "data": {
      "text/html": [
       "\n",
       "      <iframe id=\"tensorboard-frame-df1589e3eb49439d\" width=\"100%\" height=\"800\" frameborder=\"0\">\n",
       "      </iframe>\n",
       "      <script>\n",
       "        (function() {\n",
       "          const frame = document.getElementById(\"tensorboard-frame-df1589e3eb49439d\");\n",
       "          const url = new URL(\"/\", window.location);\n",
       "          const port = 6041;\n",
       "          if (port) {\n",
       "            url.port = port;\n",
       "          }\n",
       "          frame.src = url;\n",
       "        })();\n",
       "      </script>\n",
       "    "
      ],
      "text/plain": [
       "<IPython.core.display.HTML object>"
      ]
     },
     "metadata": {},
     "output_type": "display_data"
    }
   ],
   "source": [
    "%tensorboard --logdir ../logs/experiments/tensorboard/KDS_TypeNet-GRU-64_None_Dense-60-30-2"
   ]
  },
  {
   "cell_type": "code",
   "execution_count": 44,
   "id": "2bddee8c-1ed3-41a7-8548-97e7a4d9803b",
   "metadata": {},
   "outputs": [
    {
     "data": {
      "text/html": [
       "\n",
       "      <iframe id=\"tensorboard-frame-24aa574495a335d7\" width=\"100%\" height=\"800\" frameborder=\"0\">\n",
       "      </iframe>\n",
       "      <script>\n",
       "        (function() {\n",
       "          const frame = document.getElementById(\"tensorboard-frame-24aa574495a335d7\");\n",
       "          const url = new URL(\"/\", window.location);\n",
       "          const port = 6042;\n",
       "          if (port) {\n",
       "            url.port = port;\n",
       "          }\n",
       "          frame.src = url;\n",
       "        })();\n",
       "      </script>\n",
       "    "
      ],
      "text/plain": [
       "<IPython.core.display.HTML object>"
      ]
     },
     "metadata": {},
     "output_type": "display_data"
    }
   ],
   "source": [
    "%tensorboard --logdir ../logs/experiments/tensorboard/KDS_TypeNet-GRU-64-dropout_None_Dense-60-30-2-Dropout"
   ]
  },
  {
   "cell_type": "code",
   "execution_count": 45,
   "id": "86609224-03fd-4c8a-be43-6ceaa0ecb9f6",
   "metadata": {},
   "outputs": [
    {
     "data": {
      "text/html": [
       "\n",
       "      <iframe id=\"tensorboard-frame-da336c7e93ba2180\" width=\"100%\" height=\"800\" frameborder=\"0\">\n",
       "      </iframe>\n",
       "      <script>\n",
       "        (function() {\n",
       "          const frame = document.getElementById(\"tensorboard-frame-da336c7e93ba2180\");\n",
       "          const url = new URL(\"/\", window.location);\n",
       "          const port = 6043;\n",
       "          if (port) {\n",
       "            url.port = port;\n",
       "          }\n",
       "          frame.src = url;\n",
       "        })();\n",
       "      </script>\n",
       "    "
      ],
      "text/plain": [
       "<IPython.core.display.HTML object>"
      ]
     },
     "metadata": {},
     "output_type": "display_data"
    }
   ],
   "source": [
    "%tensorboard --logdir ../logs/experiments/tensorboard/Keycode_TO_Time"
   ]
  },
  {
   "cell_type": "code",
   "execution_count": null,
   "id": "dd8288ee-2b8e-4ecc-b208-61c0da8866d8",
   "metadata": {},
   "outputs": [],
   "source": []
  }
 ],
 "metadata": {
  "kernelspec": {
   "display_name": "Python 3 (ipykernel)",
   "language": "python",
   "name": "python3"
  },
  "language_info": {
   "codemirror_mode": {
    "name": "ipython",
    "version": 3
   },
   "file_extension": ".py",
   "mimetype": "text/x-python",
   "name": "python",
   "nbconvert_exporter": "python",
   "pygments_lexer": "ipython3",
   "version": "3.8.13"
  }
 },
 "nbformat": 4,
 "nbformat_minor": 5
}
