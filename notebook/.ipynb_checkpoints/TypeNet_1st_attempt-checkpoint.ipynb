{
  "cells": [
    {
      "cell_type": "code",
      "execution_count": null,
      "metadata": {
        "colab": {
          "base_uri": "https://localhost:8080/"
        },
        "id": "H2W23wfnkUpC",
        "outputId": "ee142111-749f-4d99-e91d-e16105b12fc2"
      },
      "outputs": [
        {
          "name": "stdout",
          "output_type": "stream",
          "text": [
            "Mon Dec 12 04:44:56 2022       \n",
            "+-----------------------------------------------------------------------------+\n",
            "| NVIDIA-SMI 460.32.03    Driver Version: 460.32.03    CUDA Version: 11.2     |\n",
            "|-------------------------------+----------------------+----------------------+\n",
            "| GPU  Name        Persistence-M| Bus-Id        Disp.A | Volatile Uncorr. ECC |\n",
            "| Fan  Temp  Perf  Pwr:Usage/Cap|         Memory-Usage | GPU-Util  Compute M. |\n",
            "|                               |                      |               MIG M. |\n",
            "|===============================+======================+======================|\n",
            "|   0  A100-SXM4-40GB      Off  | 00000000:00:04.0 Off |                    0 |\n",
            "| N/A   34C    P0    54W / 350W |      0MiB / 40536MiB |      0%      Default |\n",
            "|                               |                      |             Disabled |\n",
            "+-------------------------------+----------------------+----------------------+\n",
            "                                                                               \n",
            "+-----------------------------------------------------------------------------+\n",
            "| Processes:                                                                  |\n",
            "|  GPU   GI   CI        PID   Type   Process name                  GPU Memory |\n",
            "|        ID   ID                                                   Usage      |\n",
            "|=============================================================================|\n",
            "|  No running processes found                                                 |\n",
            "+-----------------------------------------------------------------------------+\n"
          ]
        }
      ],
      "source": [
        "!nvidia-smi"
      ]
    },
    {
      "cell_type": "markdown",
      "metadata": {
        "id": "3vaFUVeCkYCz"
      },
      "source": [
        "# Notebook Plan"
      ]
    },
    {
      "cell_type": "markdown",
      "metadata": {
        "id": "UALpnffrkacA"
      },
      "source": [
        "#### Step 0: basic preprocessing\n",
        "* importing the files\n",
        "* fix keycode and letter misalignment\n",
        "\n",
        "#### Step 1: Preprocessing\n",
        "* extracting features: for each keystroke, an associated feature vector `[keycode, Hold Latency(HL), Inter-key Latency (IL), Press Latency (PL), Release Latency (RL)]`.\n",
        "* remove outliers: based on quantile\n",
        "* standardization & normalization\n",
        "    * only input features or output value as well\n",
        "\n",
        "#### Step 2: Build the Model : (RNN) TypeNet based regressor (user_id Unknown)\n",
        "0. hyper-parameters:\n",
        "    * window length `W`: how many keystrokes to form a sample\n",
        "    * batch size\n",
        "    * train-test ratio\n",
        "1. `embedding`: use `W`-many keystroke vectors ($1\\times 5$) to feed into the TypeNet architecture:\n",
        "    * Masking --> BatchNorm --> LSTM(128, recurrent dropout=0.2, `tanh`, return_sequences=True) --> Dropout(0.5) --> BatchNorm --> LSTM(128, recurrent dropout=0.2, `tanh`)\n",
        "    * output is ($1\\times 128$) embedded vector (user representation vector)\n",
        "    * This layer serves the purpose of implicitly identifying user\n",
        "2. `prediction`: use the user representation vector + current keystroke information (keycode) to predict the corresponding Hold Latancy (HL) and Inter-Key Latency (IL)\n",
        "    * currently: a GRU layer + Dense (should be modified)"
      ]
    },
    {
      "cell_type": "markdown",
      "metadata": {
        "id": "C1ktVBJmkcWt"
      },
      "source": [
        "# Importing Libraries and Dataset"
      ]
    },
    {
      "cell_type": "code",
      "execution_count": null,
      "metadata": {
        "colab": {
          "base_uri": "https://localhost:8080/"
        },
        "id": "ZyEDEbBQkeL3",
        "outputId": "ec313c42-f554-4a82-c479-640c62e85dd0"
      },
      "outputs": [
        {
          "name": "stdout",
          "output_type": "stream",
          "text": [
            "Mounted at /content/drive/\n"
          ]
        }
      ],
      "source": [
        "from google.colab import drive\n",
        "drive.mount('/content/drive/')"
      ]
    },
    {
      "cell_type": "code",
      "execution_count": null,
      "metadata": {
        "id": "WPJVpyuxkgjr"
      },
      "outputs": [],
      "source": [
        "import numpy as np\n",
        "import pandas as pd\n",
        "pd.set_option('display.float_format', lambda x: '%.1f' % x)\n",
        "import matplotlib.pyplot as plt\n",
        "\n",
        "import re\n",
        "import os\n",
        "\n",
        "import sys\n",
        "\n",
        "from sklearn.preprocessing import MinMaxScaler, StandardScaler\n",
        "\n",
        "import tensorflow as tf\n",
        "import tensorflow.keras as keras\n",
        "from tensorflow.keras import layers, models"
      ]
    },
    {
      "cell_type": "code",
      "execution_count": null,
      "metadata": {
        "id": "I90z9pM5ki8C"
      },
      "outputs": [],
      "source": [
        "def processing_folder(folder_path):\n",
        "    path = os.path.join(os.getcwd(), folder_path)\n",
        "    files = sorted(os.listdir(path), key=lambda x: int(re.findall(r'\\d+', x)[0]))\n",
        "    samples = []\n",
        "    cols = []\n",
        "    for path in files:\n",
        "        path = os.path.join(os.getcwd(), folder_path, path)\n",
        "        with open(path) as f:\n",
        "            lines = f.readlines()\n",
        "        sample = []\n",
        "        for line in lines:\n",
        "            ls = line.split('\\t')\n",
        "            if re.findall(r'\\w+|\\d+', ls[-1]):\n",
        "                ls[-1] = re.findall(r'\\w+|\\d+', ls[-1])[0]\n",
        "                sample.append(ls)\n",
        "        cols = sample[0]\n",
        "        samples = samples + sample[1:]\n",
        "    df = pd.DataFrame(samples)\n",
        "    df.columns = cols\n",
        "    return df"
      ]
    },
    {
      "cell_type": "code",
      "execution_count": null,
      "metadata": {
        "id": "9GU_j32zkkQp"
      },
      "outputs": [],
      "source": [
        "folder_path = \"../data/keystroke_sample_old\"\n",
        "folder_path = \"/content/drive/MyDrive/COMP576/keystroke-sample\"\n",
        "data = processing_folder(folder_path)"
      ]
    },
    {
      "cell_type": "markdown",
      "metadata": {
        "id": "_bi2Hnyikmt4"
      },
      "source": [
        "# TypeNet Preprocessing\n",
        "\n",
        "Input1: `W`-many chars make a window\n",
        "* Keycode: label tokenizer --> onehot encode\n",
        "* 4 timestamps: [A,B]\n",
        "  * [A2-A1, B1-A2, B1-A1, B2-A2]\n",
        "  * if B is the last char:\n",
        "    * A2 - A1 = A2 - A1\n",
        "    * B1 - A2 = A2 - A2 = 0\n",
        "    * B1 - A1 = A2 - A1\n",
        "    * B2 - A2 = A2 - A2 = 0\n",
        "    * [A2-A1, 0, A2-A1, 0]\n",
        "\n",
        "Input2:\n",
        "* `W+1`-th keycode\n",
        "\n",
        "Output:\n",
        "* `W+1`-th: [A2-A1, B1-A2] ([HL, IL])"
      ]
    },
    {
      "cell_type": "code",
      "execution_count": null,
      "metadata": {
        "id": "sP7n5Nedkm64"
      },
      "outputs": [],
      "source": [
        "def feature_extractor(data, participant):\n",
        "    data1 = data[data['PARTICIPANT_ID'] == participant]\n",
        "    data1 = data1[['KEYCODE', 'PRESS_TIME', 'RELEASE_TIME']]\n",
        "    data1[['PRESS_TIME', 'RELEASE_TIME']] = data1[['PRESS_TIME', 'RELEASE_TIME']].astype(dtype='int64')\n",
        "    data1['HL'] = data1['RELEASE_TIME'] - data1['PRESS_TIME']\n",
        "    data1['IL'] = np.array(list(data1['PRESS_TIME'][1:]) + list(data1['RELEASE_TIME'][-1:])) - np.array(data1['RELEASE_TIME'])\n",
        "    data1['PL'] = np.array(list(data1['PRESS_TIME'][1:]) + list(data1['RELEASE_TIME'][-1:])) - np.array(data1['PRESS_TIME'])\n",
        "    data1['RL'] = np.array(list(data1['RELEASE_TIME'][1:]) + list(data1['RELEASE_TIME'][-1:])) - np.array(data1['RELEASE_TIME'])\n",
        "    data1 = data1.drop(columns=['PRESS_TIME', 'RELEASE_TIME'])\n",
        "    return data1\n",
        "\n",
        "\n",
        "def remove_outliers(data, quantile_perc):\n",
        "     return data.loc[(data['HL'] <= data['HL'].quantile(quantile_perc))\n",
        "            & (data['IL'] <= data['IL'].quantile(quantile_perc))\n",
        "            & (data['PL'] <= data['PL'].quantile(quantile_perc))\n",
        "            & (data['RL'] <= data['RL'].quantile(quantile_perc))]\n",
        "\n",
        "\n",
        "def feature_scaling(main_data, mode='standard'):\n",
        "    if mode == 'standard':\n",
        "        scaler = StandardScaler()\n",
        "        scaler.fit(main_data)\n",
        "    else:\n",
        "        scaler = MinMaxScaler()\n",
        "        scaler.fit(main_data)\n",
        "    return scaler\n",
        "  \n",
        "\n",
        "def encode_obj(main_data, data, col='KEYCODE', to_onehot=True, dtype='int32', return_df=True):\n",
        "    tokenizer = keras.preprocessing.text.Tokenizer()\n",
        "    tokenizer.fit_on_texts(main_data[col])\n",
        "    maxid = len(tokenizer.word_index)\n",
        "    encoded = np.squeeze(np.array(tokenizer.texts_to_sequences(data[col])) - 1)\n",
        "    if to_onehot:\n",
        "        encoded = tf.one_hot(encoded, depth=maxid, dtype=dtype)\n",
        "    if return_df:\n",
        "        return np.concatenate([encoded, data.drop(columns=[col]).to_numpy()], axis=1)\n",
        "    return encoded"
      ]
    },
    {
      "cell_type": "code",
      "execution_count": null,
      "metadata": {
        "colab": {
          "base_uri": "https://localhost:8080/"
        },
        "id": "6avHK_MZkqPu",
        "outputId": "fcbcf833-c441-4ea6-90a6-1bfaa4788730"
      },
      "outputs": [
        {
          "data": {
            "text/plain": [
              "((535, 84), (95, 84))"
            ]
          },
          "execution_count": 7,
          "metadata": {},
          "output_type": "execute_result"
        }
      ],
      "source": [
        "train_size = 0.85\n",
        "\n",
        "user = feature_extractor(data, '5')\n",
        "user_encode = encode_obj(data, user)\n",
        "\n",
        "split_index = int(user_encode.shape[0] * train_size)\n",
        "user_train = user_encode[:split_index]\n",
        "user_test = user_encode[split_index:]\n",
        "user_train.shape, user_test.shape"
      ]
    },
    {
      "cell_type": "markdown",
      "metadata": {
        "id": "83zvsmHSkr3a"
      },
      "source": [
        "# STATs of the Extracted Dataframe `user`"
      ]
    },
    {
      "cell_type": "code",
      "execution_count": null,
      "metadata": {
        "colab": {
          "base_uri": "https://localhost:8080/"
        },
        "id": "FsPT7ilwkrnf",
        "outputId": "5a5185ce-0b43-440a-891d-43d31600f079"
      },
      "outputs": [
        {
          "data": {
            "text/html": [
              "\n",
              "  <div id=\"df-0c3de619-33e6-4a1d-90b7-5a6a267d182a\">\n",
              "    <div class=\"colab-df-container\">\n",
              "      <div>\n",
              "<style scoped>\n",
              "    .dataframe tbody tr th:only-of-type {\n",
              "        vertical-align: middle;\n",
              "    }\n",
              "\n",
              "    .dataframe tbody tr th {\n",
              "        vertical-align: top;\n",
              "    }\n",
              "\n",
              "    .dataframe thead th {\n",
              "        text-align: right;\n",
              "    }\n",
              "</style>\n",
              "<table border=\"1\" class=\"dataframe\">\n",
              "  <thead>\n",
              "    <tr style=\"text-align: right;\">\n",
              "      <th></th>\n",
              "      <th>KEYCODE</th>\n",
              "      <th>HL</th>\n",
              "      <th>IL</th>\n",
              "      <th>PL</th>\n",
              "      <th>RL</th>\n",
              "    </tr>\n",
              "  </thead>\n",
              "  <tbody>\n",
              "    <tr>\n",
              "      <th>0</th>\n",
              "      <td>16</td>\n",
              "      <td>168</td>\n",
              "      <td>-59</td>\n",
              "      <td>109</td>\n",
              "      <td>0</td>\n",
              "    </tr>\n",
              "    <tr>\n",
              "      <th>1</th>\n",
              "      <td>84</td>\n",
              "      <td>59</td>\n",
              "      <td>78</td>\n",
              "      <td>137</td>\n",
              "      <td>150</td>\n",
              "    </tr>\n",
              "    <tr>\n",
              "      <th>2</th>\n",
              "      <td>72</td>\n",
              "      <td>72</td>\n",
              "      <td>0</td>\n",
              "      <td>72</td>\n",
              "      <td>81</td>\n",
              "    </tr>\n",
              "  </tbody>\n",
              "</table>\n",
              "</div>\n",
              "      <button class=\"colab-df-convert\" onclick=\"convertToInteractive('df-0c3de619-33e6-4a1d-90b7-5a6a267d182a')\"\n",
              "              title=\"Convert this dataframe to an interactive table.\"\n",
              "              style=\"display:none;\">\n",
              "        \n",
              "  <svg xmlns=\"http://www.w3.org/2000/svg\" height=\"24px\"viewBox=\"0 0 24 24\"\n",
              "       width=\"24px\">\n",
              "    <path d=\"M0 0h24v24H0V0z\" fill=\"none\"/>\n",
              "    <path d=\"M18.56 5.44l.94 2.06.94-2.06 2.06-.94-2.06-.94-.94-2.06-.94 2.06-2.06.94zm-11 1L8.5 8.5l.94-2.06 2.06-.94-2.06-.94L8.5 2.5l-.94 2.06-2.06.94zm10 10l.94 2.06.94-2.06 2.06-.94-2.06-.94-.94-2.06-.94 2.06-2.06.94z\"/><path d=\"M17.41 7.96l-1.37-1.37c-.4-.4-.92-.59-1.43-.59-.52 0-1.04.2-1.43.59L10.3 9.45l-7.72 7.72c-.78.78-.78 2.05 0 2.83L4 21.41c.39.39.9.59 1.41.59.51 0 1.02-.2 1.41-.59l7.78-7.78 2.81-2.81c.8-.78.8-2.07 0-2.86zM5.41 20L4 18.59l7.72-7.72 1.47 1.35L5.41 20z\"/>\n",
              "  </svg>\n",
              "      </button>\n",
              "      \n",
              "  <style>\n",
              "    .colab-df-container {\n",
              "      display:flex;\n",
              "      flex-wrap:wrap;\n",
              "      gap: 12px;\n",
              "    }\n",
              "\n",
              "    .colab-df-convert {\n",
              "      background-color: #E8F0FE;\n",
              "      border: none;\n",
              "      border-radius: 50%;\n",
              "      cursor: pointer;\n",
              "      display: none;\n",
              "      fill: #1967D2;\n",
              "      height: 32px;\n",
              "      padding: 0 0 0 0;\n",
              "      width: 32px;\n",
              "    }\n",
              "\n",
              "    .colab-df-convert:hover {\n",
              "      background-color: #E2EBFA;\n",
              "      box-shadow: 0px 1px 2px rgba(60, 64, 67, 0.3), 0px 1px 3px 1px rgba(60, 64, 67, 0.15);\n",
              "      fill: #174EA6;\n",
              "    }\n",
              "\n",
              "    [theme=dark] .colab-df-convert {\n",
              "      background-color: #3B4455;\n",
              "      fill: #D2E3FC;\n",
              "    }\n",
              "\n",
              "    [theme=dark] .colab-df-convert:hover {\n",
              "      background-color: #434B5C;\n",
              "      box-shadow: 0px 1px 3px 1px rgba(0, 0, 0, 0.15);\n",
              "      filter: drop-shadow(0px 1px 2px rgba(0, 0, 0, 0.3));\n",
              "      fill: #FFFFFF;\n",
              "    }\n",
              "  </style>\n",
              "\n",
              "      <script>\n",
              "        const buttonEl =\n",
              "          document.querySelector('#df-0c3de619-33e6-4a1d-90b7-5a6a267d182a button.colab-df-convert');\n",
              "        buttonEl.style.display =\n",
              "          google.colab.kernel.accessAllowed ? 'block' : 'none';\n",
              "\n",
              "        async function convertToInteractive(key) {\n",
              "          const element = document.querySelector('#df-0c3de619-33e6-4a1d-90b7-5a6a267d182a');\n",
              "          const dataTable =\n",
              "            await google.colab.kernel.invokeFunction('convertToInteractive',\n",
              "                                                     [key], {});\n",
              "          if (!dataTable) return;\n",
              "\n",
              "          const docLinkHtml = 'Like what you see? Visit the ' +\n",
              "            '<a target=\"_blank\" href=https://colab.research.google.com/notebooks/data_table.ipynb>data table notebook</a>'\n",
              "            + ' to learn more about interactive tables.';\n",
              "          element.innerHTML = '';\n",
              "          dataTable['output_type'] = 'display_data';\n",
              "          await google.colab.output.renderOutput(dataTable, element);\n",
              "          const docLink = document.createElement('div');\n",
              "          docLink.innerHTML = docLinkHtml;\n",
              "          element.appendChild(docLink);\n",
              "        }\n",
              "      </script>\n",
              "    </div>\n",
              "  </div>\n",
              "  "
            ],
            "text/plain": [
              "  KEYCODE   HL  IL   PL   RL\n",
              "0      16  168 -59  109    0\n",
              "1      84   59  78  137  150\n",
              "2      72   72   0   72   81"
            ]
          },
          "execution_count": 8,
          "metadata": {},
          "output_type": "execute_result"
        }
      ],
      "source": [
        "user.head(3)"
      ]
    },
    {
      "cell_type": "code",
      "execution_count": null,
      "metadata": {
        "colab": {
          "base_uri": "https://localhost:8080/"
        },
        "id": "_Jib1hs0kuym",
        "outputId": "6eba97e6-d105-4248-aa7c-e5dbfeba9439"
      },
      "outputs": [
        {
          "data": {
            "text/html": [
              "\n",
              "  <div id=\"df-f4a58c5b-efe0-451e-89f7-fbd78818129e\">\n",
              "    <div class=\"colab-df-container\">\n",
              "      <div>\n",
              "<style scoped>\n",
              "    .dataframe tbody tr th:only-of-type {\n",
              "        vertical-align: middle;\n",
              "    }\n",
              "\n",
              "    .dataframe tbody tr th {\n",
              "        vertical-align: top;\n",
              "    }\n",
              "\n",
              "    .dataframe thead th {\n",
              "        text-align: right;\n",
              "    }\n",
              "</style>\n",
              "<table border=\"1\" class=\"dataframe\">\n",
              "  <thead>\n",
              "    <tr style=\"text-align: right;\">\n",
              "      <th></th>\n",
              "      <th>HL</th>\n",
              "      <th>IL</th>\n",
              "      <th>PL</th>\n",
              "      <th>RL</th>\n",
              "    </tr>\n",
              "  </thead>\n",
              "  <tbody>\n",
              "    <tr>\n",
              "      <th>count</th>\n",
              "      <td>630.0</td>\n",
              "      <td>630.0</td>\n",
              "      <td>630.0</td>\n",
              "      <td>630.0</td>\n",
              "    </tr>\n",
              "    <tr>\n",
              "      <th>mean</th>\n",
              "      <td>102.8</td>\n",
              "      <td>157.7</td>\n",
              "      <td>260.5</td>\n",
              "      <td>260.2</td>\n",
              "    </tr>\n",
              "    <tr>\n",
              "      <th>std</th>\n",
              "      <td>61.4</td>\n",
              "      <td>791.8</td>\n",
              "      <td>787.6</td>\n",
              "      <td>807.1</td>\n",
              "    </tr>\n",
              "    <tr>\n",
              "      <th>min</th>\n",
              "      <td>44.0</td>\n",
              "      <td>-1230.0</td>\n",
              "      <td>45.0</td>\n",
              "      <td>-1158.0</td>\n",
              "    </tr>\n",
              "    <tr>\n",
              "      <th>25%</th>\n",
              "      <td>76.2</td>\n",
              "      <td>0.0</td>\n",
              "      <td>103.0</td>\n",
              "      <td>91.0</td>\n",
              "    </tr>\n",
              "    <tr>\n",
              "      <th>50%</th>\n",
              "      <td>100.5</td>\n",
              "      <td>32.0</td>\n",
              "      <td>132.0</td>\n",
              "      <td>136.0</td>\n",
              "    </tr>\n",
              "    <tr>\n",
              "      <th>75%</th>\n",
              "      <td>118.0</td>\n",
              "      <td>79.8</td>\n",
              "      <td>167.0</td>\n",
              "      <td>182.0</td>\n",
              "    </tr>\n",
              "    <tr>\n",
              "      <th>max</th>\n",
              "      <td>1389.0</td>\n",
              "      <td>9723.0</td>\n",
              "      <td>9793.0</td>\n",
              "      <td>9924.0</td>\n",
              "    </tr>\n",
              "  </tbody>\n",
              "</table>\n",
              "</div>\n",
              "      <button class=\"colab-df-convert\" onclick=\"convertToInteractive('df-f4a58c5b-efe0-451e-89f7-fbd78818129e')\"\n",
              "              title=\"Convert this dataframe to an interactive table.\"\n",
              "              style=\"display:none;\">\n",
              "        \n",
              "  <svg xmlns=\"http://www.w3.org/2000/svg\" height=\"24px\"viewBox=\"0 0 24 24\"\n",
              "       width=\"24px\">\n",
              "    <path d=\"M0 0h24v24H0V0z\" fill=\"none\"/>\n",
              "    <path d=\"M18.56 5.44l.94 2.06.94-2.06 2.06-.94-2.06-.94-.94-2.06-.94 2.06-2.06.94zm-11 1L8.5 8.5l.94-2.06 2.06-.94-2.06-.94L8.5 2.5l-.94 2.06-2.06.94zm10 10l.94 2.06.94-2.06 2.06-.94-2.06-.94-.94-2.06-.94 2.06-2.06.94z\"/><path d=\"M17.41 7.96l-1.37-1.37c-.4-.4-.92-.59-1.43-.59-.52 0-1.04.2-1.43.59L10.3 9.45l-7.72 7.72c-.78.78-.78 2.05 0 2.83L4 21.41c.39.39.9.59 1.41.59.51 0 1.02-.2 1.41-.59l7.78-7.78 2.81-2.81c.8-.78.8-2.07 0-2.86zM5.41 20L4 18.59l7.72-7.72 1.47 1.35L5.41 20z\"/>\n",
              "  </svg>\n",
              "      </button>\n",
              "      \n",
              "  <style>\n",
              "    .colab-df-container {\n",
              "      display:flex;\n",
              "      flex-wrap:wrap;\n",
              "      gap: 12px;\n",
              "    }\n",
              "\n",
              "    .colab-df-convert {\n",
              "      background-color: #E8F0FE;\n",
              "      border: none;\n",
              "      border-radius: 50%;\n",
              "      cursor: pointer;\n",
              "      display: none;\n",
              "      fill: #1967D2;\n",
              "      height: 32px;\n",
              "      padding: 0 0 0 0;\n",
              "      width: 32px;\n",
              "    }\n",
              "\n",
              "    .colab-df-convert:hover {\n",
              "      background-color: #E2EBFA;\n",
              "      box-shadow: 0px 1px 2px rgba(60, 64, 67, 0.3), 0px 1px 3px 1px rgba(60, 64, 67, 0.15);\n",
              "      fill: #174EA6;\n",
              "    }\n",
              "\n",
              "    [theme=dark] .colab-df-convert {\n",
              "      background-color: #3B4455;\n",
              "      fill: #D2E3FC;\n",
              "    }\n",
              "\n",
              "    [theme=dark] .colab-df-convert:hover {\n",
              "      background-color: #434B5C;\n",
              "      box-shadow: 0px 1px 3px 1px rgba(0, 0, 0, 0.15);\n",
              "      filter: drop-shadow(0px 1px 2px rgba(0, 0, 0, 0.3));\n",
              "      fill: #FFFFFF;\n",
              "    }\n",
              "  </style>\n",
              "\n",
              "      <script>\n",
              "        const buttonEl =\n",
              "          document.querySelector('#df-f4a58c5b-efe0-451e-89f7-fbd78818129e button.colab-df-convert');\n",
              "        buttonEl.style.display =\n",
              "          google.colab.kernel.accessAllowed ? 'block' : 'none';\n",
              "\n",
              "        async function convertToInteractive(key) {\n",
              "          const element = document.querySelector('#df-f4a58c5b-efe0-451e-89f7-fbd78818129e');\n",
              "          const dataTable =\n",
              "            await google.colab.kernel.invokeFunction('convertToInteractive',\n",
              "                                                     [key], {});\n",
              "          if (!dataTable) return;\n",
              "\n",
              "          const docLinkHtml = 'Like what you see? Visit the ' +\n",
              "            '<a target=\"_blank\" href=https://colab.research.google.com/notebooks/data_table.ipynb>data table notebook</a>'\n",
              "            + ' to learn more about interactive tables.';\n",
              "          element.innerHTML = '';\n",
              "          dataTable['output_type'] = 'display_data';\n",
              "          await google.colab.output.renderOutput(dataTable, element);\n",
              "          const docLink = document.createElement('div');\n",
              "          docLink.innerHTML = docLinkHtml;\n",
              "          element.appendChild(docLink);\n",
              "        }\n",
              "      </script>\n",
              "    </div>\n",
              "  </div>\n",
              "  "
            ],
            "text/plain": [
              "          HL      IL     PL      RL\n",
              "count  630.0   630.0  630.0   630.0\n",
              "mean   102.8   157.7  260.5   260.2\n",
              "std     61.4   791.8  787.6   807.1\n",
              "min     44.0 -1230.0   45.0 -1158.0\n",
              "25%     76.2     0.0  103.0    91.0\n",
              "50%    100.5    32.0  132.0   136.0\n",
              "75%    118.0    79.8  167.0   182.0\n",
              "max   1389.0  9723.0 9793.0  9924.0"
            ]
          },
          "execution_count": 9,
          "metadata": {},
          "output_type": "execute_result"
        }
      ],
      "source": [
        "user.describe()"
      ]
    },
    {
      "cell_type": "code",
      "execution_count": null,
      "metadata": {
        "colab": {
          "base_uri": "https://localhost:8080/"
        },
        "id": "I8tP7s-ckv5x",
        "outputId": "861fc490-af15-417b-b74e-91dc45411299"
      },
      "outputs": [
        {
          "data": {
            "image/png": "[encoded data removed]",
            "text/plain": [
              "<Figure size 432x288 with 4 Axes>"
            ]
          },
          "metadata": {},
          "output_type": "display_data"
        }
      ],
      "source": [
        "user.hist();"
      ]
    },
    {
      "cell_type": "code",
      "execution_count": null,
      "metadata": {
        "colab": {
          "base_uri": "https://localhost:8080/"
        },
        "id": "wI4t6ClpkxEz",
        "outputId": "51d8c88f-8b6d-4606-b74d-619433b26fb7"
      },
      "outputs": [
        {
          "data": {
            "text/plain": [
              "array([[  0,   0,   0, ..., -59, 109,   0],\n",
              "       [  0,   0,   1, ...,  78, 137, 150],\n",
              "       [  0,   0,   0, ...,   0,  72,  81],\n",
              "       ...,\n",
              "       [  0,   1,   0, ...,  62, 134, 214],\n",
              "       [  0,   0,   0, ..., -57,  95,  68],\n",
              "       [  0,   0,   0, ...,   0, 125,   0]])"
            ]
          },
          "execution_count": 11,
          "metadata": {},
          "output_type": "execute_result"
        }
      ],
      "source": [
        "user_encode"
      ]
    },
    {
      "cell_type": "markdown",
      "metadata": {
        "id": "4_b_Enw3ky5q"
      },
      "source": [
        "# TypeNet Prepare for training"
      ]
    },
    {
      "cell_type": "code",
      "execution_count": null,
      "metadata": {
        "id": "wFL8WdwPkzLu"
      },
      "outputs": [],
      "source": [
        "# Hyperparameters\n",
        "\n",
        "n_steps = 30\n",
        "window_length = n_steps + 1\n",
        "batch_size = 24\n",
        "train_size = 0.85"
      ]
    },
    {
      "cell_type": "code",
      "execution_count": null,
      "metadata": {
        "id": "LzM1k6eOk1H0"
      },
      "outputs": [],
      "source": [
        "def split_train_test(user, \n",
        "                     train_size=0.85,\n",
        "                     outliter_quantile=0.95):\n",
        "    user = feature_extractor(data, user)\n",
        "    if outliter_quantile:\n",
        "        user = remove_outliers(user, outliter_quantile)\n",
        "    user = encode_obj(data, user)\n",
        "    split_index = int(user.shape[0] * train_size)\n",
        "    user_train_np = user[:split_index]\n",
        "    user_test_np = user[split_index:]\n",
        "    return user_train_np, user_test_np\n",
        "\n",
        "def tfds_train_test(user_train_np, user_test_np, scaler,\n",
        "                    n_steps=30, window_length=31, batch_size=32, scale_data=True):\n",
        "    user_train_np_s = scaler.transform(user_train_np)\n",
        "    user_test_np_s = scaler.transform(user_test_np)\n",
        "\n",
        "    user_train = tf.data.Dataset.from_tensor_slices(user_train_np)\n",
        "    user_test = tf.data.Dataset.from_tensor_slices(user_test_np)\n",
        "    user_train_s = tf.data.Dataset.from_tensor_slices(user_train_np_s)\n",
        "    user_test_s = tf.data.Dataset.from_tensor_slices(user_test_np_s)\n",
        "\n",
        "    user_train_s = user_train_s.window(window_length, shift=1, drop_remainder=True).flat_map(lambda window: window.batch(window_length)).batch(batch_size)\n",
        "    user_train_in = user_train_s.map(lambda window: (window[:, :n_steps, :], tf.reshape(tf.squeeze(window[:, n_steps:, :-4]), [-1, 80])))\n",
        "    user_train = user_train.window(window_length, shift=1, drop_remainder=True).flat_map(lambda window: window.batch(window_length)).batch(batch_size)\n",
        "    user_train_out = user_train.map(lambda window: window[:, n_steps:, -4:-2])\n",
        "\n",
        "    user_test_s = user_test_s.window(window_length, shift=1, drop_remainder=True).flat_map(lambda window: window.batch(window_length)).batch(batch_size)\n",
        "    user_test_in = user_test_s.map(lambda window: (window[:, :n_steps, :], tf.reshape(tf.squeeze(window[:, n_steps:, :-4]), [-1, 80])))\n",
        "    user_test = user_test.window(window_length, shift=1, drop_remainder=True).flat_map(lambda window: window.batch(window_length)).batch(batch_size)\n",
        "    user_test_out = user_test.map(lambda window: window[:, n_steps:, -4:-2])\n",
        "\n",
        "    return [user_train_in, user_train_out], [user_test_in, user_test_out]"
      ]
    },
    {
      "cell_type": "code",
      "execution_count": null,
      "metadata": {
        "colab": {
          "background_save": true
        },
        "id": "zoVvebMqk24W"
      },
      "outputs": [],
      "source": [
        "## generate feature scaler: `scaler`\n",
        "user_train_np, _ = split_train_test(data['PARTICIPANT_ID'].unique()[0])\n",
        "for id in data['PARTICIPANT_ID'].unique()[1:]:\n",
        "    curr_train_np, _ = split_train_test(id)\n",
        "    user_train_np = np.vstack([user_train_np, curr_train_np])\n",
        "scaler = feature_scaling(user_train_np, mode='standard')\n",
        "\n",
        "## scale the features and form TFDS datasets\n",
        "user_train_np, user_test_np = split_train_test(data['PARTICIPANT_ID'].unique()[0])\n",
        "[train_in, train_out], [test_in, test_out] = tfds_train_test(user_train_np, user_test_np, scaler)\n",
        "for id in data['PARTICIPANT_ID'].unique()[1:]:\n",
        "    user_train_np, user_test_np = split_train_test(id)\n",
        "    [curr_train_in, curr_train_out], [curr_test_in, curr_test_out] = tfds_train_test(user_train_np, user_test_np, scaler)\n",
        "    train_in = train_in.concatenate(curr_train_in)\n",
        "    train_out = train_out.concatenate(curr_train_out)\n",
        "    test_in = test_in.concatenate(curr_test_in)\n",
        "    test_out = test_out.concatenate(curr_test_out)\n",
        "\n",
        "trainset = tf.data.Dataset.zip((train_in, train_out))\n",
        "testset = tf.data.Dataset.zip((test_in, test_out))"
      ]
    },
    {
      "cell_type": "code",
      "source": [
        "user_train_np, user_train_np.shape"
      ],
      "metadata": {
        "colab": {
          "base_uri": "https://localhost:8080/"
        },
        "id": "LIOa9_42RSBX",
        "outputId": "5c415fb7-a439-4229-f61a-50255f65b893"
      },
      "execution_count": 46,
      "outputs": [
        {
          "output_type": "execute_result",
          "data": {
            "text/plain": [
              "(array([[  0,   0,   0, ...,  78, 192, 200],\n",
              "        [  0,   0,   0, ..., 109, 231, 184],\n",
              "        [  0,   0,   1, ..., 203, 278, 300],\n",
              "        ...,\n",
              "        [  0,   0,   0, ..., 218, 345, 333],\n",
              "        [  0,   0,   0, ..., 423, 512, 516],\n",
              "        [  0,   0,   0, ..., 203, 296, 300]]), (474, 84))"
            ]
          },
          "metadata": {},
          "execution_count": 46
        }
      ]
    },
    {
      "cell_type": "code",
      "source": [
        "scaler.transform(user_train_np), scaler.transform(user_train_np).shape"
      ],
      "metadata": {
        "colab": {
          "base_uri": "https://localhost:8080/"
        },
        "id": "cchVhmyBRpEI",
        "outputId": "5afc5d1a-0bf3-4e84-8458-cc21ce9ca201"
      },
      "execution_count": 47,
      "outputs": [
        {
          "output_type": "execute_result",
          "data": {
            "text/plain": [
              "(array([[-0.42338418, -0.3230079 , -0.27450244, ..., -0.25695239,\n",
              "         -0.21890368, -0.18965694],\n",
              "        [-0.42338418, -0.3230079 , -0.27450244, ..., -0.09970526,\n",
              "         -0.01884413, -0.26992255],\n",
              "        [-0.42338418, -0.3230079 ,  3.64295487, ...,  0.37710861,\n",
              "          0.22225328,  0.31200316],\n",
              "        ...,\n",
              "        [-0.42338418, -0.3230079 , -0.27450244, ...,  0.45319593,\n",
              "          0.56594533,  0.47755099],\n",
              "        [-0.42338418, -0.3230079 , -0.27450244, ...,  1.49305598,\n",
              "          1.42261058,  1.39558897],\n",
              "        [-0.42338418, -0.3230079 , -0.27450244, ...,  0.37710861,\n",
              "          0.31458846,  0.31200316]]), (474, 84))"
            ]
          },
          "metadata": {},
          "execution_count": 47
        }
      ]
    },
    {
      "cell_type": "code",
      "execution_count": null,
      "metadata": {
        "colab": {
          "background_save": true
        },
        "id": "mEasAuk-k4Hw",
        "outputId": "d7499ddf-e01b-491c-ec48-34093dc016f8"
      },
      "outputs": [
        {
          "name": "stdout",
          "output_type": "stream",
          "text": [
            "(32, 30, 84) (32, 80)\n",
            "(32, 1, 2)\n"
          ]
        }
      ],
      "source": [
        "for a, b in train_in.take(1):\n",
        "    print(a.shape, b.shape)\n",
        "\n",
        "for a in train_out.take(1):\n",
        "    print(a.shape)"
      ]
    },
    {
      "cell_type": "markdown",
      "metadata": {
        "id": "wz6kL6qNk8gg"
      },
      "source": [
        "# TypeNet Model & Training"
      ]
    },
    {
      "cell_type": "code",
      "execution_count": null,
      "metadata": {
        "colab": {
          "background_save": true
        },
        "id": "YaLt9tN-k5qA",
        "outputId": "bc649cfb-95df-4fa6-c903-07dbdfbd4617"
      },
      "outputs": [
        {
          "name": "stderr",
          "output_type": "stream",
          "text": [
            "WARNING:tensorflow:Layer lstm will not use cuDNN kernels since it doesn't meet the criteria. It will use a generic GPU kernel as fallback when running on GPU.\n",
            "WARNING:tensorflow:Layer lstm_1 will not use cuDNN kernels since it doesn't meet the criteria. It will use a generic GPU kernel as fallback when running on GPU.\n",
            "WARNING:tensorflow:Layer gru will not use cuDNN kernels since it doesn't meet the criteria. It will use a generic GPU kernel as fallback when running on GPU.\n"
          ]
        }
      ],
      "source": [
        "## building the model - 1\n",
        "input_1 = keras.layers.Input(shape=[None, 84], name='0-N char with timestamps')\n",
        "input_2 = keras.layers.Input(shape=[80], name='N+1 char without timestamps')\n",
        "batch_1 = keras.layers.BatchNormalization()(input_1)\n",
        "lstm_1 = keras.layers.LSTM(128, return_sequences=True, recurrent_dropout=0.2)(batch_1)\n",
        "dropout_1 = keras.layers.Dropout(0.5)(lstm_1)\n",
        "batch_2 = keras.layers.BatchNormalization()(dropout_1)\n",
        "lstm_2 = keras.layers.LSTM(128, recurrent_dropout=0.2)(batch_2)\n",
        "concat = keras.layers.concatenate([lstm_2, input_2])\n",
        "reshape = keras.layers.Reshape((208, 1))(concat)\n",
        "gru_1 = keras.layers.GRU(64, recurrent_dropout=0.2)(reshape)\n",
        "output = keras.layers.Dense(2)(gru_1)\n",
        "model = keras.Model(inputs=[input_1, input_2], outputs=[output])"
      ]
    },
    {
      "cell_type": "code",
      "execution_count": null,
      "metadata": {
        "colab": {
          "background_save": true
        },
        "id": "v_mGC8YCk-J9",
        "outputId": "eebdf6db-b8b4-4ec5-ca1c-5ba5c29639a4"
      },
      "outputs": [
        {
          "name": "stdout",
          "output_type": "stream",
          "text": [
            "Model: \"model\"\n",
            "__________________________________________________________________________________________________\n",
            " Layer (type)                   Output Shape         Param #     Connected to                     \n",
            "==================================================================================================\n",
            " 0-N char with timestamps (Inpu  [(None, None, 84)]  0           []                               \n",
            " tLayer)                                                                                          \n",
            "                                                                                                  \n",
            " batch_normalization (BatchNorm  (None, None, 84)    336         ['0-N char with timestamps[0][0]'\n",
            " alization)                                                      ]                                \n",
            "                                                                                                  \n",
            " lstm (LSTM)                    (None, None, 128)    109056      ['batch_normalization[0][0]']    \n",
            "                                                                                                  \n",
            " dropout (Dropout)              (None, None, 128)    0           ['lstm[0][0]']                   \n",
            "                                                                                                  \n",
            " batch_normalization_1 (BatchNo  (None, None, 128)   512         ['dropout[0][0]']                \n",
            " rmalization)                                                                                     \n",
            "                                                                                                  \n",
            " lstm_1 (LSTM)                  (None, 128)          131584      ['batch_normalization_1[0][0]']  \n",
            "                                                                                                  \n",
            " N+1 char without timestamps (I  [(None, 80)]        0           []                               \n",
            " nputLayer)                                                                                       \n",
            "                                                                                                  \n",
            " concatenate (Concatenate)      (None, 208)          0           ['lstm_1[0][0]',                 \n",
            "                                                                  'N+1 char without timestamps[0][\n",
            "                                                                 0]']                             \n",
            "                                                                                                  \n",
            " reshape (Reshape)              (None, 208, 1)       0           ['concatenate[0][0]']            \n",
            "                                                                                                  \n",
            " gru (GRU)                      (None, 64)           12864       ['reshape[0][0]']                \n",
            "                                                                                                  \n",
            " dense (Dense)                  (None, 2)            130         ['gru[0][0]']                    \n",
            "                                                                                                  \n",
            "==================================================================================================\n",
            "Total params: 254,482\n",
            "Trainable params: 254,058\n",
            "Non-trainable params: 424\n",
            "__________________________________________________________________________________________________\n"
          ]
        }
      ],
      "source": [
        "model.summary()"
      ]
    },
    {
      "cell_type": "code",
      "execution_count": null,
      "metadata": {
        "colab": {
          "background_save": true
        },
        "id": "VP7LZe05k_WA"
      },
      "outputs": [],
      "source": [
        "## callbakcs\n",
        "checkpoint_folder = '../training/checkpoint/TypeNet-baseline'\n",
        "checkpoint_path = os.path.join(os.getcwd(), checkpoint_folder)\n",
        "checkpoint = tf.keras.callbacks.ModelCheckpoint(filepath=checkpoint_path,\n",
        "                                                save_weights_only=True,\n",
        "                                                monitor='loss',\n",
        "                                                mode='min',\n",
        "                                                save_best_only=True)\n",
        "earlystopping = tf.keras.callbacks.EarlyStopping(monitor='loss', patience=1)\n",
        "tensorboard = tf.keras.callbacks.TensorBoard(log_dir=\"./logs\")"
      ]
    },
    {
      "cell_type": "code",
      "execution_count": null,
      "metadata": {
        "colab": {
          "background_save": true
        },
        "id": "hEIgxfLDlASK",
        "outputId": "022a9660-f1ee-46e3-c5a7-ac09be41695b"
      },
      "outputs": [
        {
          "name": "stdout",
          "output_type": "stream",
          "text": [
            "Epoch 1/10\n",
            "2565/2565 [==============================] - 1607s 624ms/step - loss: 22683.5625 - mse: 22667.7988 - val_loss: 20293.6406 - val_mse: 20276.8535\n",
            "Epoch 2/10\n",
            "2565/2565 [==============================] - 1592s 621ms/step - loss: 20459.5586 - mse: 20441.6406 - val_loss: 19786.5859 - val_mse: 19761.3301\n",
            "Epoch 3/10\n",
            "2565/2565 [==============================] - 1595s 622ms/step - loss: 20229.7207 - mse: 20211.1816 - val_loss: 19774.6191 - val_mse: 19749.0879\n",
            "Epoch 4/10\n",
            "2565/2565 [==============================] - 1592s 621ms/step - loss: 20235.0703 - mse: 20216.7852 - val_loss: 19732.5820 - val_mse: 19705.2207\n"
          ]
        }
      ],
      "source": [
        "model.compile(optimizer=tf.keras.optimizers.Adam(1e-3), loss='mse', metrics=['mse'])\n",
        "EPOCH = 10\n",
        "history = model.fit(trainset, epochs=EPOCH,\n",
        "                    validation_data=testset,\n",
        "                    callbacks=[earlystopping])"
      ]
    },
    {
      "cell_type": "code",
      "execution_count": null,
      "metadata": {
        "colab": {
          "background_save": true
        },
        "id": "PJOUND9plB5B",
        "outputId": "f503cfb8-0368-486f-8035-c1bf5f521aeb"
      },
      "outputs": [
        {
          "name": "stdout",
          "output_type": "stream",
          "text": [
            "1/1 [==============================] - 1s 717ms/step\n"
          ]
        }
      ],
      "source": [
        "for feature, label in testset.take(1):\n",
        "    y_pred = model.predict(feature)\n",
        "    y_true = np.squeeze(label)"
      ]
    },
    {
      "cell_type": "code",
      "source": [
        "def invert_scaling(x):\n",
        "    x = np.concatenate([np.zeros((x.shape[0], 65)), x, np.zeros((x.shape[0], 2))], axis=1)\n",
        "    return scaler.inverse_transform(x)[:, 65:67]"
      ],
      "metadata": {
        "id": "1XJOpzblQ-cv"
      },
      "execution_count": null,
      "outputs": []
    },
    {
      "cell_type": "code",
      "execution_count": 36,
      "metadata": {
        "colab": {
          "base_uri": "https://localhost:8080/"
        },
        "id": "cU7lJ4J0lEij",
        "outputId": "5e12dba3-b943-43e8-adab-6288da89a046"
      },
      "outputs": [
        {
          "output_type": "execute_result",
          "data": {
            "text/plain": [
              "array([[121, -16],\n",
              "       [ 93,  16],\n",
              "       [102,   0],\n",
              "       [ 52,  93],\n",
              "       [ 72,  79],\n",
              "       [ 56,  33],\n",
              "       [130, -32],\n",
              "       [ 68,  31],\n",
              "       [105, -36],\n",
              "       [ 82, 127],\n",
              "       [ 61,  46],\n",
              "       [117,  15],\n",
              "       [102,  16],\n",
              "       [ 67,  63],\n",
              "       [104, -59],\n",
              "       [ 75,  62],\n",
              "       [ 88,  79],\n",
              "       [ 57,  64],\n",
              "       [114,  31],\n",
              "       [124, -35],\n",
              "       [ 52,  94],\n",
              "       [118, 125],\n",
              "       [110,   0],\n",
              "       [111,   0],\n",
              "       [116,  15],\n",
              "       [103, 297],\n",
              "       [103,   0],\n",
              "       [115,  47],\n",
              "       [ 73,  62],\n",
              "       [125, -53],\n",
              "       [114,  31],\n",
              "       [118, -32]])"
            ]
          },
          "metadata": {},
          "execution_count": 36
        }
      ],
      "source": [
        "y_true"
      ]
    },
    {
      "cell_type": "code",
      "execution_count": 37,
      "metadata": {
        "colab": {
          "base_uri": "https://localhost:8080/"
        },
        "id": "AevuR-vUlFjp",
        "outputId": "f4ddc478-5d38-4fd4-a449-6dee628fda72"
      },
      "outputs": [
        {
          "output_type": "execute_result",
          "data": {
            "text/plain": [
              "array([[107.759   , 120.655334],\n",
              "       [107.759   , 120.655334],\n",
              "       [107.75905 , 120.65539 ],\n",
              "       [107.759   , 120.655334],\n",
              "       [107.75905 , 120.65539 ],\n",
              "       [107.759   , 120.655334],\n",
              "       [107.75905 , 120.65539 ],\n",
              "       [107.7597  , 120.65617 ],\n",
              "       [107.759094, 120.65545 ],\n",
              "       [107.759   , 120.655334],\n",
              "       [107.759   , 120.655334],\n",
              "       [107.75905 , 120.65539 ],\n",
              "       [107.759   , 120.655334],\n",
              "       [107.7597  , 120.65617 ],\n",
              "       [107.759094, 120.65545 ],\n",
              "       [107.75969 , 120.65617 ],\n",
              "       [107.75905 , 120.65539 ],\n",
              "       [107.759   , 120.655334],\n",
              "       [107.75914 , 120.6555  ],\n",
              "       [107.75905 , 120.65539 ],\n",
              "       [107.75905 , 120.65539 ],\n",
              "       [107.759094, 120.65545 ],\n",
              "       [107.75905 , 120.65539 ],\n",
              "       [107.75955 , 120.656006],\n",
              "       [107.759   , 120.655334],\n",
              "       [107.759   , 120.655334],\n",
              "       [107.75938 , 120.65573 ],\n",
              "       [107.75905 , 120.65539 ],\n",
              "       [107.759   , 120.655334],\n",
              "       [107.75905 , 120.65539 ],\n",
              "       [107.759   , 120.655334],\n",
              "       [107.759   , 120.655334]], dtype=float32)"
            ]
          },
          "metadata": {},
          "execution_count": 37
        }
      ],
      "source": [
        "y_pred"
      ]
    }
  ],
  "metadata": {
    "accelerator": "GPU",
    "colab": {
      "machine_shape": "hm",
      "provenance": []
    },
    "gpuClass": "premium",
    "kernelspec": {
      "display_name": "Python 3",
      "name": "python3"
    },
    "language_info": {
      "name": "python"
    }
  },
  "nbformat": 4,
  "nbformat_minor": 0
}