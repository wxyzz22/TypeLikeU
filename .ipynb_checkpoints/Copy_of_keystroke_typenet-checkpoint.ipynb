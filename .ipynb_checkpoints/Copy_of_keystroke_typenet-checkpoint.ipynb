{
  "cells": [
    {
      "cell_type": "markdown",
      "source": [
        "# Plan"
      ],
      "metadata": {
        "id": "-_gk1hmAwQ8p"
      }
    },
    {
      "cell_type": "markdown",
      "source": [
        "## Step 0: basic preprocessing\n",
        "* importing the files\n",
        "* fix keycode and letter misalignment\n",
        "\n",
        "\n",
        "## Model 1: (RNN) TypeNet based regressor (user_id Unknown)\n",
        "* preprocessing\n",
        "  * extracting features: for each keystroke, an associated feature vector `[keycode, Hold Latency(HL), Inter-key Latency (IL), Press Latency (PL), Release Latency (RL)]`.\n",
        "  * remove outliers: based on quantile\n",
        "  * standardization & normalization\n",
        "    * only input features or output value as well\n",
        "* building model structure\n",
        "  0. hyper-parameters:\n",
        "    * window length `W`: how many keystrokes to form a sample\n",
        "    * batch size\n",
        "    * train-test ratio\n",
        "  1. `embedding`: use `W`-many keystroke vectors ($1\\times 5$) to feed into the TypeNet architecture:\n",
        "    * Masking --> BatchNorm --> LSTM(128, recurrent dropout=0.2, `tanh`, return_sequences=True) --> Dropout(0.5) --> BatchNorm --> LSTM(128, recurrent dropout=0.2, `tanh`)\n",
        "    * output is ($1\\times 128$) embedded vector (user representation vector)\n",
        "    * This layer serves the purpose of implicitly identifying user\n",
        "  2. `prediction`: use the user representation vector + current keystroke information (keycode) to predict the corresponding Hold Latancy (HL) and Inter-Key Latency (IL)\n",
        "    * currently: a GRU layer + Dense (should be modified)\n",
        "\n",
        "\n",
        "## Model 2: (RNN)\n",
        "\n",
        "## Model 3: (CNN) feature engineering\n",
        "  * "
      ],
      "metadata": {
        "id": "MBHTDOdPwVCY"
      }
    },
    {
      "cell_type": "markdown",
      "metadata": {
        "id": "D_0bj9Wks3Xe"
      },
      "source": [
        "# Importing Libraries"
      ]
    },
    {
      "cell_type": "code",
      "execution_count": null,
      "metadata": {
        "colab": {
          "base_uri": "https://localhost:8080/"
        },
        "id": "JRWgYTQKsk20",
        "outputId": "73dab1ff-3501-4c15-c7d9-f453fc779d03"
      },
      "outputs": [
        {
          "output_type": "stream",
          "name": "stdout",
          "text": [
            "Mounted at /content/drive/\n"
          ]
        }
      ],
      "source": [
        "from google.colab import drive\n",
        "drive.mount('/content/drive/')"
      ]
    },
    {
      "cell_type": "code",
      "execution_count": null,
      "metadata": {
        "id": "EydqX1SxstUF"
      },
      "outputs": [],
      "source": [
        "import pandas as pd\n",
        "import tensorflow as tf\n",
        "import tensorflow.keras as keras\n",
        "import numpy as np\n",
        "\n",
        "import re\n",
        "import os"
      ]
    },
    {
      "cell_type": "code",
      "source": [
        "from sklearn.preprocessing import MinMaxScaler, StandardScaler"
      ],
      "metadata": {
        "id": "E22kAFU6t0Q1"
      },
      "execution_count": null,
      "outputs": []
    },
    {
      "cell_type": "markdown",
      "metadata": {
        "id": "II_NdTNSs5aP"
      },
      "source": [
        "# Importing Dataset"
      ]
    },
    {
      "cell_type": "code",
      "execution_count": null,
      "metadata": {
        "id": "zV7uQoDws-7s"
      },
      "outputs": [],
      "source": [
        "def processing_folder(folder_path):\n",
        "    os.chdir(folder_path)\n",
        "    files = sorted(os.listdir(folder_path), key=lambda x: int(re.findall(r'\\d+', x)[0]))\n",
        "    samples = []\n",
        "    cols = []\n",
        "    for path in files:\n",
        "        with open(path) as f:\n",
        "            lines = f.readlines()\n",
        "        sample = []\n",
        "        for line in lines:\n",
        "            ls = line.split('\\t')\n",
        "            if re.findall(r'\\w+|\\d+', ls[-1]):\n",
        "                ls[-1] = re.findall(r'\\w+|\\d+', ls[-1])[0]\n",
        "                sample.append(ls)\n",
        "        cols = sample[0]\n",
        "        samples = samples + sample[1:]\n",
        "    df = pd.DataFrame(samples)\n",
        "    df.columns = cols\n",
        "    return df"
      ]
    },
    {
      "cell_type": "code",
      "execution_count": null,
      "metadata": {
        "id": "CZv-QOXls_cr"
      },
      "outputs": [],
      "source": [
        "folder_path = \"/content/drive/MyDrive/COMP576/final-proj/keystroke-sample\"\n",
        "data = processing_folder(folder_path)"
      ]
    },
    {
      "cell_type": "code",
      "source": [
        "## find a pair of samples where keycode is the same but not the letter \n",
        "def return_keycode_dict(data, keycode_col, letter_col):\n",
        "    keycode_dict = {}\n",
        "    for keycode in data[keycode_col].unique():\n",
        "        keycode_dict[keycode] = data[data[keycode_col] == keycode][letter_col].unique()\n",
        "    return keycode_dict\n",
        "# return_keycode_dict(data, 'KEYCODE', 'LETTER')"
      ],
      "metadata": {
        "id": "r3Jeyq4Ikhls"
      },
      "execution_count": null,
      "outputs": []
    },
    {
      "cell_type": "code",
      "execution_count": null,
      "metadata": {
        "colab": {
          "base_uri": "https://localhost:8080/"
        },
        "id": "IhGzWb4htCch",
        "outputId": "8fd20128-648c-4318-b303-1f1a443f3dd9"
      },
      "outputs": [
        {
          "output_type": "execute_result",
          "data": {
            "text/plain": [
              "       PARTICIPANT_ID TEST_SECTION_ID  \\\n",
              "27374             124            1065   \n",
              "103917            469            4548   \n",
              "\n",
              "                                                 SENTENCE  \\\n",
              "27374   The four-city tour continues Friday in Kansas ...   \n",
              "103917                       Check with Vince Strohmeyer.   \n",
              "\n",
              "                                               USER_INPUT KEYSTROKE_ID  \\\n",
              "27374   The four-city tour continues Friday in Kansas ...        52846   \n",
              "103917                       Check with Vince Strohmeyer.       217730   \n",
              "\n",
              "           PRESS_TIME   RELEASE_TIME LETTER KEYCODE  \n",
              "27374   1471936273690  1471936273818      C      16  \n",
              "103917  1471941559448  1471941559496      C      16  "
            ],
            "text/html": [
              "\n",
              "  <div id=\"df-fe4cd359-4c4e-4ad8-b964-959d05efc63c\">\n",
              "    <div class=\"colab-df-container\">\n",
              "      <div>\n",
              "<style scoped>\n",
              "    .dataframe tbody tr th:only-of-type {\n",
              "        vertical-align: middle;\n",
              "    }\n",
              "\n",
              "    .dataframe tbody tr th {\n",
              "        vertical-align: top;\n",
              "    }\n",
              "\n",
              "    .dataframe thead th {\n",
              "        text-align: right;\n",
              "    }\n",
              "</style>\n",
              "<table border=\"1\" class=\"dataframe\">\n",
              "  <thead>\n",
              "    <tr style=\"text-align: right;\">\n",
              "      <th></th>\n",
              "      <th>PARTICIPANT_ID</th>\n",
              "      <th>TEST_SECTION_ID</th>\n",
              "      <th>SENTENCE</th>\n",
              "      <th>USER_INPUT</th>\n",
              "      <th>KEYSTROKE_ID</th>\n",
              "      <th>PRESS_TIME</th>\n",
              "      <th>RELEASE_TIME</th>\n",
              "      <th>LETTER</th>\n",
              "      <th>KEYCODE</th>\n",
              "    </tr>\n",
              "  </thead>\n",
              "  <tbody>\n",
              "    <tr>\n",
              "      <th>27374</th>\n",
              "      <td>124</td>\n",
              "      <td>1065</td>\n",
              "      <td>The four-city tour continues Friday in Kansas ...</td>\n",
              "      <td>The four-city tour continues Friday in Kansas ...</td>\n",
              "      <td>52846</td>\n",
              "      <td>1471936273690</td>\n",
              "      <td>1471936273818</td>\n",
              "      <td>C</td>\n",
              "      <td>16</td>\n",
              "    </tr>\n",
              "    <tr>\n",
              "      <th>103917</th>\n",
              "      <td>469</td>\n",
              "      <td>4548</td>\n",
              "      <td>Check with Vince Strohmeyer.</td>\n",
              "      <td>Check with Vince Strohmeyer.</td>\n",
              "      <td>217730</td>\n",
              "      <td>1471941559448</td>\n",
              "      <td>1471941559496</td>\n",
              "      <td>C</td>\n",
              "      <td>16</td>\n",
              "    </tr>\n",
              "  </tbody>\n",
              "</table>\n",
              "</div>\n",
              "      <button class=\"colab-df-convert\" onclick=\"convertToInteractive('df-fe4cd359-4c4e-4ad8-b964-959d05efc63c')\"\n",
              "              title=\"Convert this dataframe to an interactive table.\"\n",
              "              style=\"display:none;\">\n",
              "        \n",
              "  <svg xmlns=\"http://www.w3.org/2000/svg\" height=\"24px\"viewBox=\"0 0 24 24\"\n",
              "       width=\"24px\">\n",
              "    <path d=\"M0 0h24v24H0V0z\" fill=\"none\"/>\n",
              "    <path d=\"M18.56 5.44l.94 2.06.94-2.06 2.06-.94-2.06-.94-.94-2.06-.94 2.06-2.06.94zm-11 1L8.5 8.5l.94-2.06 2.06-.94-2.06-.94L8.5 2.5l-.94 2.06-2.06.94zm10 10l.94 2.06.94-2.06 2.06-.94-2.06-.94-.94-2.06-.94 2.06-2.06.94z\"/><path d=\"M17.41 7.96l-1.37-1.37c-.4-.4-.92-.59-1.43-.59-.52 0-1.04.2-1.43.59L10.3 9.45l-7.72 7.72c-.78.78-.78 2.05 0 2.83L4 21.41c.39.39.9.59 1.41.59.51 0 1.02-.2 1.41-.59l7.78-7.78 2.81-2.81c.8-.78.8-2.07 0-2.86zM5.41 20L4 18.59l7.72-7.72 1.47 1.35L5.41 20z\"/>\n",
              "  </svg>\n",
              "      </button>\n",
              "      \n",
              "  <style>\n",
              "    .colab-df-container {\n",
              "      display:flex;\n",
              "      flex-wrap:wrap;\n",
              "      gap: 12px;\n",
              "    }\n",
              "\n",
              "    .colab-df-convert {\n",
              "      background-color: #E8F0FE;\n",
              "      border: none;\n",
              "      border-radius: 50%;\n",
              "      cursor: pointer;\n",
              "      display: none;\n",
              "      fill: #1967D2;\n",
              "      height: 32px;\n",
              "      padding: 0 0 0 0;\n",
              "      width: 32px;\n",
              "    }\n",
              "\n",
              "    .colab-df-convert:hover {\n",
              "      background-color: #E2EBFA;\n",
              "      box-shadow: 0px 1px 2px rgba(60, 64, 67, 0.3), 0px 1px 3px 1px rgba(60, 64, 67, 0.15);\n",
              "      fill: #174EA6;\n",
              "    }\n",
              "\n",
              "    [theme=dark] .colab-df-convert {\n",
              "      background-color: #3B4455;\n",
              "      fill: #D2E3FC;\n",
              "    }\n",
              "\n",
              "    [theme=dark] .colab-df-convert:hover {\n",
              "      background-color: #434B5C;\n",
              "      box-shadow: 0px 1px 3px 1px rgba(0, 0, 0, 0.15);\n",
              "      filter: drop-shadow(0px 1px 2px rgba(0, 0, 0, 0.3));\n",
              "      fill: #FFFFFF;\n",
              "    }\n",
              "  </style>\n",
              "\n",
              "      <script>\n",
              "        const buttonEl =\n",
              "          document.querySelector('#df-fe4cd359-4c4e-4ad8-b964-959d05efc63c button.colab-df-convert');\n",
              "        buttonEl.style.display =\n",
              "          google.colab.kernel.accessAllowed ? 'block' : 'none';\n",
              "\n",
              "        async function convertToInteractive(key) {\n",
              "          const element = document.querySelector('#df-fe4cd359-4c4e-4ad8-b964-959d05efc63c');\n",
              "          const dataTable =\n",
              "            await google.colab.kernel.invokeFunction('convertToInteractive',\n",
              "                                                     [key], {});\n",
              "          if (!dataTable) return;\n",
              "\n",
              "          const docLinkHtml = 'Like what you see? Visit the ' +\n",
              "            '<a target=\"_blank\" href=https://colab.research.google.com/notebooks/data_table.ipynb>data table notebook</a>'\n",
              "            + ' to learn more about interactive tables.';\n",
              "          element.innerHTML = '';\n",
              "          dataTable['output_type'] = 'display_data';\n",
              "          await google.colab.output.renderOutput(dataTable, element);\n",
              "          const docLink = document.createElement('div');\n",
              "          docLink.innerHTML = docLinkHtml;\n",
              "          element.appendChild(docLink);\n",
              "        }\n",
              "      </script>\n",
              "    </div>\n",
              "  </div>\n",
              "  "
            ]
          },
          "metadata": {},
          "execution_count": 8
        }
      ],
      "source": [
        "df = data[data['KEYCODE'] == '16']\n",
        "df[df['LETTER'] == 'C']"
      ]
    },
    {
      "cell_type": "markdown",
      "metadata": {
        "id": "QzSw6ntftEVy"
      },
      "source": [
        "# TypeNet Preprocessing\n",
        "\n",
        "Input1: `W`-many chars make a window\n",
        "* Keycode: label tokenizer --> onehot encode\n",
        "* 4 timestamps: [A,B]\n",
        "  * [A2-A1, B1-A2, B1-A1, B2-A2]\n",
        "  * if B is the last char:\n",
        "    * A2 - A1 = A2 - A1\n",
        "    * B1 - A2 = A2 - A2 = 0\n",
        "    * B1 - A1 = A2 - A1\n",
        "    * B2 - A2 = A2 - A2 = 0\n",
        "    * [A2-A1, 0, A2-A1, 0]\n",
        "\n",
        "Input2:\n",
        "* `W+1`-th keycode\n",
        "\n",
        "Output:\n",
        "* `W+1`-th: [A2-A1, B1-A2] ([HL, IL])"
      ]
    },
    {
      "cell_type": "code",
      "execution_count": null,
      "metadata": {
        "id": "K7EvmdBCx6I7"
      },
      "outputs": [],
      "source": [
        "def feature_extractor(data, participant):\n",
        "    data1 = data[data['PARTICIPANT_ID'] == participant]\n",
        "    data1 = data1[['KEYCODE', 'PRESS_TIME', 'RELEASE_TIME']]\n",
        "    data1[['PRESS_TIME', 'RELEASE_TIME']] = data1[['PRESS_TIME', 'RELEASE_TIME']].astype(dtype='int64')\n",
        "    data1['HL'] = data1['RELEASE_TIME'] - data1['PRESS_TIME']\n",
        "    data1['IL'] = np.array(list(data1['PRESS_TIME'][1:]) + list(data1['RELEASE_TIME'][-1:])) - np.array(data1['RELEASE_TIME'])\n",
        "    data1['PL'] = np.array(list(data1['PRESS_TIME'][1:]) + list(data1['RELEASE_TIME'][-1:])) - np.array(data1['PRESS_TIME'])\n",
        "    data1['RL'] = np.array(list(data1['RELEASE_TIME'][1:]) + list(data1['RELEASE_TIME'][-1:])) - np.array(data1['RELEASE_TIME'])\n",
        "    data1 = data1.drop(columns=['PRESS_TIME', 'RELEASE_TIME'])\n",
        "    return data1"
      ]
    },
    {
      "cell_type": "code",
      "execution_count": null,
      "metadata": {
        "id": "dBrbTRgF1hjE"
      },
      "outputs": [],
      "source": [
        "def remove_outliers(data, quantile_perc):\n",
        "     return data.loc[(data['HL'] <= data['HL'].quantile(quantile_perc))\n",
        "            & (data['IL'] <= data['IL'].quantile(quantile_perc))\n",
        "            & (data['PL'] <= data['PL'].quantile(quantile_perc))\n",
        "            & (data['RL'] <= data['RL'].quantile(quantile_perc))]"
      ]
    },
    {
      "cell_type": "code",
      "source": [
        "def feature_scaling(main_data, mode='standard'):\n",
        "    if mode == 'standard':\n",
        "        scaler = StandardScaler()\n",
        "        scaler.fit(main_data)\n",
        "    else:\n",
        "        scaler = MinMaxScaler()\n",
        "        scaler.fit(main_data)\n",
        "    return scaler"
      ],
      "metadata": {
        "id": "mSrsUEJhuFFn"
      },
      "execution_count": null,
      "outputs": []
    },
    {
      "cell_type": "code",
      "execution_count": null,
      "metadata": {
        "id": "AV4in_QW5Zz3"
      },
      "outputs": [],
      "source": [
        "def encode_obj(main_data, data, col='KEYCODE', to_onehot=True, dtype='int32', return_df=True):\n",
        "    tokenizer = keras.preprocessing.text.Tokenizer()\n",
        "    tokenizer.fit_on_texts(main_data[col])\n",
        "    maxid = len(tokenizer.word_index)\n",
        "    encoded = np.squeeze(np.array(tokenizer.texts_to_sequences(data[col])) - 1)\n",
        "    if to_onehot:\n",
        "        encoded = tf.one_hot(encoded, depth=maxid, dtype=dtype)\n",
        "    if return_df:\n",
        "        return np.concatenate([encoded, data.drop(columns=[col]).to_numpy()], axis=1)\n",
        "    return encoded"
      ]
    },
    {
      "cell_type": "code",
      "source": [
        "train_size = 0.85\n",
        "\n",
        "user = feature_extractor(data, '5')\n",
        "user_encode = encode_obj(data, user)\n",
        "\n",
        "split_index = int(user_encode.shape[0] * train_size)\n",
        "user_train = user_encode[:split_index]\n",
        "user_test = user_encode[split_index:]\n",
        "user_train.shape, user_test.shape"
      ],
      "metadata": {
        "colab": {
          "base_uri": "https://localhost:8080/"
        },
        "id": "UaX4i_2vx4WM",
        "outputId": "e635eed9-10d7-473a-df27-98ac471ab82b"
      },
      "execution_count": null,
      "outputs": [
        {
          "output_type": "execute_result",
          "data": {
            "text/plain": [
              "((535, 84), (95, 84))"
            ]
          },
          "metadata": {},
          "execution_count": 13
        }
      ]
    },
    {
      "cell_type": "code",
      "source": [
        "user"
      ],
      "metadata": {
        "colab": {
          "base_uri": "https://localhost:8080/",
          "height": 424
        },
        "id": "e8L9p8CCfUc8",
        "outputId": "c0d58166-b3ad-4dbb-a478-ad9b64312262"
      },
      "execution_count": null,
      "outputs": [
        {
          "output_type": "execute_result",
          "data": {
            "text/plain": [
              "    KEYCODE   HL   IL   PL   RL\n",
              "0        16  168  -59  109    0\n",
              "1        84   59   78  137  150\n",
              "2        72   72    0   72   81\n",
              "3        69   81   63  144  147\n",
              "4        32   84  100  184  218\n",
              "..      ...  ...  ...  ...  ...\n",
              "625      70  105  109  214  169\n",
              "626      69   60   94  154  166\n",
              "627      69   72   62  134  214\n",
              "628      16  152  -57   95   68\n",
              "629     191  125    0  125    0\n",
              "\n",
              "[630 rows x 5 columns]"
            ],
            "text/html": [
              "\n",
              "  <div id=\"df-1d8a21d3-9cce-4fa6-9d46-d698f060c639\">\n",
              "    <div class=\"colab-df-container\">\n",
              "      <div>\n",
              "<style scoped>\n",
              "    .dataframe tbody tr th:only-of-type {\n",
              "        vertical-align: middle;\n",
              "    }\n",
              "\n",
              "    .dataframe tbody tr th {\n",
              "        vertical-align: top;\n",
              "    }\n",
              "\n",
              "    .dataframe thead th {\n",
              "        text-align: right;\n",
              "    }\n",
              "</style>\n",
              "<table border=\"1\" class=\"dataframe\">\n",
              "  <thead>\n",
              "    <tr style=\"text-align: right;\">\n",
              "      <th></th>\n",
              "      <th>KEYCODE</th>\n",
              "      <th>HL</th>\n",
              "      <th>IL</th>\n",
              "      <th>PL</th>\n",
              "      <th>RL</th>\n",
              "    </tr>\n",
              "  </thead>\n",
              "  <tbody>\n",
              "    <tr>\n",
              "      <th>0</th>\n",
              "      <td>16</td>\n",
              "      <td>168</td>\n",
              "      <td>-59</td>\n",
              "      <td>109</td>\n",
              "      <td>0</td>\n",
              "    </tr>\n",
              "    <tr>\n",
              "      <th>1</th>\n",
              "      <td>84</td>\n",
              "      <td>59</td>\n",
              "      <td>78</td>\n",
              "      <td>137</td>\n",
              "      <td>150</td>\n",
              "    </tr>\n",
              "    <tr>\n",
              "      <th>2</th>\n",
              "      <td>72</td>\n",
              "      <td>72</td>\n",
              "      <td>0</td>\n",
              "      <td>72</td>\n",
              "      <td>81</td>\n",
              "    </tr>\n",
              "    <tr>\n",
              "      <th>3</th>\n",
              "      <td>69</td>\n",
              "      <td>81</td>\n",
              "      <td>63</td>\n",
              "      <td>144</td>\n",
              "      <td>147</td>\n",
              "    </tr>\n",
              "    <tr>\n",
              "      <th>4</th>\n",
              "      <td>32</td>\n",
              "      <td>84</td>\n",
              "      <td>100</td>\n",
              "      <td>184</td>\n",
              "      <td>218</td>\n",
              "    </tr>\n",
              "    <tr>\n",
              "      <th>...</th>\n",
              "      <td>...</td>\n",
              "      <td>...</td>\n",
              "      <td>...</td>\n",
              "      <td>...</td>\n",
              "      <td>...</td>\n",
              "    </tr>\n",
              "    <tr>\n",
              "      <th>625</th>\n",
              "      <td>70</td>\n",
              "      <td>105</td>\n",
              "      <td>109</td>\n",
              "      <td>214</td>\n",
              "      <td>169</td>\n",
              "    </tr>\n",
              "    <tr>\n",
              "      <th>626</th>\n",
              "      <td>69</td>\n",
              "      <td>60</td>\n",
              "      <td>94</td>\n",
              "      <td>154</td>\n",
              "      <td>166</td>\n",
              "    </tr>\n",
              "    <tr>\n",
              "      <th>627</th>\n",
              "      <td>69</td>\n",
              "      <td>72</td>\n",
              "      <td>62</td>\n",
              "      <td>134</td>\n",
              "      <td>214</td>\n",
              "    </tr>\n",
              "    <tr>\n",
              "      <th>628</th>\n",
              "      <td>16</td>\n",
              "      <td>152</td>\n",
              "      <td>-57</td>\n",
              "      <td>95</td>\n",
              "      <td>68</td>\n",
              "    </tr>\n",
              "    <tr>\n",
              "      <th>629</th>\n",
              "      <td>191</td>\n",
              "      <td>125</td>\n",
              "      <td>0</td>\n",
              "      <td>125</td>\n",
              "      <td>0</td>\n",
              "    </tr>\n",
              "  </tbody>\n",
              "</table>\n",
              "<p>630 rows × 5 columns</p>\n",
              "</div>\n",
              "      <button class=\"colab-df-convert\" onclick=\"convertToInteractive('df-1d8a21d3-9cce-4fa6-9d46-d698f060c639')\"\n",
              "              title=\"Convert this dataframe to an interactive table.\"\n",
              "              style=\"display:none;\">\n",
              "        \n",
              "  <svg xmlns=\"http://www.w3.org/2000/svg\" height=\"24px\"viewBox=\"0 0 24 24\"\n",
              "       width=\"24px\">\n",
              "    <path d=\"M0 0h24v24H0V0z\" fill=\"none\"/>\n",
              "    <path d=\"M18.56 5.44l.94 2.06.94-2.06 2.06-.94-2.06-.94-.94-2.06-.94 2.06-2.06.94zm-11 1L8.5 8.5l.94-2.06 2.06-.94-2.06-.94L8.5 2.5l-.94 2.06-2.06.94zm10 10l.94 2.06.94-2.06 2.06-.94-2.06-.94-.94-2.06-.94 2.06-2.06.94z\"/><path d=\"M17.41 7.96l-1.37-1.37c-.4-.4-.92-.59-1.43-.59-.52 0-1.04.2-1.43.59L10.3 9.45l-7.72 7.72c-.78.78-.78 2.05 0 2.83L4 21.41c.39.39.9.59 1.41.59.51 0 1.02-.2 1.41-.59l7.78-7.78 2.81-2.81c.8-.78.8-2.07 0-2.86zM5.41 20L4 18.59l7.72-7.72 1.47 1.35L5.41 20z\"/>\n",
              "  </svg>\n",
              "      </button>\n",
              "      \n",
              "  <style>\n",
              "    .colab-df-container {\n",
              "      display:flex;\n",
              "      flex-wrap:wrap;\n",
              "      gap: 12px;\n",
              "    }\n",
              "\n",
              "    .colab-df-convert {\n",
              "      background-color: #E8F0FE;\n",
              "      border: none;\n",
              "      border-radius: 50%;\n",
              "      cursor: pointer;\n",
              "      display: none;\n",
              "      fill: #1967D2;\n",
              "      height: 32px;\n",
              "      padding: 0 0 0 0;\n",
              "      width: 32px;\n",
              "    }\n",
              "\n",
              "    .colab-df-convert:hover {\n",
              "      background-color: #E2EBFA;\n",
              "      box-shadow: 0px 1px 2px rgba(60, 64, 67, 0.3), 0px 1px 3px 1px rgba(60, 64, 67, 0.15);\n",
              "      fill: #174EA6;\n",
              "    }\n",
              "\n",
              "    [theme=dark] .colab-df-convert {\n",
              "      background-color: #3B4455;\n",
              "      fill: #D2E3FC;\n",
              "    }\n",
              "\n",
              "    [theme=dark] .colab-df-convert:hover {\n",
              "      background-color: #434B5C;\n",
              "      box-shadow: 0px 1px 3px 1px rgba(0, 0, 0, 0.15);\n",
              "      filter: drop-shadow(0px 1px 2px rgba(0, 0, 0, 0.3));\n",
              "      fill: #FFFFFF;\n",
              "    }\n",
              "  </style>\n",
              "\n",
              "      <script>\n",
              "        const buttonEl =\n",
              "          document.querySelector('#df-1d8a21d3-9cce-4fa6-9d46-d698f060c639 button.colab-df-convert');\n",
              "        buttonEl.style.display =\n",
              "          google.colab.kernel.accessAllowed ? 'block' : 'none';\n",
              "\n",
              "        async function convertToInteractive(key) {\n",
              "          const element = document.querySelector('#df-1d8a21d3-9cce-4fa6-9d46-d698f060c639');\n",
              "          const dataTable =\n",
              "            await google.colab.kernel.invokeFunction('convertToInteractive',\n",
              "                                                     [key], {});\n",
              "          if (!dataTable) return;\n",
              "\n",
              "          const docLinkHtml = 'Like what you see? Visit the ' +\n",
              "            '<a target=\"_blank\" href=https://colab.research.google.com/notebooks/data_table.ipynb>data table notebook</a>'\n",
              "            + ' to learn more about interactive tables.';\n",
              "          element.innerHTML = '';\n",
              "          dataTable['output_type'] = 'display_data';\n",
              "          await google.colab.output.renderOutput(dataTable, element);\n",
              "          const docLink = document.createElement('div');\n",
              "          docLink.innerHTML = docLinkHtml;\n",
              "          element.appendChild(docLink);\n",
              "        }\n",
              "      </script>\n",
              "    </div>\n",
              "  </div>\n",
              "  "
            ]
          },
          "metadata": {},
          "execution_count": 14
        }
      ]
    },
    {
      "cell_type": "code",
      "source": [
        "user.describe()"
      ],
      "metadata": {
        "colab": {
          "base_uri": "https://localhost:8080/",
          "height": 300
        },
        "id": "mug0syPEFfsY",
        "outputId": "285a0478-defc-46b9-f84f-ec94f7eb5634"
      },
      "execution_count": null,
      "outputs": [
        {
          "output_type": "execute_result",
          "data": {
            "text/plain": [
              "                HL           IL           PL           RL\n",
              "count   630.000000   630.000000   630.000000   630.000000\n",
              "mean    102.780952   157.731746   260.512698   260.246032\n",
              "std      61.438865   791.768638   787.562161   807.077244\n",
              "min      44.000000 -1230.000000    45.000000 -1158.000000\n",
              "25%      76.250000     0.000000   103.000000    91.000000\n",
              "50%     100.500000    32.000000   132.000000   136.000000\n",
              "75%     118.000000    79.750000   167.000000   182.000000\n",
              "max    1389.000000  9723.000000  9793.000000  9924.000000"
            ],
            "text/html": [
              "\n",
              "  <div id=\"df-e8a18396-48a1-42a3-896b-c4b55eaad75d\">\n",
              "    <div class=\"colab-df-container\">\n",
              "      <div>\n",
              "<style scoped>\n",
              "    .dataframe tbody tr th:only-of-type {\n",
              "        vertical-align: middle;\n",
              "    }\n",
              "\n",
              "    .dataframe tbody tr th {\n",
              "        vertical-align: top;\n",
              "    }\n",
              "\n",
              "    .dataframe thead th {\n",
              "        text-align: right;\n",
              "    }\n",
              "</style>\n",
              "<table border=\"1\" class=\"dataframe\">\n",
              "  <thead>\n",
              "    <tr style=\"text-align: right;\">\n",
              "      <th></th>\n",
              "      <th>HL</th>\n",
              "      <th>IL</th>\n",
              "      <th>PL</th>\n",
              "      <th>RL</th>\n",
              "    </tr>\n",
              "  </thead>\n",
              "  <tbody>\n",
              "    <tr>\n",
              "      <th>count</th>\n",
              "      <td>630.000000</td>\n",
              "      <td>630.000000</td>\n",
              "      <td>630.000000</td>\n",
              "      <td>630.000000</td>\n",
              "    </tr>\n",
              "    <tr>\n",
              "      <th>mean</th>\n",
              "      <td>102.780952</td>\n",
              "      <td>157.731746</td>\n",
              "      <td>260.512698</td>\n",
              "      <td>260.246032</td>\n",
              "    </tr>\n",
              "    <tr>\n",
              "      <th>std</th>\n",
              "      <td>61.438865</td>\n",
              "      <td>791.768638</td>\n",
              "      <td>787.562161</td>\n",
              "      <td>807.077244</td>\n",
              "    </tr>\n",
              "    <tr>\n",
              "      <th>min</th>\n",
              "      <td>44.000000</td>\n",
              "      <td>-1230.000000</td>\n",
              "      <td>45.000000</td>\n",
              "      <td>-1158.000000</td>\n",
              "    </tr>\n",
              "    <tr>\n",
              "      <th>25%</th>\n",
              "      <td>76.250000</td>\n",
              "      <td>0.000000</td>\n",
              "      <td>103.000000</td>\n",
              "      <td>91.000000</td>\n",
              "    </tr>\n",
              "    <tr>\n",
              "      <th>50%</th>\n",
              "      <td>100.500000</td>\n",
              "      <td>32.000000</td>\n",
              "      <td>132.000000</td>\n",
              "      <td>136.000000</td>\n",
              "    </tr>\n",
              "    <tr>\n",
              "      <th>75%</th>\n",
              "      <td>118.000000</td>\n",
              "      <td>79.750000</td>\n",
              "      <td>167.000000</td>\n",
              "      <td>182.000000</td>\n",
              "    </tr>\n",
              "    <tr>\n",
              "      <th>max</th>\n",
              "      <td>1389.000000</td>\n",
              "      <td>9723.000000</td>\n",
              "      <td>9793.000000</td>\n",
              "      <td>9924.000000</td>\n",
              "    </tr>\n",
              "  </tbody>\n",
              "</table>\n",
              "</div>\n",
              "      <button class=\"colab-df-convert\" onclick=\"convertToInteractive('df-e8a18396-48a1-42a3-896b-c4b55eaad75d')\"\n",
              "              title=\"Convert this dataframe to an interactive table.\"\n",
              "              style=\"display:none;\">\n",
              "        \n",
              "  <svg xmlns=\"http://www.w3.org/2000/svg\" height=\"24px\"viewBox=\"0 0 24 24\"\n",
              "       width=\"24px\">\n",
              "    <path d=\"M0 0h24v24H0V0z\" fill=\"none\"/>\n",
              "    <path d=\"M18.56 5.44l.94 2.06.94-2.06 2.06-.94-2.06-.94-.94-2.06-.94 2.06-2.06.94zm-11 1L8.5 8.5l.94-2.06 2.06-.94-2.06-.94L8.5 2.5l-.94 2.06-2.06.94zm10 10l.94 2.06.94-2.06 2.06-.94-2.06-.94-.94-2.06-.94 2.06-2.06.94z\"/><path d=\"M17.41 7.96l-1.37-1.37c-.4-.4-.92-.59-1.43-.59-.52 0-1.04.2-1.43.59L10.3 9.45l-7.72 7.72c-.78.78-.78 2.05 0 2.83L4 21.41c.39.39.9.59 1.41.59.51 0 1.02-.2 1.41-.59l7.78-7.78 2.81-2.81c.8-.78.8-2.07 0-2.86zM5.41 20L4 18.59l7.72-7.72 1.47 1.35L5.41 20z\"/>\n",
              "  </svg>\n",
              "      </button>\n",
              "      \n",
              "  <style>\n",
              "    .colab-df-container {\n",
              "      display:flex;\n",
              "      flex-wrap:wrap;\n",
              "      gap: 12px;\n",
              "    }\n",
              "\n",
              "    .colab-df-convert {\n",
              "      background-color: #E8F0FE;\n",
              "      border: none;\n",
              "      border-radius: 50%;\n",
              "      cursor: pointer;\n",
              "      display: none;\n",
              "      fill: #1967D2;\n",
              "      height: 32px;\n",
              "      padding: 0 0 0 0;\n",
              "      width: 32px;\n",
              "    }\n",
              "\n",
              "    .colab-df-convert:hover {\n",
              "      background-color: #E2EBFA;\n",
              "      box-shadow: 0px 1px 2px rgba(60, 64, 67, 0.3), 0px 1px 3px 1px rgba(60, 64, 67, 0.15);\n",
              "      fill: #174EA6;\n",
              "    }\n",
              "\n",
              "    [theme=dark] .colab-df-convert {\n",
              "      background-color: #3B4455;\n",
              "      fill: #D2E3FC;\n",
              "    }\n",
              "\n",
              "    [theme=dark] .colab-df-convert:hover {\n",
              "      background-color: #434B5C;\n",
              "      box-shadow: 0px 1px 3px 1px rgba(0, 0, 0, 0.15);\n",
              "      filter: drop-shadow(0px 1px 2px rgba(0, 0, 0, 0.3));\n",
              "      fill: #FFFFFF;\n",
              "    }\n",
              "  </style>\n",
              "\n",
              "      <script>\n",
              "        const buttonEl =\n",
              "          document.querySelector('#df-e8a18396-48a1-42a3-896b-c4b55eaad75d button.colab-df-convert');\n",
              "        buttonEl.style.display =\n",
              "          google.colab.kernel.accessAllowed ? 'block' : 'none';\n",
              "\n",
              "        async function convertToInteractive(key) {\n",
              "          const element = document.querySelector('#df-e8a18396-48a1-42a3-896b-c4b55eaad75d');\n",
              "          const dataTable =\n",
              "            await google.colab.kernel.invokeFunction('convertToInteractive',\n",
              "                                                     [key], {});\n",
              "          if (!dataTable) return;\n",
              "\n",
              "          const docLinkHtml = 'Like what you see? Visit the ' +\n",
              "            '<a target=\"_blank\" href=https://colab.research.google.com/notebooks/data_table.ipynb>data table notebook</a>'\n",
              "            + ' to learn more about interactive tables.';\n",
              "          element.innerHTML = '';\n",
              "          dataTable['output_type'] = 'display_data';\n",
              "          await google.colab.output.renderOutput(dataTable, element);\n",
              "          const docLink = document.createElement('div');\n",
              "          docLink.innerHTML = docLinkHtml;\n",
              "          element.appendChild(docLink);\n",
              "        }\n",
              "      </script>\n",
              "    </div>\n",
              "  </div>\n",
              "  "
            ]
          },
          "metadata": {},
          "execution_count": 16
        }
      ]
    },
    {
      "cell_type": "code",
      "source": [
        "user.hist();"
      ],
      "metadata": {
        "colab": {
          "base_uri": "https://localhost:8080/",
          "height": 281
        },
        "id": "9PmEBUY5Fi9f",
        "outputId": "d93b0eab-888f-489e-c4c2-0c003d93810a"
      },
      "execution_count": null,
      "outputs": [
        {
          "output_type": "display_data",
          "data": {
            "text/plain": [
              "<Figure size 432x288 with 4 Axes>"
            ],
            "image/png": "[encoded data removed]"
          },
          "metadata": {
            "needs_background": "light"
          }
        }
      ]
    },
    {
      "cell_type": "code",
      "source": [
        "user_encode"
      ],
      "metadata": {
        "colab": {
          "base_uri": "https://localhost:8080/"
        },
        "id": "RTBGfa_I-PS1",
        "outputId": "54aa86e8-ffe2-4e86-d323-4643c1e7d424"
      },
      "execution_count": null,
      "outputs": [
        {
          "output_type": "execute_result",
          "data": {
            "text/plain": [
              "array([[  0,   0,   0, ..., -59, 109,   0],\n",
              "       [  0,   0,   1, ...,  78, 137, 150],\n",
              "       [  0,   0,   0, ...,   0,  72,  81],\n",
              "       ...,\n",
              "       [  0,   1,   0, ...,  62, 134, 214],\n",
              "       [  0,   0,   0, ..., -57,  95,  68],\n",
              "       [  0,   0,   0, ...,   0, 125,   0]])"
            ]
          },
          "metadata": {},
          "execution_count": 15
        }
      ]
    },
    {
      "cell_type": "code",
      "source": [
        "js_keycode = {'bksp':8,\n",
        "              'tab':9,\n",
        "              'enter':13,\n",
        "              'shift':16,\n",
        "              'ctrl':17,\n",
        "              'alt':18,\n",
        "              'pausebreak':19,\n",
        "              'caps_lock':20, 'capslock':20,\n",
        "              'esc':27,\n",
        "              'space':32, ' ':32,\n",
        "              'pageup':33,\n",
        "              'pagedown':34,\n",
        "              'end':35,\n",
        "              'home':36,\n",
        "              'arw_left':37, 'leftarrow':37,\n",
        "              'arw_up':38, 'uparrow':38,\n",
        "              'arw_right':39, 'rightarrow':39,\n",
        "              'arw_down':40, 'downarrow':40,\n",
        "              'insert':45,\n",
        "              'delete':46,\n",
        "              '0':48, ')':48,\n",
        "              '1':49, '!':49,\n",
        "              '2':50, '@':50,\n",
        "              '3':51, '#':51,\n",
        "              '4':52, '$':52,\n",
        "              '5':53, '%':53,\n",
        "              '6':54, '^':54,\n",
        "              '7':55, '&':55,\n",
        "              '8':56, '*':56,\n",
        "              '9':57, '(':57,\n",
        "              'a':65,\n",
        "              'b':66,\n",
        "              'c':67,\n",
        "              'd':68,\n",
        "              'e':69,\n",
        "              'f':70,\n",
        "              'g':71,\n",
        "              'h':72,\n",
        "              'i':73,\n",
        "              'j':74,\n",
        "              'k':75,\n",
        "              'l':76,\n",
        "              'm':77,\n",
        "              'n':78,\n",
        "              'o':79,\n",
        "              'p':80,\n",
        "              'q':81,\n",
        "              'r':82,\n",
        "              's':83,\n",
        "              't':84,\n",
        "              'u':85,\n",
        "              'v':86,\n",
        "              'w':87,\n",
        "              'x':88,\n",
        "              'y':89,\n",
        "              'z':90,\n",
        "              'leftwindowkey':91,\n",
        "              'rightwindowkey':92,\n",
        "              'selectkey':93,\n",
        "              'numpad0':96,\n",
        "              'numpad1':97,\n",
        "              'numpad2':98,\n",
        "              'numpad3':99,\n",
        "              'numpad4':100,\n",
        "              'numpad5':101,\n",
        "              'numpad6':102,\n",
        "              'numpad7':103,\n",
        "              'numpad8':104,\n",
        "              'numpad9':105,\n",
        "              'multiply':106,\n",
        "              'add':107,\n",
        "              'subtract':109,\n",
        "              'decimalpoint':110,\n",
        "              'divide':111,\n",
        "              'f1':112,\n",
        "              'f2':113,\n",
        "              'f3':114,\n",
        "              'f4':115,\n",
        "              'f5':116,\n",
        "              'f6':117,\n",
        "              'f7':118,\n",
        "              'f8':119,\n",
        "              'f9':120,\n",
        "              'f10':121,\n",
        "              'f11':122,\n",
        "              'f12':123,\n",
        "              'numlock':144,\n",
        "              'scrolllock':145,\n",
        "              'semicolon':186, ';':186, ':':186,\n",
        "              'equalsign':187, '=':187, '+':187,\n",
        "              'comma':188, ',':188,\n",
        "              'dash':189,\n",
        "              'period':190, '.':190,\n",
        "              'forwardslash':191, '/':191, '?':191,\n",
        "              'graveaccent':192,\n",
        "              'openbracket':219,\n",
        "              'backslash':220, '\\\\': 220,\n",
        "              'closebracket':221,\n",
        "              'singlequote':222, '\"':222, \"'\":222}"
      ],
      "metadata": {
        "id": "HTzWmRhOGekI"
      },
      "execution_count": null,
      "outputs": []
    },
    {
      "cell_type": "code",
      "source": [
        "len(js_keycode)"
      ],
      "metadata": {
        "colab": {
          "base_uri": "https://localhost:8080/"
        },
        "id": "2ody6aPdGgkQ",
        "outputId": "f5a3dbfa-cecb-4d9a-bfcf-40fa1987e150"
      },
      "execution_count": null,
      "outputs": [
        {
          "output_type": "execute_result",
          "data": {
            "text/plain": [
              "126"
            ]
          },
          "metadata": {},
          "execution_count": 20
        }
      ]
    },
    {
      "cell_type": "markdown",
      "source": [
        "## TypeNet Prepare for training"
      ],
      "metadata": {
        "id": "xsjKSRkHqr1V"
      }
    },
    {
      "cell_type": "code",
      "execution_count": null,
      "metadata": {
        "id": "C0WjddubS0ak"
      },
      "outputs": [],
      "source": [
        "n_steps = 30\n",
        "window_length = n_steps + 1\n",
        "batch_size = 24\n",
        "train_size = 0.85"
      ]
    },
    {
      "cell_type": "code",
      "execution_count": null,
      "metadata": {
        "id": "uk-ZxTmcX5JM"
      },
      "outputs": [],
      "source": [
        "def split_train_test(user, \n",
        "                     train_size=0.85,\n",
        "                     outliter_quantile=0.95):\n",
        "    user = feature_extractor(data, user)\n",
        "    if outliter_quantile:\n",
        "        user = remove_outliers(user, outliter_quantile)\n",
        "    user = encode_obj(data, user)\n",
        "    split_index = int(user.shape[0] * train_size)\n",
        "    user_train_np = user[:split_index]\n",
        "    user_test_np = user[split_index:]\n",
        "    return user_train_np, user_test_np\n",
        "\n",
        "def tfds_train_test(user_train_np, user_test_np, scaler,\n",
        "                    n_steps=30, window_length=31, batch_size=32, scale_data=True):\n",
        "    user_train_np_s = scaler.transform(user_train_np)\n",
        "    user_test_np_s = scaler.transform(user_test_np)\n",
        "\n",
        "    user_train = tf.data.Dataset.from_tensor_slices(user_train_np)\n",
        "    user_test = tf.data.Dataset.from_tensor_slices(user_test_np)\n",
        "    user_train_s = tf.data.Dataset.from_tensor_slices(user_train_np_s)\n",
        "    user_test_s = tf.data.Dataset.from_tensor_slices(user_test_np_s)\n",
        "\n",
        "    user_train_s = user_train_s.window(window_length, shift=1, drop_remainder=True).flat_map(lambda window: window.batch(window_length)).batch(batch_size)\n",
        "    user_train_in = user_train_s.map(lambda window: (window[:, :n_steps, :], tf.reshape(tf.squeeze(window[:, n_steps:, :-4]), [-1, 80])))\n",
        "    user_train = user_train.window(window_length, shift=1, drop_remainder=True).flat_map(lambda window: window.batch(window_length)).batch(batch_size)\n",
        "    user_train_out = user_train.map(lambda window: window[:, n_steps:, -4:-2])\n",
        "\n",
        "    user_test_s = user_test_s.window(window_length, shift=1, drop_remainder=True).flat_map(lambda window: window.batch(window_length)).batch(batch_size)\n",
        "    user_test_in = user_test_s.map(lambda window: (window[:, :n_steps, :], tf.reshape(tf.squeeze(window[:, n_steps:, :-4]), [-1, 80])))\n",
        "    user_test = user_test.window(window_length, shift=1, drop_remainder=True).flat_map(lambda window: window.batch(window_length)).batch(batch_size)\n",
        "    user_test_out = user_test.map(lambda window: window[:, n_steps:, -4:-2])\n",
        "\n",
        "    return [user_train_in, user_train_out], [user_test_in, user_test_out]"
      ]
    },
    {
      "cell_type": "code",
      "execution_count": null,
      "metadata": {
        "id": "ZO6TmhcHYEXw"
      },
      "outputs": [],
      "source": [
        "%%capture\n",
        "## generate feature scaler: `scaler`\n",
        "user_train_np, _ = split_train_test(data['PARTICIPANT_ID'].unique()[0])\n",
        "for id in data['PARTICIPANT_ID'].unique()[1:]:\n",
        "    curr_train_np, _ = split_train_test(id)\n",
        "    user_train_np = np.vstack([user_train_np, curr_train_np])\n",
        "scaler = feature_scaling(user_train_np, mode='standard')\n",
        "\n",
        "## scale the features and form TFDS datasets\n",
        "user_train_np, user_test_np = split_train_test(data['PARTICIPANT_ID'].unique()[0])\n",
        "[train_in, train_out], [test_in, test_out] = tfds_train_test(user_train_np, user_test_np, scaler)\n",
        "for id in data['PARTICIPANT_ID'].unique()[1:]:\n",
        "    user_train_np, user_test_np = split_train_test(id)\n",
        "    [curr_train_in, curr_train_out], [curr_test_in, curr_test_out] = tfds_train_test(user_train_np, user_test_np, scaler)\n",
        "    train_in = train_in.concatenate(curr_train_in)\n",
        "    train_out = train_out.concatenate(curr_train_out)\n",
        "    test_in = test_in.concatenate(curr_test_in)\n",
        "    test_out = test_out.concatenate(curr_test_out)\n",
        "\n",
        "trainset = tf.data.Dataset.zip((train_in, train_out))\n",
        "testset = tf.data.Dataset.zip((test_in, test_out))"
      ]
    },
    {
      "cell_type": "code",
      "execution_count": null,
      "metadata": {
        "colab": {
          "base_uri": "https://localhost:8080/"
        },
        "id": "r-acQTNeqKJE",
        "outputId": "825536c2-c836-4c60-882b-70549654315e"
      },
      "outputs": [
        {
          "output_type": "stream",
          "name": "stdout",
          "text": [
            "(32, 30, 84) (32, 80)\n"
          ]
        }
      ],
      "source": [
        "for a, b in train_in.take(1):\n",
        "    print(a.shape, b.shape)"
      ]
    },
    {
      "cell_type": "code",
      "source": [
        "for a in train_out.take(1):\n",
        "    print(a.shape)"
      ],
      "metadata": {
        "colab": {
          "base_uri": "https://localhost:8080/"
        },
        "id": "g3-4n7LLrDlZ",
        "outputId": "196ebb1b-32cc-432e-d240-6bc40c5ff59e"
      },
      "execution_count": null,
      "outputs": [
        {
          "output_type": "stream",
          "name": "stdout",
          "text": [
            "(32, 1, 2)\n"
          ]
        }
      ]
    },
    {
      "cell_type": "markdown",
      "metadata": {
        "id": "G7fYMD6YptYL"
      },
      "source": [
        "## TypeNet Model"
      ]
    },
    {
      "cell_type": "code",
      "execution_count": null,
      "metadata": {
        "id": "5HvAWGsaL0gF"
      },
      "outputs": [],
      "source": [
        "%%capture\n",
        "## building the model - 1\n",
        "input_1 = keras.layers.Input(shape=[None, 84], name='0-N char with timestamps')\n",
        "input_2 = keras.layers.Input(shape=[80], name='N+1 char without timestamps')\n",
        "batch_1 = keras.layers.BatchNormalization()(input_1)\n",
        "lstm_1 = keras.layers.LSTM(128, return_sequences=True, recurrent_dropout=0.2)(batch_1)\n",
        "dropout_1 = keras.layers.Dropout(0.5)(lstm_1)\n",
        "batch_2 = keras.layers.BatchNormalization()(dropout_1)\n",
        "lstm_2 = keras.layers.LSTM(128, recurrent_dropout=0.2)(batch_2)\n",
        "concat = keras.layers.concatenate([lstm_2, input_2])\n",
        "reshape = keras.layers.Reshape((208, 1))(concat)\n",
        "gru_1 = keras.layers.GRU(64, recurrent_dropout=0.2)(reshape)\n",
        "output = keras.layers.Dense(2)(gru_1)\n",
        "model = keras.Model(inputs=[input_1, input_2], outputs=[output])"
      ]
    },
    {
      "cell_type": "code",
      "source": [
        "# %%capture\n",
        "# ## building the model - 2\n",
        "# input_1 = keras.layers.Input(shape=[None, 69], name='0-N char with timestamps')\n",
        "# input_2 = keras.layers.Input(shape=[65], name='N+1 char without timestamps')\n",
        "# batch_1 = keras.layers.BatchNormalization()(input_1)\n",
        "# lstm_1 = keras.layers.LSTM(128, return_sequences=True, recurrent_dropout=0.2)(batch_1)\n",
        "# dropout_1 = keras.layers.Dropout(0.5)(lstm_1)\n",
        "# batch_2 = keras.layers.BatchNormalization()(dropout_1)\n",
        "# lstm_2 = keras.layers.LSTM(128, recurrent_dropout=0.2)(batch_2)\n",
        "# concat = keras.layers.concatenate([lstm_2, input_2])\n",
        "# dense_1 = keras.layers.Dense(60, activation='tanh')(concat)\n",
        "# dropout_2 = keras.layers.Dropout(0.5)(dense_1)\n",
        "# output = keras.layers.Dense(2, activation='tanh')(dropout_2)\n",
        "# model = keras.Model(inputs=[input_1, input_2], outputs=[output])"
      ],
      "metadata": {
        "colab": {
          "base_uri": "https://localhost:8080/"
        },
        "id": "0Our8QvxrwEl",
        "outputId": "ed33cfb5-deb0-45e9-b9b2-62ea254a0158"
      },
      "execution_count": null,
      "outputs": [
        {
          "output_type": "stream",
          "name": "stderr",
          "text": [
            "WARNING:tensorflow:Layer lstm_2 will not use cuDNN kernels since it doesn't meet the criteria. It will use a generic GPU kernel as fallback when running on GPU.\n",
            "WARNING:tensorflow:Layer lstm_3 will not use cuDNN kernels since it doesn't meet the criteria. It will use a generic GPU kernel as fallback when running on GPU.\n"
          ]
        }
      ]
    },
    {
      "cell_type": "code",
      "execution_count": null,
      "metadata": {
        "colab": {
          "base_uri": "https://localhost:8080/"
        },
        "id": "XQMnnmIAxZqu",
        "outputId": "02a74ed6-1537-4626-ad9c-89ef67f6b151"
      },
      "outputs": [
        {
          "output_type": "stream",
          "name": "stdout",
          "text": [
            "Model: \"model_4\"\n",
            "__________________________________________________________________________________________________\n",
            " Layer (type)                   Output Shape         Param #     Connected to                     \n",
            "==================================================================================================\n",
            " 0-N char with timestamps (Inpu  [(None, None, 84)]  0           []                               \n",
            " tLayer)                                                                                          \n",
            "                                                                                                  \n",
            " batch_normalization_10 (BatchN  (None, None, 84)    336         ['0-N char with timestamps[0][0]'\n",
            " ormalization)                                                   ]                                \n",
            "                                                                                                  \n",
            " lstm_10 (LSTM)                 (None, None, 128)    109056      ['batch_normalization_10[0][0]'] \n",
            "                                                                                                  \n",
            " dropout_5 (Dropout)            (None, None, 128)    0           ['lstm_10[0][0]']                \n",
            "                                                                                                  \n",
            " batch_normalization_11 (BatchN  (None, None, 128)   512         ['dropout_5[0][0]']              \n",
            " ormalization)                                                                                    \n",
            "                                                                                                  \n",
            " lstm_11 (LSTM)                 (None, 128)          131584      ['batch_normalization_11[0][0]'] \n",
            "                                                                                                  \n",
            " N+1 char without timestamps (I  [(None, 80)]        0           []                               \n",
            " nputLayer)                                                                                       \n",
            "                                                                                                  \n",
            " concatenate_5 (Concatenate)    (None, 208)          0           ['lstm_11[0][0]',                \n",
            "                                                                  'N+1 char without timestamps[0][\n",
            "                                                                 0]']                             \n",
            "                                                                                                  \n",
            " reshape_5 (Reshape)            (None, 208, 1)       0           ['concatenate_5[0][0]']          \n",
            "                                                                                                  \n",
            " gru_4 (GRU)                    (None, 64)           12864       ['reshape_5[0][0]']              \n",
            "                                                                                                  \n",
            " dense_4 (Dense)                (None, 2)            130         ['gru_4[0][0]']                  \n",
            "                                                                                                  \n",
            "==================================================================================================\n",
            "Total params: 254,482\n",
            "Trainable params: 254,058\n",
            "Non-trainable params: 424\n",
            "__________________________________________________________________________________________________\n"
          ]
        }
      ],
      "source": [
        "model.summary()"
      ]
    },
    {
      "cell_type": "code",
      "execution_count": null,
      "metadata": {
        "id": "r41U8tW7FM2j"
      },
      "outputs": [],
      "source": [
        "## callbakcs\n",
        "checkpoint_filepath = '/tmp/checkpoint'\n",
        "checkpoint = tf.keras.callbacks.ModelCheckpoint(filepath=checkpoint_filepath,\n",
        "                                                save_weights_only=True,\n",
        "                                                monitor='loss',\n",
        "                                                mode='min',\n",
        "                                                save_best_only=True)\n",
        "earlystopping = tf.keras.callbacks.EarlyStopping(monitor='loss', patience=3)\n",
        "tensorboard = tf.keras.callbacks.TensorBoard(log_dir=\"./logs\")"
      ]
    },
    {
      "cell_type": "code",
      "execution_count": null,
      "metadata": {
        "colab": {
          "base_uri": "https://localhost:8080/"
        },
        "id": "BLJ5JEzcxqHc",
        "outputId": "a74875f8-a071-4bd5-aa86-d7ed3e9d5ee6"
      },
      "outputs": [
        {
          "output_type": "stream",
          "name": "stdout",
          "text": [
            "Epoch 1/30\n",
            "2565/2565 [==============================] - 1004s 387ms/step - loss: 20603.8594 - mse: 20585.6270 - val_loss: 19942.0508 - val_mse: 19920.2188\n",
            "Epoch 2/30\n",
            "2565/2565 [==============================] - 980s 382ms/step - loss: 20300.7988 - mse: 20282.6348 - val_loss: 19748.2441 - val_mse: 19721.6172\n",
            "Epoch 3/30\n",
            "2565/2565 [==============================] - 992s 387ms/step - loss: 20221.0020 - mse: 20202.5918 - val_loss: 19729.1016 - val_mse: 19701.5723\n",
            "Epoch 4/30\n",
            "2565/2565 [==============================] - 992s 387ms/step - loss: 20210.3340 - mse: 20191.8828 - val_loss: 19726.0977 - val_mse: 19698.4062\n",
            "Epoch 5/30\n",
            "2565/2565 [==============================] - 997s 389ms/step - loss: 20240.9531 - mse: 20222.2715 - val_loss: 19788.2637 - val_mse: 19763.5352\n",
            "Epoch 6/30\n",
            "2565/2565 [==============================] - 1001s 390ms/step - loss: 20244.7305 - mse: 20226.4277 - val_loss: 19759.6484 - val_mse: 19733.6250\n",
            "Epoch 7/30\n",
            "2565/2565 [==============================] - 997s 389ms/step - loss: 20221.8848 - mse: 20203.6172 - val_loss: 19738.9707 - val_mse: 19711.1777\n"
          ]
        }
      ],
      "source": [
        "model.compile(optimizer=tf.keras.optimizers.Adam(1e-3), loss='mse', metrics=['mse'])\n",
        "EPOCH = 30\n",
        "history = model.fit(trainset, epochs=EPOCH,\n",
        "                    validation_data=testset,\n",
        "                    callbacks=[earlystopping])"
      ]
    },
    {
      "cell_type": "code",
      "source": [
        "for feature, label in testset.take(1):\n",
        "    y_pred = model.predict(feature)\n",
        "    y_true = np.squeeze(label)"
      ],
      "metadata": {
        "id": "Vs8G_l1KMzKC"
      },
      "execution_count": null,
      "outputs": []
    },
    {
      "cell_type": "code",
      "source": [
        "def invert_scaling(x):\n",
        "    x = np.concatenate([np.zeros((x.shape[0], 65)), x, np.zeros((x.shape[0], 2))], axis=1)\n",
        "    return scaler.inverse_transform(x)[:, 65:67]"
      ],
      "metadata": {
        "id": "-WiXxnB_a5wn"
      },
      "execution_count": null,
      "outputs": []
    },
    {
      "cell_type": "code",
      "source": [
        "invert_scaling(y)"
      ],
      "metadata": {
        "colab": {
          "base_uri": "https://localhost:8080/"
        },
        "id": "nQr39bQGozk6",
        "outputId": "4f48af5c-5275-4d6e-fdd2-8f07928436bb"
      },
      "execution_count": null,
      "outputs": [
        {
          "output_type": "execute_result",
          "data": {
            "text/plain": [
              "array([[121., -16.],\n",
              "       [ 93.,  16.],\n",
              "       [102.,   0.],\n",
              "       [ 52.,  93.],\n",
              "       [ 72.,  79.],\n",
              "       [ 56.,  33.],\n",
              "       [130., -32.],\n",
              "       [ 68.,  31.],\n",
              "       [105., -36.],\n",
              "       [ 82., 127.],\n",
              "       [ 61.,  46.],\n",
              "       [117.,  15.],\n",
              "       [102.,  16.],\n",
              "       [ 67.,  63.],\n",
              "       [104., -59.],\n",
              "       [ 75.,  62.],\n",
              "       [ 88.,  79.],\n",
              "       [ 57.,  64.],\n",
              "       [114.,  31.],\n",
              "       [124., -35.],\n",
              "       [ 52.,  94.],\n",
              "       [118., 125.],\n",
              "       [110.,   0.],\n",
              "       [111.,   0.],\n",
              "       [116.,  15.],\n",
              "       [103., 297.],\n",
              "       [103.,   0.],\n",
              "       [115.,  47.],\n",
              "       [ 73.,  62.],\n",
              "       [125., -53.],\n",
              "       [114.,  31.],\n",
              "       [118., -32.]])"
            ]
          },
          "metadata": {},
          "execution_count": 72
        }
      ]
    },
    {
      "cell_type": "code",
      "source": [
        "invert_scaling(x)"
      ],
      "metadata": {
        "colab": {
          "base_uri": "https://localhost:8080/"
        },
        "id": "dLQ1GCSMgx45",
        "outputId": "ab58758f-c34d-4feb-b484-d7a974236360"
      },
      "execution_count": null,
      "outputs": [
        {
          "output_type": "execute_result",
          "data": {
            "text/plain": [
              "array([[106.44613645, 159.00277986],\n",
              "       [106.44613645, 159.00277975],\n",
              "       [106.44613619, 159.00277964],\n",
              "       [106.44613645, 159.00277986],\n",
              "       [106.44613645, 159.00277986],\n",
              "       [106.44613645, 159.00277975],\n",
              "       [106.44613658, 159.00277948],\n",
              "       [106.44613658, 159.00277964],\n",
              "       [106.44613645, 159.0027798 ],\n",
              "       [106.44613645, 159.00277975],\n",
              "       [106.44613645, 159.00277975],\n",
              "       [106.44613645, 159.00277975],\n",
              "       [106.44613658, 159.00277937],\n",
              "       [106.44613645, 159.00277975],\n",
              "       [106.44613658, 159.00277937],\n",
              "       [106.44613645, 159.00277975],\n",
              "       [106.44613658, 159.00277986],\n",
              "       [106.44613632, 159.0027791 ],\n",
              "       [106.44613645, 159.0027798 ],\n",
              "       [106.4461371 , 159.00278116],\n",
              "       [106.44613645, 159.00277986],\n",
              "       [106.44613645, 159.00277975],\n",
              "       [106.44613658, 159.00277942],\n",
              "       [106.44613645, 159.00277975],\n",
              "       [106.44613645, 159.0027797 ],\n",
              "       [106.44613645, 159.0027797 ],\n",
              "       [106.44608639, 159.00277357],\n",
              "       [106.44613645, 159.0027797 ],\n",
              "       [106.44613658, 159.00277975],\n",
              "       [106.44613619, 159.00277953],\n",
              "       [106.44613645, 159.00277975],\n",
              "       [106.44613645, 159.00277975]])"
            ]
          },
          "metadata": {},
          "execution_count": 71
        }
      ]
    },
    {
      "cell_type": "code",
      "source": [],
      "metadata": {
        "id": "vAddRbL6oxWM"
      },
      "execution_count": null,
      "outputs": []
    }
  ],
  "metadata": {
    "accelerator": "GPU",
    "colab": {
      "collapsed_sections": [
        "-_gk1hmAwQ8p"
      ],
      "provenance": []
    },
    "gpuClass": "standard",
    "kernelspec": {
      "display_name": "Python 3",
      "name": "python3"
    },
    "language_info": {
      "name": "python"
    }
  },
  "nbformat": 4,
  "nbformat_minor": 0
}